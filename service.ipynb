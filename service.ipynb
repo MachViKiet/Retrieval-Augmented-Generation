{
 "cells": [
  {
   "cell_type": "code",
   "execution_count": 1,
   "metadata": {},
   "outputs": [],
   "source": [
    "import pandas as pd\n",
    "from framework.storages.database.ChromaDB import ChromaDB\n",
    "from framework.models.language_models.IBMModel import IBMModel"
   ]
  },
  {
   "cell_type": "code",
   "execution_count": 13,
   "metadata": {},
   "outputs": [
    {
     "name": "stdout",
     "output_type": "stream",
     "text": [
      "The document contains the following text:\n",
      "BỘ GIÁO DỤC VÀ ĐÀO TẠO\n",
      "Số: 29/2023/TT-BGDĐT\n",
      "ĐẠI HỌC QUỐC GIA TP.HCM\n",
      "Số đến:\n",
      "CÔNG VĂN ĐẾN\n",
      "Ngày đến:\n",
      "211.\n",
      "11/01/2024\n",
      "CỘNG HÒA XÃ HỘI CHỦ NGHĨA VIỆT NAM\n",
      "Độc lập – Tự do - Hạnh phúc\n",
      "Hà Nội, ngày 29 tháng 12 năm 2023\n",
      "THÔNG TƯ\n",
      "Quy định chi tiết thi hành một số điều của Luật Thi đua, khen thưởng\n",
      "đối với ngành Giáo dục\n"
     ]
    }
   ],
   "source": [
    "print(df['Content'][0])"
   ]
  },
  {
   "cell_type": "code",
   "execution_count": 14,
   "metadata": {},
   "outputs": [
    {
     "name": "stdout",
     "output_type": "stream",
     "text": [
      "đối với ngành Giáo dục\n",
      "Căn cứ Luật Thi đua, khen thưởng ngày 15 tháng 6 năm 2022;\n",
      "Căn cứ Nghị định số 86/2022/NĐ-CP ngày 24 tháng 10 năm 2022 của\n",
      "Chính phủ quy định chức năng, nhiệm vụ, quyền hạn và cơ cấu tổ chức của Bộ\n",
      "Giáo dục và Đào tạo;\n",
      "Theo đề nghị của Vụ trưởng Vụ Tổ chức cán bộ;\n",
      "Bộ trưởng Bộ Giáo dục và Đào tạo ban hành Thông tư quy định chi tiết\n",
      "thi hành một số\n"
     ]
    }
   ],
   "source": [
    "print(df['Content'][1])"
   ]
  },
  {
   "cell_type": "code",
   "execution_count": 15,
   "metadata": {},
   "outputs": [
    {
     "name": "stdout",
     "output_type": "stream",
     "text": [
      "thi hành một số\n",
      "điều của Luật Thi đua, khen thưởng đối với ngành Giáo dục.\n",
      "Điều 1. Phạm vi điều chỉnh và đối tượng áp dụng\n",
      "1. Thông tư này quy định chi tiết thi hành khoản 4 Điều 24, khoản 3 Điều\n",
      "26, khoản 3 Điều 27, khoản 3 Điều 28, khoản 3 Điều 32, khoản 2 Điều 71,\n",
      "khoản 6 Điều 74, khoản 2 Điều 75, khoản 3 và khoản 4 Điều 76, khoản 6 Điều\n",
      "84 của Luật Thi đua, khen thưởng.\n"
     ]
    }
   ],
   "source": [
    "print(df['Content'][2])"
   ]
  },
  {
   "cell_type": "code",
   "execution_count": 16,
   "metadata": {},
   "outputs": [],
   "source": [
    "db = ChromaDB()\n",
    "collection = db.create_collection('test')"
   ]
  },
  {
   "cell_type": "code",
   "execution_count": 17,
   "metadata": {},
   "outputs": [],
   "source": [
    "df = pd.read_csv(\"documentation/TT 29 TDKT.csv\")\n",
    "# Truy xuất metadata theo đúng format\n",
    "## TODO: Sau này nên có hàm hỗ trợ việc này (utils)\n",
    "metas = [\n",
    "    {\n",
    "        \"Title\": val[0],\n",
    "        \"Chunk ID\": val[1]\n",
    "    }\n",
    "    for val in df.values\n",
    "]"
   ]
  },
  {
   "cell_type": "code",
   "execution_count": 18,
   "metadata": {},
   "outputs": [
    {
     "name": "stderr",
     "output_type": "stream",
     "text": [
      "Insert of existing embedding ID: 1\n",
      "Insert of existing embedding ID: 2\n",
      "Insert of existing embedding ID: 3\n",
      "Insert of existing embedding ID: 4\n",
      "Insert of existing embedding ID: 5\n",
      "Insert of existing embedding ID: 6\n",
      "Insert of existing embedding ID: 7\n",
      "Insert of existing embedding ID: 8\n",
      "Insert of existing embedding ID: 9\n",
      "Insert of existing embedding ID: 10\n",
      "Insert of existing embedding ID: 11\n",
      "Insert of existing embedding ID: 12\n",
      "Insert of existing embedding ID: 13\n",
      "Insert of existing embedding ID: 14\n",
      "Insert of existing embedding ID: 15\n",
      "Insert of existing embedding ID: 16\n",
      "Insert of existing embedding ID: 17\n",
      "Insert of existing embedding ID: 18\n",
      "Insert of existing embedding ID: 19\n",
      "Insert of existing embedding ID: 20\n",
      "Insert of existing embedding ID: 21\n",
      "Insert of existing embedding ID: 22\n",
      "Insert of existing embedding ID: 23\n",
      "Insert of existing embedding ID: 24\n",
      "Insert of existing embedding ID: 25\n",
      "Insert of existing embedding ID: 26\n",
      "Insert of existing embedding ID: 27\n",
      "Insert of existing embedding ID: 28\n",
      "Insert of existing embedding ID: 29\n",
      "Insert of existing embedding ID: 30\n",
      "Insert of existing embedding ID: 31\n",
      "Insert of existing embedding ID: 32\n",
      "Insert of existing embedding ID: 33\n",
      "Insert of existing embedding ID: 34\n",
      "Insert of existing embedding ID: 35\n",
      "Insert of existing embedding ID: 36\n",
      "Insert of existing embedding ID: 37\n",
      "Insert of existing embedding ID: 38\n",
      "Insert of existing embedding ID: 39\n",
      "Insert of existing embedding ID: 40\n",
      "Insert of existing embedding ID: 41\n",
      "Insert of existing embedding ID: 42\n",
      "Insert of existing embedding ID: 43\n",
      "Insert of existing embedding ID: 44\n",
      "Insert of existing embedding ID: 45\n",
      "Insert of existing embedding ID: 46\n",
      "Insert of existing embedding ID: 47\n",
      "Insert of existing embedding ID: 48\n",
      "Insert of existing embedding ID: 49\n",
      "Insert of existing embedding ID: 50\n",
      "Insert of existing embedding ID: 51\n",
      "Insert of existing embedding ID: 52\n",
      "Insert of existing embedding ID: 53\n",
      "Insert of existing embedding ID: 54\n",
      "Insert of existing embedding ID: 55\n",
      "Insert of existing embedding ID: 56\n",
      "Insert of existing embedding ID: 57\n",
      "Insert of existing embedding ID: 58\n",
      "Insert of existing embedding ID: 59\n",
      "Insert of existing embedding ID: 60\n",
      "Insert of existing embedding ID: 61\n",
      "Insert of existing embedding ID: 62\n",
      "Insert of existing embedding ID: 63\n",
      "Insert of existing embedding ID: 64\n",
      "Insert of existing embedding ID: 65\n",
      "Insert of existing embedding ID: 66\n",
      "Insert of existing embedding ID: 67\n",
      "Insert of existing embedding ID: 68\n",
      "Insert of existing embedding ID: 69\n",
      "Insert of existing embedding ID: 70\n",
      "Insert of existing embedding ID: 71\n",
      "Insert of existing embedding ID: 72\n",
      "Insert of existing embedding ID: 73\n",
      "Insert of existing embedding ID: 74\n",
      "Insert of existing embedding ID: 75\n",
      "Insert of existing embedding ID: 76\n",
      "Insert of existing embedding ID: 77\n",
      "Insert of existing embedding ID: 78\n",
      "Add of existing embedding ID: 1\n",
      "Add of existing embedding ID: 2\n",
      "Add of existing embedding ID: 3\n",
      "Add of existing embedding ID: 4\n",
      "Add of existing embedding ID: 5\n",
      "Add of existing embedding ID: 6\n",
      "Add of existing embedding ID: 7\n",
      "Add of existing embedding ID: 8\n",
      "Add of existing embedding ID: 9\n",
      "Add of existing embedding ID: 10\n",
      "Add of existing embedding ID: 11\n",
      "Add of existing embedding ID: 12\n",
      "Add of existing embedding ID: 13\n",
      "Add of existing embedding ID: 14\n",
      "Add of existing embedding ID: 15\n",
      "Add of existing embedding ID: 16\n",
      "Add of existing embedding ID: 17\n",
      "Add of existing embedding ID: 18\n",
      "Add of existing embedding ID: 19\n",
      "Add of existing embedding ID: 20\n",
      "Add of existing embedding ID: 21\n",
      "Add of existing embedding ID: 22\n",
      "Add of existing embedding ID: 23\n",
      "Add of existing embedding ID: 24\n",
      "Add of existing embedding ID: 25\n",
      "Add of existing embedding ID: 26\n",
      "Add of existing embedding ID: 27\n",
      "Add of existing embedding ID: 28\n",
      "Add of existing embedding ID: 29\n",
      "Add of existing embedding ID: 30\n",
      "Add of existing embedding ID: 31\n",
      "Add of existing embedding ID: 32\n",
      "Add of existing embedding ID: 33\n",
      "Add of existing embedding ID: 34\n",
      "Add of existing embedding ID: 35\n",
      "Add of existing embedding ID: 36\n",
      "Add of existing embedding ID: 37\n",
      "Add of existing embedding ID: 38\n",
      "Add of existing embedding ID: 39\n",
      "Add of existing embedding ID: 40\n",
      "Add of existing embedding ID: 41\n",
      "Add of existing embedding ID: 42\n",
      "Add of existing embedding ID: 43\n",
      "Add of existing embedding ID: 44\n",
      "Add of existing embedding ID: 45\n",
      "Add of existing embedding ID: 46\n",
      "Add of existing embedding ID: 47\n",
      "Add of existing embedding ID: 48\n",
      "Add of existing embedding ID: 49\n",
      "Add of existing embedding ID: 50\n",
      "Add of existing embedding ID: 51\n",
      "Add of existing embedding ID: 52\n",
      "Add of existing embedding ID: 53\n",
      "Add of existing embedding ID: 54\n",
      "Add of existing embedding ID: 55\n",
      "Add of existing embedding ID: 56\n",
      "Add of existing embedding ID: 57\n",
      "Add of existing embedding ID: 58\n",
      "Add of existing embedding ID: 59\n",
      "Add of existing embedding ID: 60\n",
      "Add of existing embedding ID: 61\n",
      "Add of existing embedding ID: 62\n",
      "Add of existing embedding ID: 63\n",
      "Add of existing embedding ID: 64\n",
      "Add of existing embedding ID: 65\n",
      "Add of existing embedding ID: 66\n",
      "Add of existing embedding ID: 67\n",
      "Add of existing embedding ID: 68\n",
      "Add of existing embedding ID: 69\n",
      "Add of existing embedding ID: 70\n",
      "Add of existing embedding ID: 71\n",
      "Add of existing embedding ID: 72\n",
      "Add of existing embedding ID: 73\n",
      "Add of existing embedding ID: 74\n",
      "Add of existing embedding ID: 75\n",
      "Add of existing embedding ID: 76\n",
      "Add of existing embedding ID: 77\n",
      "Add of existing embedding ID: 78\n"
     ]
    },
    {
     "name": "stdout",
     "output_type": "stream",
     "text": [
      "Đã đọc tài liệu + Tạo vector database in-memory (ChromaDB)\n",
      "Kho dữ liệu có 78 dòng\n"
     ]
    }
   ],
   "source": [
    "db.add_documents(collection, documents=list(df['Content'].values), metadatas=metas)\n",
    "print(\"Đã đọc tài liệu + Tạo vector database in-memory (ChromaDB)\")\n",
    "print(\"Kho dữ liệu có\", collection.count(), \"dòng\")"
   ]
  },
  {
   "cell_type": "code",
   "execution_count": 19,
   "metadata": {},
   "outputs": [
    {
     "name": "stdout",
     "output_type": "stream",
     "text": [
      "Khởi tạo mô hình thành công\n"
     ]
    }
   ],
   "source": [
    "model_id = \"mistralai/mistral-large\"\n",
    "apikey = \"XY6YolsO_sW5fIzdKlQyZqUNt0uBfylcWrxxJ46UIhIw\"\n",
    "credentials = {\n",
    "    \"url\": \"https://us-south.ml.cloud.ibm.com\",\n",
    "    \"apikey\": apikey\n",
    "}\n",
    "parameters = {\n",
    "    \"decoding_method\": \"greedy\", #Đổi sang sampling thì mô hình sẽ \"sáng tạo\" hơn\n",
    "    \"max_new_tokens\": 300, #Chiều dài tối đa cho output - để đề phòng mô hình nói nhiều\n",
    "    \"repetition_penalty\": 1 #Giá trị từ 1-2 (1 thì mô hình luôn trả lời y chang, 2 thì ngược lại)\n",
    "}\n",
    "project_id = \"b2ce1b2d-0641-4d0e-95cb-39f7dca76da1\"\n",
    "\n",
    "model = IBMModel(model_id, credentials, project_id, parameters)\n",
    "print(\"Khởi tạo mô hình thành công\")"
   ]
  },
  {
   "cell_type": "code",
   "execution_count": 20,
   "metadata": {},
   "outputs": [
    {
     "name": "stdout",
     "output_type": "stream",
     "text": [
      "Tìm kiếm trong kho dữ liệu thành công\n"
     ]
    }
   ],
   "source": [
    "query = \"Đối tượng áp dụng thông tư\"\n",
    "\n",
    "\n",
    "results = db.search(collection, query, n_results=3)\n",
    "print(\"Tìm kiếm trong kho dữ liệu thành công\")\n",
    "context = \"\"\n",
    "results = results['documents'][0]\n",
    "for r in results:\n",
    "    context = context + r + '\\n\\n'\n",
    "prompt = f\"\"\"Bạn là một trợ lý ảo. Hãy trả lời câu hỏi của người dùng dựa trên ngữ cảnh được cung cấp bên dưới. Hãy trả lời bằng tiếng Việt. Nếu bạn không thể trả lời câu hỏi với ngữ cảnh được cho, hãy trả lời tôi không biết.\n",
    "Tuyệt đối không đưa thông tin sai sự thật. Luôn trả lời bằng giọng điệu tích cực và không chứa hàm ý tấn công đến bất kỳ một cá nhân chủng tộc nào.\n",
    "\n",
    "NGỮ CẢNH:\n",
    "{context}\n",
    "\n",
    "CÂU HỎI: {query}\n",
    "\"\"\""
   ]
  },
  {
   "cell_type": "code",
   "execution_count": 21,
   "metadata": {},
   "outputs": [
    {
     "name": "stdout",
     "output_type": "stream",
     "text": [
      "Bạn là một trợ lý ảo. Hãy trả lời câu hỏi của người dùng dựa trên ngữ cảnh được cung cấp bên dưới. Hãy trả lời bằng tiếng Việt. Nếu bạn không thể trả lời câu hỏi với ngữ cảnh được cho, hãy trả lời tôi không biết.\n",
      "Tuyệt đối không đưa thông tin sai sự thật. Luôn trả lời bằng giọng điệu tích cực và không chứa hàm ý tấn công đến bất kỳ một cá nhân chủng tộc nào.\n",
      "\n",
      "NGỮ CẢNH:\n",
      "thưởng của đơn vị trình.\n",
      "Điều 15. Hiệu lực thi hành và trách nhiệm thi hành\n",
      "1. Thông tư này có hiệu lực thi hành kể từ ngày 15 tháng 02 năm 2024\n",
      "và thay thế Thông tư số 21/2020/TT-BGDĐT ngày 31 tháng 7 năm 2020 của\n",
      "Bộ trưởng Bộ Giáo dục và Đào tạo hướng dẫn công tác thi đua, khen thưởng\n",
      "ngành Giáo dục.\n",
      "Urew\n",
      "11\n",
      "2. Trường hợp các văn bản quy phạm pháp luật được dẫn chiếu tại Thông\n",
      "\n",
      "84 của Luật Thi đua, khen thưởng.\n",
      "2. Thông tư này áp dụng đối với tập thể, cán bộ, công chức, viên chức,\n",
      "người lao động trong ngành Giáo dục; người học; tập thể, hộ gia đình, cá nhân\n",
      "người Việt Nam, người Việt Nam định cư ở nước ngoài; tập thể và người nước\n",
      "ngoài có thành tích đóng góp cho sự nghiệp xây dựng và phát triển giáo dục, đào\n",
      "\n",
      "theo chế độ bảo hiểm xã hội, chưa được Bộ trưởng Bộ Giáo dục và Đào tạo tặng\n",
      "Bằng khen.\n",
      "дреб\n",
      "6\n",
      "2. Bằng khen của Bộ trưởng Bộ Giáo dục và Đào tạo để tặng cho tập thể\n",
      "mẫu chấp hành tốt chủ trương của Đảng, chính sách, pháp luật của Nhà\n",
      "nước, nội bộ đoàn kết, đạt một trong các tiêu chuẩn sau:\n",
      "gương\n",
      "a) Đạt tiêu chuẩn như quy định tại điểm a khoản 1 Điều này;\n",
      "\n",
      "\n",
      "\n",
      "CÂU HỎI: Đối tượng áp dụng thông tư\n",
      "\n"
     ]
    }
   ],
   "source": [
    "print(prompt)"
   ]
  },
  {
   "cell_type": "code",
   "execution_count": 22,
   "metadata": {},
   "outputs": [
    {
     "name": "stdout",
     "output_type": "stream",
     "text": [
      "Câu hỏi query: Đối tượng áp dụng thông tư\n",
      "---------------\n",
      "\n",
      "TRẢ LỜI: Thông tư này áp dụng đối với tập thể, cán bộ, công chức, viên chức, người lao động trong ngành Giáo dục; người học; tập thể, hộ gia đình, cá nhân người Việt Nam, người Việt Nam định cư ở nước ngoài; tập thể và người nước ngoài có thành tích đóng góp cho sự nghiệp xây dựng và phát triển giáo dục, đào tạo.\n"
     ]
    }
   ],
   "source": [
    "response = model.generate(prompt)\n",
    "print(\"Câu hỏi query:\", query)\n",
    "print(\"---------------\")\n",
    "print(response)"
   ]
  },
  {
   "cell_type": "code",
   "execution_count": null,
   "metadata": {},
   "outputs": [],
   "source": []
  }
 ],
 "metadata": {
  "kernelspec": {
   "display_name": "Python 3",
   "language": "python",
   "name": "python3"
  },
  "language_info": {
   "codemirror_mode": {
    "name": "ipython",
    "version": 3
   },
   "file_extension": ".py",
   "mimetype": "text/x-python",
   "name": "python",
   "nbconvert_exporter": "python",
   "pygments_lexer": "ipython3",
   "version": "3.11.9"
  }
 },
 "nbformat": 4,
 "nbformat_minor": 2
}
