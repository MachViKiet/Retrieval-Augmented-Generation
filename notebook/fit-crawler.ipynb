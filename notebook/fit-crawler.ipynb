{
 "cells": [
  {
   "cell_type": "markdown",
   "metadata": {},
   "source": [
    "# Import libraries"
   ]
  },
  {
   "cell_type": "code",
   "execution_count": 50,
   "metadata": {},
   "outputs": [],
   "source": [
    "import requests \n",
    "from bs4 import BeautifulSoup\n",
    "import asyncio\n",
    "import aiohttp\n",
    "import json\n",
    "import random "
   ]
  },
  {
   "cell_type": "markdown",
   "metadata": {},
   "source": [
    "# Some website infos"
   ]
  },
  {
   "cell_type": "code",
   "execution_count": 51,
   "metadata": {},
   "outputs": [],
   "source": [
    "headers = {\n",
    "    'User-Agent': 'Mozilla/5.0 (Windows NT 10.0; Win64; x64) AppleWebKit/537.36 (KHTML, like Gecko) Chrome/127.0.0.0 Safari/537.36'\n",
    "}"
   ]
  },
  {
   "cell_type": "code",
   "execution_count": 52,
   "metadata": {},
   "outputs": [],
   "source": [
    "baseURL = 'https://www.fit.hcmus.edu.vn'\n",
    "\n",
    "links = [\n",
    "    '/tin-tuc/c/thong-bao-chung',\n",
    "    '/tin-tuc/c/thong-tin-hoc-bong',\n",
    "    '/tin-tuc/c/thong-bao-he-chinh-quy',\n",
    "    '/tin-tuc/c/thong-bao-he-hoan-chinh',\n",
    "    '/tin-tuc/c/thong-bao-sau-dai-hoc',\n",
    "    '/tin-tuc/c/thong-tin-tuyen-dung',\n",
    "    '/tin-tuc/c/thong-tin-lien-thong-dh-ths',\n",
    "    '/tin-tuc/c/goc-se-chia'\n",
    "]"
   ]
  },
  {
   "cell_type": "code",
   "execution_count": 53,
   "metadata": {},
   "outputs": [
    {
     "data": {
      "text/plain": [
       "'https://www.fit.hcmus.edu.vn/'"
      ]
     },
     "execution_count": 53,
     "metadata": {},
     "output_type": "execute_result"
    }
   ],
   "source": [
    "re = requests.get(baseURL, headers=headers)\n",
    "re.url"
   ]
  },
  {
   "cell_type": "markdown",
   "metadata": {},
   "source": [
    "# Create Crawler class"
   ]
  },
  {
   "cell_type": "code",
   "execution_count": 80,
   "metadata": {},
   "outputs": [],
   "source": [
    "class Crawler:\n",
    "    def __init__(self, baseURL, headers, seeds: list) -> None:\n",
    "        self.baseurl = baseURL\n",
    "        self.headers = headers\n",
    "        self.links = [baseURL + seed for seed in seeds] #Construct complete links\n",
    "        self.crawl_logic=None\n",
    "\n",
    "    async def fetch(self, session, url, params=None):\n",
    "        delay = random.uniform(2,7) #Assign a random delay to prevent banning from too many requests\n",
    "        await asyncio.sleep(delay)\n",
    "        async with session.get(url, headers=self.headers, params=params) as response:\n",
    "            print(\"Crawled:\",url)\n",
    "            text = await response.text()\n",
    "            result = json.dumps({\n",
    "                'url': url,\n",
    "                'text': text\n",
    "            })\n",
    "            return result\n",
    "        \n",
    "    async def _crawl(self, depth=1, crawl_logic=None):\n",
    "        async with aiohttp.ClientSession() as session:\n",
    "            tasks = []\n",
    "            for page in range(1,depth+1):\n",
    "                for url in self.links:\n",
    "                    task = self.fetch(session, url, params={'p': page})\n",
    "                    tasks.append(task)\n",
    "                    \n",
    "            responses = await asyncio.gather(*tasks)\n",
    "            if crawl_logic is None:\n",
    "                return responses\n",
    "            else: # If the user assign an extra filtering function\n",
    "                return [crawl_logic(response) for response in responses] \n",
    "\n",
    "    # async def crawl(self, crawl_logic, depth):\n",
    "    #     self.crawl_logic = crawl_logic\n",
    "    #     loop = asyncio.get_event_loop()\n",
    "    #     results = loop.run_until_complete(self._crawl(depth))\n",
    "    #     return results\n",
    "\n",
    "    def make_urls(self, links):\n",
    "        return [self.baseurl + link for link in links]\n",
    "    \n",
    "    def make_url(self, link):\n",
    "        return self.baseurl + link\n"
   ]
  },
  {
   "cell_type": "code",
   "execution_count": 81,
   "metadata": {},
   "outputs": [],
   "source": [
    "def extract_web_links(response):\n",
    "    response = json.loads(response)\n",
    "    soup = BeautifulSoup(response['text'])\n",
    "    # Find all <a> tags that contain href attributes starting with '/tin-tuc/'\n",
    "    news_links = soup.find_all('a', href=True)\n",
    "\n",
    "    # Filter the links that start with '/tin-tuc/'\n",
    "    filtered_links = [a['href'] for a in news_links if a['href'].startswith('/tin-tuc/d')]\n",
    "    return list(set(filtered_links))\n",
    "\n",
    "def extract_news_content(response):\n",
    "    response = json.loads(response)\n",
    "    soup = BeautifulSoup(response['text'])\n",
    "    article = soup.find('article').get_text()\n",
    "    title = soup.find('h1').get_text()\n",
    "    file_links = soup.find_all('a', attrs={'download': True})\n",
    "    file_links = [link['href'] for link in file_links]\n",
    "\n",
    "    # print(article)\n",
    "    # print('-----------')\n",
    "    # print(file_links)\n",
    "    return {\n",
    "        'title': title,\n",
    "        'article': article,\n",
    "        'file_links': file_links,\n",
    "        'url': response['url']\n",
    "    }"
   ]
  },
  {
   "cell_type": "markdown",
   "metadata": {},
   "source": [
    "# Initialize crawler"
   ]
  },
  {
   "cell_type": "code",
   "execution_count": 82,
   "metadata": {},
   "outputs": [
    {
     "data": {
      "text/plain": [
       "['/tin-tuc/d/cq-nghi-hoc-lop-ly-thuyet-so-22_6-ngay-29-3-2024',\n",
       " '/tin-tuc/d/chuong-trinh-hoc-bong-chinh-phu-australia-aas-vong-tuyen-chon-2023',\n",
       " '/tin-tuc/d/lich-thi-lop-btkt-nganh-khoa-hoc-may-tinh-he-thong-thong-tin-tri-tue-nhan-tao-khoa-thang-4-2024',\n",
       " '/tin-tuc/d/thi-dau-code-tour-co-hoi-nang-cap-toan-dien-ky-nang-lap-trinh-danh-cho-ban',\n",
       " '/tin-tuc/d/dang-ky-hoc-bong-hanh-trang-huong-nghiep-hoc-ky-2-nam-hoc-2022-2023']"
      ]
     },
     "execution_count": 82,
     "metadata": {},
     "output_type": "execute_result"
    }
   ],
   "source": [
    "import json\n",
    "with open('./news_links.json', 'r') as rstream:\n",
    "    news_links = json.load(rstream)\n",
    "news_links[:5]"
   ]
  },
  {
   "cell_type": "code",
   "execution_count": 83,
   "metadata": {},
   "outputs": [],
   "source": [
    "crawler = Crawler(baseURL, headers, news_links)\n",
    "#crawler = Crawler(baseURL, headers, links)"
   ]
  },
  {
   "cell_type": "code",
   "execution_count": 84,
   "metadata": {},
   "outputs": [
    {
     "name": "stdout",
     "output_type": "stream",
     "text": [
      "Crawled: https://www.fit.hcmus.edu.vn/tin-tuc/d/dang-ky-hoc-bong-hanh-trang-huong-nghiep-hoc-ky-1-nam-hoc-2022-2023\n",
      "Crawled: https://www.fit.hcmus.edu.vn/tin-tuc/d/danh-sach-du-kien-cap-xet-hoc-bong-dot-xuat-hk1-nam-hoc-2023-2024\n",
      "Crawled: https://www.fit.hcmus.edu.vn/tin-tuc/d/thong-bao-v-v-chuan-bi-ho-so-dang-ky-thuc-hien-de-tai-tot-nghiep-16208\n",
      "Crawled: https://www.fit.hcmus.edu.vn/tin-tuc/d/summer-school-2024-alphageometry-solving-imo-geometry-without-human-demonstrations\n",
      "Crawled: https://www.fit.hcmus.edu.vn/tin-tuc/d/thong-bao-ve-viec-dang-ky-de-tai-luan-van-thac-si-khoa-32-2022-dot-2\n",
      "Crawled: https://www.fit.hcmus.edu.vn/tin-tuc/d/q2q3-golden-owl-solutions-tuyen-dung-nhieu-vi-tri-it-non-it\n",
      "Crawled: https://www.fit.hcmus.edu.vn/tin-tuc/d/thong-bao-mo-lop-bo-tuc-kien-thuc-nganh-khoa-hoc-may-tinh-he-thong-thong-tin-tri-tue-nhan-tao-khoa-thang-9-2024\n",
      "Crawled: https://www.fit.hcmus.edu.vn/tin-tuc/d/thong-bao-dang-ky-phuong-thuc-dao-tao-danh-cho-hoc-vien-cao-hoc-khoa-33-2023\n",
      "Crawled: https://www.fit.hcmus.edu.vn/tin-tuc/d/dang-ky-hoc-bong-renesas-danh-cho-doi-tuong-nu-sinh-vien\n",
      "Crawled: https://www.fit.hcmus.edu.vn/tin-tuc/d/thong-bao-chuyen-nganh-chinh-thuc-cho-sinh-vien-bac-dai-hoc-he-chinh-quy-chuong-trinh-chuan-dot-xet-khoa-2021\n",
      "Crawled: https://www.fit.hcmus.edu.vn/tin-tuc/d/ky-thi-lap-trinh-thi-dau-vnoi-cup\n",
      "Crawled: https://www.fit.hcmus.edu.vn/tin-tuc/d/danh-sach-sinh-vien-da-hoan-thanh-chuong-trinh-sinh-hoat-cong-dan-cuoi-khoa-nam-hoc-2023-2024\n",
      "Crawled: https://www.fit.hcmus.edu.vn/tin-tuc/d/thong-bao-ket-qua-hoc-bong-hanh-trang-huong-nghiep-hk1-nam-hoc-2023-2024\n",
      "Crawled: https://www.fit.hcmus.edu.vn/tin-tuc/d/thong-tin-hoc-bong-le-so-memorial-scholarship-of-excellence\n",
      "Crawled: https://www.fit.hcmus.edu.vn/tin-tuc/d/thong-bao-ket-qua-chinh-thuc-hoc-bong-tan-sinh-vien-khoa-2023\n",
      "Crawled: https://www.fit.hcmus.edu.vn/tin-tuc/d/junior-intern-software-engineer\n",
      "Crawled: https://www.fit.hcmus.edu.vn/tin-tuc/d/cntn-thu-tu-bao-ve-thoi-gian-bao-ve-danh-sach-giang-vien-phan-bien-khoa-luan-tot-nghiep-lop-cntn2020-t8-2024\n",
      "Crawled: https://www.fit.hcmus.edu.vn/tin-tuc/d/thong-bao-ve-chuong-trinh-sinh-hoat-cong-dan-cuoi-khoa-nam-hoc-2023-2024\n",
      "Crawled: https://www.fit.hcmus.edu.vn/tin-tuc/d/goc-se-chia-we-talk-2023\n",
      "Crawled: https://www.fit.hcmus.edu.vn/tin-tuc/d/thoi-khoa-bieu-lop-bo-tuc-kien-thuc-mon-cau-truc-du-lieu-ky-thuat-lap-trinh-khoa-thang-4-2023\n",
      "Crawled: https://www.fit.hcmus.edu.vn/tin-tuc/d/thong-bao-chuong-trinh-hoc-bong-cua-tap-doan-dien-luc-viet-nam-nam-hoc-2023-2024\n",
      "Crawled: https://www.fit.hcmus.edu.vn/tin-tuc/d/thoi-khoa-bieu-co-phong-cac-lop-hoc-phan-2-khoa-33-2023\n",
      "Crawled: https://www.fit.hcmus.edu.vn/tin-tuc/d/cq-moi-tham-du-buoi-bao-ve-kltn-ttdatn-khoa-2020-dot-2-27-7-08-8-2024\n",
      "Crawled: https://www.fit.hcmus.edu.vn/tin-tuc/d/hoi-thao-ung-dung-ai-ml-va-cloud-trong-linh-vuc-cong-nghe-du-lich-va-bai-toan-cac-tap-doan-toan-cau-dang-gap-phai\n",
      "Crawled: https://www.fit.hcmus.edu.vn/tin-tuc/d/vnpt-dak-lak-tuyen-dung\n",
      "Crawled: https://www.fit.hcmus.edu.vn/tin-tuc/d/hoc-bong-chinh-phu-italia-maeci-nam-hoc-2024-2025\n",
      "Crawled: https://www.fit.hcmus.edu.vn/tin-tuc/d/danh-sach-de-tai-bao-ve-luan-van-thac-si-dot-thang-4-2024\n",
      "Crawled: https://www.fit.hcmus.edu.vn/tin-tuc/d/dhcq-thong-bao-ve-viec-dang-ky-nguyen-vong-hoc-lop-khoi-nghiep-hoc-ky-3-nh-2023-2024\n",
      "Crawled: https://www.fit.hcmus.edu.vn/tin-tuc/d/cq-diem-bao-ve-de-tai-tot-nghiep-dot-thang-7-8-2024\n",
      "Crawled: https://www.fit.hcmus.edu.vn/tin-tuc/d/cq-quy-trinh-nop-cuon-sau-bao-ve-kltn-ttdatn-khoa-2020-dot-1-bao-ve-thang-3-2024\n",
      "Crawled: https://www.fit.hcmus.edu.vn/tin-tuc/d/cq-thong-bao-ve-viec-huy-lop-khoi-nghiep-hk3-2023-2024\n",
      "Crawled: https://www.fit.hcmus.edu.vn/tin-tuc/d/chuong-trinh-hoc-bong-chinh-phu-australia-aas-vong-tuyen-chon-2023\n",
      "Crawled: https://www.fit.hcmus.edu.vn/tin-tuc/d/danh-sach-sinh-vien-tham-quan-cong-ty-kms-technology\n",
      "Crawled: https://www.fit.hcmus.edu.vn/tin-tuc/d/chuong-trinh-hoc-bong-toan-phan-china-aun-scholarship-2020-2021-cua-chinh-phu-trung-quoc-13499\n",
      "Crawled: https://www.fit.hcmus.edu.vn/tin-tuc/d/quy-trinh-bao-ve-luan-van-thac-si-dot-cuoi-thang-9-2024\n",
      "Crawled: https://www.fit.hcmus.edu.vn/tin-tuc/d/thong-bao-chuyen-khoan-hoc-bong-dot-xuat-hk1-nh-2023-2024\n",
      "Crawled: https://www.fit.hcmus.edu.vn/tin-tuc/d/v-v-nop-luan-van-tai-thu-vien-va-nop-ho-so-xet-tot-nghiep-doi-voi-cac-hvch-da-bao-ve-dot-t4-2024\n",
      "Crawled: https://www.fit.hcmus.edu.vn/tin-tuc/d/goc-se-chia-we-talk\n",
      "Crawled: https://www.fit.hcmus.edu.vn/tin-tuc/d/dang-ky-tham-du-tech-talk-va-information-day\n",
      "Crawled: https://www.fit.hcmus.edu.vn/tin-tuc/d/v-v-nhan-don-phuc-khao-hk2-2022-2023-lop-21hcb\n",
      "Crawled: https://www.fit.hcmus.edu.vn/tin-tuc/d/talkshow-voi-dan-cong-nghe-eq-khong-thap-nhu-ban-nghi\n",
      "Crawled: https://www.fit.hcmus.edu.vn/tin-tuc/d/thong-bao-nop-don-xin-xet-chuyen-nganh-doi-voi-sinh-vien-chua-co-chuyen-nganh-khoa-2021-tro-ve-truoc\n",
      "Crawled: https://www.fit.hcmus.edu.vn/tin-tuc/d/cq-thong-bao-dang-ky-hoc-phan-danh-cho-sinh-vien-dhcq-hk1-2024-2025\n",
      "Crawled: https://www.fit.hcmus.edu.vn/tin-tuc/d/diem-phuc-khao-hk1-nam-hoc-2022-2023\n",
      "Crawled: https://www.fit.hcmus.edu.vn/tin-tuc/d/thong-bao-dang-ky-hoc-phan-thuc-tap-danh-cho-hoc-vien-dang-ky-phuong-thuc-3-khoa-32-2022\n",
      "Crawled: https://www.fit.hcmus.edu.vn/tin-tuc/d/chinh-phuc-de-thi-vong-chung-ket-cung-doi-ngu-ban-ra-de-code-tour-2024\n",
      "Crawled: https://www.fit.hcmus.edu.vn/tin-tuc/d/dang-ky-ao-qua-tang-khoa-cong-nghe-thong-tin-fithcmus-danh-cho-lop-cao-hoc-khoa-33-2023\n",
      "Crawled: https://www.fit.hcmus.edu.vn/tin-tuc/d/cntn-moi-tham-du-buoi-bao-ve-khoa-luan-tot-nghiep-lop-cntn2020-15-8-25-8-2024\n",
      "Crawled: https://www.fit.hcmus.edu.vn/tin-tuc/d/thong-bao-trien-khai-tra-cuu-diem-tren-he-thong-quan-ly-nguoi-hoc-studentvnuhcm-us\n",
      "Crawled: https://www.fit.hcmus.edu.vn/tin-tuc/d/thoi-khoa-bieu-co-phong-cac-lop-hoc-phan-3-khoa-33-2023-bat-dau-hoc-22-7-2024\n",
      "Crawled: https://www.fit.hcmus.edu.vn/tin-tuc/d/boostation-be-phong-vung-chac-cho-du-an-ky-thuat-so-cua-ban\n",
      "Crawled: https://www.fit.hcmus.edu.vn/tin-tuc/d/thong-bao-v-v-doi-phong-hoc-mon-he-qtcsdl-lop-22hcb\n",
      "Crawled: https://www.fit.hcmus.edu.vn/tin-tuc/d/update_hoc-bong-danh-sach-sinh-vien-nhan-duoc-hoc-bong-hanh-trang-huong-nghiep-nam-hoc-2021-2022\n",
      "Crawled: https://www.fit.hcmus.edu.vn/tin-tuc/d/chuong-trinh-hoc-bong-cua-ninety-eight\n",
      "Crawled: https://www.fit.hcmus.edu.vn/tin-tuc/d/thong-bao-ket-qua-chinh-thuc-hoc-bong-tan-sinh-vien-hoc-ky-3-nam-hoc-2022-2023\n",
      "Crawled: https://www.fit.hcmus.edu.vn/tin-tuc/d/cq-ke-hoach-giang-day-dhcq-chuong-trinh-chuan-hoc-ky-3-nam-hoc-2023-2024\n",
      "Crawled: https://www.fit.hcmus.edu.vn/tin-tuc/d/thong-bao-v-v-nop-de-cuong-luan-an-va-bao-cao-tong-quan-cua-ncs-khoa-nam-2023\n",
      "Crawled: https://www.fit.hcmus.edu.vn/tin-tuc/d/thong-bao-chuong-trinh-hoc-bong-dinh-thien-ly-nam-hoc-2024-2025\n",
      "Crawled: https://www.fit.hcmus.edu.vn/tin-tuc/d/danh-sach-du-kien-cap-xet-hoc-bong-tan-sinh-vien-hk3-nam-hoc-2022-2023\n",
      "Crawled: https://www.fit.hcmus.edu.vn/tin-tuc/d/phat-dong-cuoc-thi-thiet-ke-bieu-trung-ky-niem-30-nam-thanh-lap-khoa-cntt\n",
      "Crawled: https://www.fit.hcmus.edu.vn/tin-tuc/d/dang-ky-hoc-bong-hanh-trang-huong-nghiep-hoc-ky-2-nh-2023-2024\n",
      "Crawled: https://www.fit.hcmus.edu.vn/tin-tuc/d/thong-bao-nop-ho-so-hoc-bong-danh-cho-hvch-nganh-tri-tue-nhan-tao-khoa-33-2023-duoc-tai-tro-boi-vinif\n",
      "Crawled: https://www.fit.hcmus.edu.vn/tin-tuc/d/v-v-dang-ky-hoc-phan-qua-mang-hoc-ky-2-nam-hoc-2023-2024-cho-sinh-vien-lop-lien-thong-dai-hoc-hoc-cung-dhcq\n",
      "Crawled: https://www.fit.hcmus.edu.vn/tin-tuc/d/buoi-bao-ve-luan-an-tien-si-cap-co-so-dao-tao-ncs-le-ngoc-thanh-ngay-06-6-2024\n",
      "Crawled: https://www.fit.hcmus.edu.vn/tin-tuc/d/dang-ky-tham-gia-cuoc-thi-y-tuong-giai-phap-tien-phong-cong-nghe-moi-hcmus-ai-innovation\n",
      "Crawled: https://www.fit.hcmus.edu.vn/tin-tuc/d/thong-bao-dang-ky-nguyen-vong-chuyen-nganh-khoa-2022-chuong-trinh-chuan-dhcq\n",
      "Crawled: https://www.fit.hcmus.edu.vn/tin-tuc/d/moi-tham-du-buoi-bao-ve-lats-cap-co-so-dao-tao-cua-ncs-le-ngoc-thanh-6-6-2024\n",
      "Crawled: https://www.fit.hcmus.edu.vn/tin-tuc/d/software-engineer-back-end\n",
      "Crawled: https://www.fit.hcmus.edu.vn/tin-tuc/d/danh-sach-mon-mo-trong-hoc-phan-3-lop-cao-hoc-khoa-33-2023\n",
      "Crawled: https://www.fit.hcmus.edu.vn/tin-tuc/d/goc-se-chia-we-talk-2024\n",
      "Crawled: https://www.fit.hcmus.edu.vn/tin-tuc/d/doi-phong-lop-ma-hoa-ung-dung-21tn-tu-ngay-11-6-2024-den-ket-thuc-hk2-23-24\n",
      "Crawled: https://www.fit.hcmus.edu.vn/tin-tuc/d/thong-bao-lich-trinh-bay-chuong-trinh-truong-he-fithcmus-summer-school-on-generative-ai-and-llm-nam-2024\n",
      "Crawled: https://www.fit.hcmus.edu.vn/tin-tuc/d/cq-nghi-hoc-lop-ly-thuyet-so-22_6-ngay-29-3-2024\n",
      "Crawled: https://www.fit.hcmus.edu.vn/tin-tuc/d/danh-sach-cac-lop-cao-hoc-nghi-hoc-sang-ngay-02-6-2024\n",
      "Crawled: https://www.fit.hcmus.edu.vn/tin-tuc/d/cq-thu-tu-bao-ve-thoi-gian-bao-ve-danh-sach-giang-vien-phan-bien-kltn-ttdatn-khoa-2020-dot-2-t7-8-2024\n",
      "Crawled: https://www.fit.hcmus.edu.vn/tin-tuc/d/cq-thong-bao-dang-ky-hoc-phan-danh-cho-sinh-vien-dhcq-chuong-trinh-chuan-hk3-2023-2024\n",
      "Crawled: https://www.fit.hcmus.edu.vn/tin-tuc/d/tuyen-chon-sinh-vien-tham-du-chuong-trinh-aun-summer-program-2024-tai-dai-hoc-quoc-gia-thanh-pho-ho-chi-minh\n",
      "Crawled: https://www.fit.hcmus.edu.vn/tin-tuc/d/danh-sach-sinh-vien-tham-du-chuong-trinh-tech-talk-va-information-day\n",
      "Crawled: https://www.fit.hcmus.edu.vn/tin-tuc/d/cong-ty-co-phan-ivs-chuong-trinh-nghien-cuu-mo-hinh-robot-bay-dan-swarm-robotics-giai-doan-1-2024-2027\n",
      "Crawled: https://www.fit.hcmus.edu.vn/tin-tuc/d/lich-thi-lop-btkt-nganh-khoa-hoc-may-tinh-he-thong-thong-tin-tri-tue-nhan-tao-khoa-thang-4-2024\n",
      "Crawled: https://www.fit.hcmus.edu.vn/tin-tuc/d/dang-ky-tham-du-truong-he-fithcmus-summer-school-on-generative-ai-and-llm-nam-2024\n",
      "Crawled: https://www.fit.hcmus.edu.vn/tin-tuc/d/bang-chuyen-doi-hoc-phan-tuong-duong-hcdh-cq\n",
      "Crawled: https://www.fit.hcmus.edu.vn/tin-tuc/d/gihot-studio-viec-lam-nganh-san-xuat-game\n",
      "Crawled: https://www.fit.hcmus.edu.vn/tin-tuc/d/danh-sach-du-kien-cap-xet-hoc-bong-tan-sinh-vien-khoa-2023\n",
      "Crawled: https://www.fit.hcmus.edu.vn/tin-tuc/d/chuong-trinh-hat-giong-cho-tuong-lai-seeds-for-the-future-2024\n",
      "Crawled: https://www.fit.hcmus.edu.vn/tin-tuc/d/cq-quy-trinh-nop-de-tai-tot-nghiep-sau-bao-ve-khoa-2020-dot-2-bao-ve-thang-7-8-2024\n",
      "Crawled: https://www.fit.hcmus.edu.vn/tin-tuc/d/fujinet-tuyen-dung-fresher-developers-java-net-web-winform-16292\n",
      "Crawled: https://www.fit.hcmus.edu.vn/tin-tuc/d/cq-thong-bao-nop-don-dang-ky-thuc-hien-de-tai-tot-nghiep-kltn-tttn-ttdatn-khoa-2021-dot-1\n",
      "Crawled: https://www.fit.hcmus.edu.vn/tin-tuc/d/thong-bao-nhap-hoc-trinh-do-thac-si-khoa-34-2024-dot-1\n",
      "Crawled: https://www.fit.hcmus.edu.vn/tin-tuc/d/thoi-khoa-bieu-ltth-lop-22hcb-hk4\n",
      "Crawled: https://www.fit.hcmus.edu.vn/tin-tuc/d/ho-tro-truyen-thong-mo-dang-ky-tiktok-techjam-2024\n",
      "Crawled: https://www.fit.hcmus.edu.vn/tin-tuc/d/thong-bao-mo-lop-bo-tuc-kien-thuc-du-thi-thac-si-khoa-thang-4-2024\n",
      "Crawled: https://www.fit.hcmus.edu.vn/tin-tuc/d/thong-bao-phuc-khao-hk2-23-24-lop-hcdh-22hcb-hk4\n",
      "Crawled: https://www.fit.hcmus.edu.vn/tin-tuc/d/cq-thong-bao-hinh-thuc-nop-cuon-truoc-bao-ve-kltn-ttdatn-khoa-2020-dot-2-thang-7-2024\n",
      "Crawled: https://www.fit.hcmus.edu.vn/tin-tuc/d/thong-bao-diem-phuc-khao-hk1-23-24-he-hcdh\n",
      "Crawled: https://www.fit.hcmus.edu.vn/tin-tuc/d/communication-support-bach-khoa-innovation-2024\n",
      "Crawled: https://www.fit.hcmus.edu.vn/tin-tuc/d/doi-phong-lop-xu-ly-ngon-ngu-tu-nhien-nang-cao-hp2-k33-tu-24-4-2024\n",
      "Crawled: https://www.fit.hcmus.edu.vn/tin-tuc/d/dang-ky-hoc-bong-hanh-trang-huong-nghiep-hoc-ky-2-nam-hoc-2022-2023\n",
      "Crawled: https://www.fit.hcmus.edu.vn/tin-tuc/d/ve-viec-cap-nhat-thong-tin-chuyen-nganh-cho-sinh-vien-khoa-tuyen-2021-tro-ve-truoc\n",
      "Crawled: https://www.fit.hcmus.edu.vn/tin-tuc/d/dang-ky-hoc-bong-hanh-trang-huong-nghiep-hoc-ky-1-nh-2023-2024\n",
      "Crawled: https://www.fit.hcmus.edu.vn/tin-tuc/d/golden-owl-solutions-tuyen-dung-thuc-tap-sinh-full-stack-js-t8-2024\n",
      "Crawled: https://www.fit.hcmus.edu.vn/tin-tuc/d/ve-viec-nhan-don-phuc-khao-hk2-2022-2023-lop-hcdh-22hcb\n",
      "Crawled: https://www.fit.hcmus.edu.vn/tin-tuc/d/chuong-trinh-hoc-bong-toshiba-nam-hoc-2024-2025\n",
      "Crawled: https://www.fit.hcmus.edu.vn/tin-tuc/d/danh-sach-du-kien-cap-xet-hoc-bong-tan-sinh-vien-hk2-2022-2023\n",
      "Crawled: https://www.fit.hcmus.edu.vn/tin-tuc/d/danh-sach-lop-cao-hoc-nghi-ngay-27-4-28-4-2024\n",
      "Crawled: https://www.fit.hcmus.edu.vn/tin-tuc/d/qa-tester-ai-model-functional-focus\n",
      "Crawled: https://www.fit.hcmus.edu.vn/tin-tuc/d/dang-ky-hoc-bong-hanh-trang-huong-nghiep-hoc-ky-1-nam-hoc-2021-2022\n",
      "Crawled: https://www.fit.hcmus.edu.vn/tin-tuc/d/ket-qua-du-dieu-kien-trung-tuyen-phuong-thuc-xet-tuyen-1-nam-2024\n",
      "Crawled: https://www.fit.hcmus.edu.vn/tin-tuc/d/cq-thong-bao-nop-don-dang-ky-bao-ve-huy-bao-ve-kltn-ttdatn-khoa-2020-dot-2-t7-t8-2024\n",
      "Crawled: https://www.fit.hcmus.edu.vn/tin-tuc/d/vodcast-gioi-thieu-nganh-chuyen-nganh-khoa-cong-nghe-thong-tin\n",
      "Crawled: https://www.fit.hcmus.edu.vn/tin-tuc/d/bouygues-construction-it-vietnam-hiring-network-system-interns-for-it-supervision-level-1\n",
      "Crawled: https://www.fit.hcmus.edu.vn/tin-tuc/d/danh-sach-hoc-phan-tien-si-mo-cho-nghien-cuu-sinh-khoa-tuyen-nam-2023\n",
      "Crawled: https://www.fit.hcmus.edu.vn/tin-tuc/d/hiring-interns-to-work-on-digital-transformation-solution\n",
      "Crawled: https://www.fit.hcmus.edu.vn/tin-tuc/d/sinh-vien-khoa-cong-nghe-thong-tin-tham-gia-dien-dan-van-hoa-thanh-nien-asean-lan-thu-19-va-asean3-lan-thu-9-tai-brunei\n",
      "Crawled: https://www.fit.hcmus.edu.vn/tin-tuc/d/lich-thi-lop-22hcb-hk2\n",
      "Crawled: https://www.fit.hcmus.edu.vn/tin-tuc/d/thong-bao-ket-qua-chinh-thuc-hoc-bong-tan-sinh-vien-hoc-ky-2-nam-hoc-2022-2023\n",
      "Crawled: https://www.fit.hcmus.edu.vn/tin-tuc/d/tma-tech-group-tuyen-dung-fresher-tester-developer-quy-3-2024-khong-yeu-cau-kinh-nghiem\n",
      "Crawled: https://www.fit.hcmus.edu.vn/tin-tuc/d/thong-bao-v-v-cap-nhat-thanh-tich-sinh-vien-hk2-nam-hoc-2023-2024\n",
      "Crawled: https://www.fit.hcmus.edu.vn/tin-tuc/d/thoi-khoa-bieu-ltth-lop-22hcb-hk3\n",
      "Crawled: https://www.fit.hcmus.edu.vn/tin-tuc/d/nhung-luu-y-o-giai-doan-chuyen-nganh-danh-cho-khoa-2022-dhcq-chuong-trinh-chuan\n",
      "Crawled: https://www.fit.hcmus.edu.vn/tin-tuc/d/junior-devops-engineer-golang\n",
      "Crawled: https://www.fit.hcmus.edu.vn/tin-tuc/d/tu-danh-gia-tinh-trang-suc-khoe-tinh-than-cua-sinh-vien\n",
      "Crawled: https://www.fit.hcmus.edu.vn/tin-tuc/d/v-v-thuc-hien-khao-sat-cac-mon-mo-trong-hoc-phan-3-lop-cao-hoc-k33-2023\n",
      "Crawled: https://www.fit.hcmus.edu.vn/tin-tuc/d/thong-bao-chi-tieu-xet-chuyen-nganh-khoa-2022-chuong-trinh-chuan-dhcq\n",
      "Crawled: https://www.fit.hcmus.edu.vn/tin-tuc/d/lihuhu-quality-assurance-vietnamese-ver-may2024\n",
      "Crawled: https://www.fit.hcmus.edu.vn/tin-tuc/d/frontend-developer-reactjs-fresher\n",
      "Crawled: https://www.fit.hcmus.edu.vn/tin-tuc/d/dan-choi-ai-so-mua-roi-lai-day-dang-ky-one-day-boschler\n",
      "Crawled: https://www.fit.hcmus.edu.vn/tin-tuc/d/thong-bao-sv-danh-gia-mon-hoc-giang-vien-hk2-2023-2024\n",
      "Crawled: https://www.fit.hcmus.edu.vn/tin-tuc/d/lihuhu-unity_mobile-game-developer-vietnamese-ver-may2024\n",
      "Crawled: https://www.fit.hcmus.edu.vn/tin-tuc/d/danh-sach-sinh-vien-nhan-hoc-bong-hanh-trang-huong-nghiep-hk2-2023-2024\n",
      "Crawled: https://www.fit.hcmus.edu.vn/tin-tuc/d/chuong-trinh-ho-tro-kinh-phi-dang-bai-bao-khoa-hoc-danh-cho-hoc-vien-cao-hoc\n",
      "Crawled: https://www.fit.hcmus.edu.vn/tin-tuc/d/cq-thong-bao-nop-de-cuong-de-tai-khoa-luan-thuc-tap-du-an-tot-nghiep-khoa-2020-dot-2-bao-ve-t7-2024\n",
      "Crawled: https://www.fit.hcmus.edu.vn/tin-tuc/d/thong-bao-dang-ky-thuc-hien-de-tai-khoa-luan-tot-nghiep-thuc-tap-tot-nghiep-thuc-tap-du-an-tot-nghiep-16261\n",
      "Crawled: https://www.fit.hcmus.edu.vn/tin-tuc/d/hoc-bong-thuc-tap-ngan-han-tai-kyoto-institute-of-technology-nhat-ban-nam-2025\n",
      "Crawled: https://www.fit.hcmus.edu.vn/tin-tuc/d/goc-se-chia-hoi-thao-chuyen-de-suc-manh-cua-tam-long\n",
      "Crawled: https://www.fit.hcmus.edu.vn/tin-tuc/d/thong-bao-dang-ky-tin-chi-hoc-phan-3-chuong-trinh-cao-hoc-khoa-33-2023\n",
      "Crawled: https://www.fit.hcmus.edu.vn/tin-tuc/d/chuong-trinh-cham-soc-suc-khoe-tinh-than-nguoi-hoc-tai-truong-dai-hoc-khoa-hoc-tu-nhien\n",
      "Crawled: https://www.fit.hcmus.edu.vn/tin-tuc/d/cq-thoi-khoa-bieu-hoc-ky-3-nam-hoc-2023-2024-co-phong\n",
      "Crawled: https://www.fit.hcmus.edu.vn/tin-tuc/d/tong-ket-truong-he-fithcmus-summer-school-on-generative-ai-and-llm-nam-2024\n",
      "Crawled: https://www.fit.hcmus.edu.vn/tin-tuc/d/q2-qbinh-thanh-golden-owl-solutions-tuyen-dung-thuc-tap-sinh-it-t8-2024\n",
      "Crawled: https://www.fit.hcmus.edu.vn/tin-tuc/d/moi-tham-du-buoi-bao-ve-luan-van-thac-si-dot-cuoi-thang-4-2024\n",
      "Crawled: https://www.fit.hcmus.edu.vn/tin-tuc/d/thong-bao-chuyen-khoan-hoc-bong-tsv-hk2-va-hk3-nh-2022-2023\n",
      "Crawled: https://www.fit.hcmus.edu.vn/tin-tuc/d/thong-bao-ve-viec-to-chuc-le-tot-nghiep-thac-si-tien-si-nam-2024\n",
      "Crawled: https://www.fit.hcmus.edu.vn/tin-tuc/d/chuong-trinh-hoc-bong-nus-asian-fellowship-programme-nam-2023-dai-hoc-quoc-gia-singapore-nus\n",
      "Crawled: https://www.fit.hcmus.edu.vn/tin-tuc/d/thong-bao-chuyen-khoan-hoc-bong-tan-sinh-vien-hk1-nh-2023-2024\n",
      "Crawled: https://www.fit.hcmus.edu.vn/tin-tuc/d/uniquify-viet-nam-ai-basics-to-chatgpt-training-program\n",
      "Crawled: https://www.fit.hcmus.edu.vn/tin-tuc/d/k-tech-job-fair-2024-code-your-future-in-korea-ngay-hoi-viec-lam-do-chinh-phu-han-quoc-to-chuc\n",
      "Crawled: https://www.fit.hcmus.edu.vn/tin-tuc/d/cq-diem-bao-ve-khoa-luan-tot-nghiep-thuc-tap-tot-nghiep-dot-thang-3-2024\n",
      "Crawled: https://www.fit.hcmus.edu.vn/tin-tuc/d/lich-thi-hk2-nam-hoc-2023-2024-lop-22hcb-hk4\n",
      "Crawled: https://www.fit.hcmus.edu.vn/tin-tuc/d/k-tech-job-fair-2024-code-your-future-in-korea\n",
      "Crawled: https://www.fit.hcmus.edu.vn/tin-tuc/d/thoi-khoa-bieu-ly-thuyet-va-thuc-hanh-lop-22hcb-hk2\n",
      "Crawled: https://www.fit.hcmus.edu.vn/tin-tuc/d/thong-bao-dang-ky-tin-chi-hoc-phan-2-chuong-trinh-cao-hoc-khoa-33-2023\n",
      "Crawled: https://www.fit.hcmus.edu.vn/tin-tuc/d/danh-sach-sinh-vien-nhan-hoc-bong-hanh-trang-huong-nghiep-hk2-2022-2023\n",
      "Crawled: https://www.fit.hcmus.edu.vn/tin-tuc/d/thi-dau-code-tour-co-hoi-nang-cap-toan-dien-ky-nang-lap-trinh-danh-cho-ban\n",
      "Crawled: https://www.fit.hcmus.edu.vn/tin-tuc/d/q2q3-golden-owl-solutions-tuyen-dung-tts-flutter-tts-ruby-on-rails\n",
      "Crawled: https://www.fit.hcmus.edu.vn/tin-tuc/d/cq-khao-sat-nguyen-vong-dang-ky-de-tai-kltn-tttn-ttdatn-khoa-tuyen-2021\n",
      "Crawled: https://www.fit.hcmus.edu.vn/tin-tuc/d/thi-dau-code-tour-hang-tuan-chop-ngay-giai-thuong-hap-dan-len-den-20-trieu-dong\n",
      "Crawled: https://www.fit.hcmus.edu.vn/tin-tuc/d/webinar-nang-cao-ky-nang-chinh-phuc-vong-phong-van-cung-vng\n",
      "Crawled: https://www.fit.hcmus.edu.vn/tin-tuc/d/code-tour-2024-tro-lai-giai-dau-lap-trinh-online-mo-rong-cho-cac-chien-binh-it-tren-toan-quoc-16201\n",
      "Crawled: https://www.fit.hcmus.edu.vn/tin-tuc/d/dang-ky-tham-gia-review-cuoc-thi-nhan-qua-may-man-tu-code-tour\n"
     ]
    },
    {
     "name": "stderr",
     "output_type": "stream",
     "text": [
      "C:\\Users\\NguyenDuyDangKhoa\\AppData\\Local\\Packages\\PythonSoftwareFoundation.Python.3.11_qbz5n2kfra8p0\\LocalCache\\local-packages\\Python311\\site-packages\\bs4\\builder\\__init__.py:314: RuntimeWarning: coroutine 'ClientResponse.text' was never awaited\n",
      "  for attr in list(attrs.keys()):\n",
      "RuntimeWarning: Enable tracemalloc to get the object allocation traceback\n"
     ]
    }
   ],
   "source": [
    "import nest_asyncio\n",
    "nest_asyncio.apply()\n",
    "\n",
    "loop = asyncio.get_event_loop()\n",
    "# results = loop.run_until_complete(crawler._crawl(3, extract_web_links))\n",
    "results = loop.run_until_complete(crawler._crawl(crawl_logic=extract_news_content))"
   ]
  },
  {
   "cell_type": "markdown",
   "metadata": {},
   "source": [
    "# Data profiling and remove nulls"
   ]
  },
  {
   "cell_type": "code",
   "execution_count": 86,
   "metadata": {},
   "outputs": [
    {
     "data": {
      "text/html": [
       "<div>\n",
       "<style scoped>\n",
       "    .dataframe tbody tr th:only-of-type {\n",
       "        vertical-align: middle;\n",
       "    }\n",
       "\n",
       "    .dataframe tbody tr th {\n",
       "        vertical-align: top;\n",
       "    }\n",
       "\n",
       "    .dataframe thead th {\n",
       "        text-align: right;\n",
       "    }\n",
       "</style>\n",
       "<table border=\"1\" class=\"dataframe\">\n",
       "  <thead>\n",
       "    <tr style=\"text-align: right;\">\n",
       "      <th></th>\n",
       "      <th>title</th>\n",
       "      <th>article</th>\n",
       "      <th>file_links</th>\n",
       "      <th>url</th>\n",
       "    </tr>\n",
       "  </thead>\n",
       "  <tbody>\n",
       "    <tr>\n",
       "      <th>0</th>\n",
       "      <td>[CQ] Nghỉ học lớp Lý thuyết số 22_6 ngày 29/3/...</td>\n",
       "      <td>\\nTHÔNG BÁOLớp Lý thuyết số 22_6, lịch học T6 ...</td>\n",
       "      <td>[]</td>\n",
       "      <td>https://www.fit.hcmus.edu.vn/tin-tuc/d/cq-nghi...</td>\n",
       "    </tr>\n",
       "    <tr>\n",
       "      <th>1</th>\n",
       "      <td>Chương trình Học bổng Chính phủ Australia (AAS...</td>\n",
       "      <td>\\nPhòng Quan hệ Đối ngoại xin thông tin về Chư...</td>\n",
       "      <td>[https://www.fit.hcmus.edu.vn/vn/UserFiles\\711...</td>\n",
       "      <td>https://www.fit.hcmus.edu.vn/tin-tuc/d/chuong-...</td>\n",
       "    </tr>\n",
       "    <tr>\n",
       "      <th>2</th>\n",
       "      <td>Lịch thi lớp BTKT ngành Khoa học máy tính, Hệ ...</td>\n",
       "      <td>\\nTHÔNG BÁOLịch thi lớp BTKT ngành Khoa học má...</td>\n",
       "      <td>[]</td>\n",
       "      <td>https://www.fit.hcmus.edu.vn/tin-tuc/d/lich-th...</td>\n",
       "    </tr>\n",
       "    <tr>\n",
       "      <th>3</th>\n",
       "      <td>THI ĐẤU CODE TOUR - CƠ HỘI “NÂNG CẤP” TOÀN DIỆ...</td>\n",
       "      <td>\\nĐăng ký ngay: https://bit.ly/4bWtGGL Đếm ngư...</td>\n",
       "      <td>[https://www.fit.hcmus.edu.vn/vn/UserFiles\\772...</td>\n",
       "      <td>https://www.fit.hcmus.edu.vn/tin-tuc/d/thi-dau...</td>\n",
       "    </tr>\n",
       "    <tr>\n",
       "      <th>4</th>\n",
       "      <td>Đăng ký học bổng \"Hành trang hướng nghiệp\" học...</td>\n",
       "      <td>\\nNhằm khen thưởng cho những sinh viên có thàn...</td>\n",
       "      <td>[]</td>\n",
       "      <td>https://www.fit.hcmus.edu.vn/tin-tuc/d/dang-ky...</td>\n",
       "    </tr>\n",
       "  </tbody>\n",
       "</table>\n",
       "</div>"
      ],
      "text/plain": [
       "                                               title  \\\n",
       "0  [CQ] Nghỉ học lớp Lý thuyết số 22_6 ngày 29/3/...   \n",
       "1  Chương trình Học bổng Chính phủ Australia (AAS...   \n",
       "2  Lịch thi lớp BTKT ngành Khoa học máy tính, Hệ ...   \n",
       "3  THI ĐẤU CODE TOUR - CƠ HỘI “NÂNG CẤP” TOÀN DIỆ...   \n",
       "4  Đăng ký học bổng \"Hành trang hướng nghiệp\" học...   \n",
       "\n",
       "                                             article  \\\n",
       "0  \\nTHÔNG BÁOLớp Lý thuyết số 22_6, lịch học T6 ...   \n",
       "1  \\nPhòng Quan hệ Đối ngoại xin thông tin về Chư...   \n",
       "2  \\nTHÔNG BÁOLịch thi lớp BTKT ngành Khoa học má...   \n",
       "3  \\nĐăng ký ngay: https://bit.ly/4bWtGGL Đếm ngư...   \n",
       "4  \\nNhằm khen thưởng cho những sinh viên có thàn...   \n",
       "\n",
       "                                          file_links  \\\n",
       "0                                                 []   \n",
       "1  [https://www.fit.hcmus.edu.vn/vn/UserFiles\\711...   \n",
       "2                                                 []   \n",
       "3  [https://www.fit.hcmus.edu.vn/vn/UserFiles\\772...   \n",
       "4                                                 []   \n",
       "\n",
       "                                                 url  \n",
       "0  https://www.fit.hcmus.edu.vn/tin-tuc/d/cq-nghi...  \n",
       "1  https://www.fit.hcmus.edu.vn/tin-tuc/d/chuong-...  \n",
       "2  https://www.fit.hcmus.edu.vn/tin-tuc/d/lich-th...  \n",
       "3  https://www.fit.hcmus.edu.vn/tin-tuc/d/thi-dau...  \n",
       "4  https://www.fit.hcmus.edu.vn/tin-tuc/d/dang-ky...  "
      ]
     },
     "execution_count": 86,
     "metadata": {},
     "output_type": "execute_result"
    }
   ],
   "source": [
    "import pandas as pd\n",
    "\n",
    "df = pd.DataFrame(results)\n",
    "df.head()"
   ]
  },
  {
   "cell_type": "code",
   "execution_count": 87,
   "metadata": {},
   "outputs": [
    {
     "name": "stdout",
     "output_type": "stream",
     "text": [
      "<class 'pandas.core.frame.DataFrame'>\n",
      "RangeIndex: 160 entries, 0 to 159\n",
      "Data columns (total 4 columns):\n",
      " #   Column      Non-Null Count  Dtype \n",
      "---  ------      --------------  ----- \n",
      " 0   title       160 non-null    object\n",
      " 1   article     160 non-null    object\n",
      " 2   file_links  160 non-null    object\n",
      " 3   url         160 non-null    object\n",
      "dtypes: object(4)\n",
      "memory usage: 5.1+ KB\n"
     ]
    }
   ],
   "source": [
    "df.info()"
   ]
  },
  {
   "cell_type": "code",
   "execution_count": 88,
   "metadata": {},
   "outputs": [],
   "source": [
    "df.to_csv('./Sample_FIT_News.csv', index=False)"
   ]
  }
 ],
 "metadata": {
  "kernelspec": {
   "display_name": "Python 3",
   "language": "python",
   "name": "python3"
  },
  "language_info": {
   "codemirror_mode": {
    "name": "ipython",
    "version": 3
   },
   "file_extension": ".py",
   "mimetype": "text/x-python",
   "name": "python",
   "nbconvert_exporter": "python",
   "pygments_lexer": "ipython3",
   "version": "3.11.9"
  }
 },
 "nbformat": 4,
 "nbformat_minor": 2
}
