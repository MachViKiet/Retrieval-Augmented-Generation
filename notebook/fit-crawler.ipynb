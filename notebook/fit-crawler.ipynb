{
 "cells": [
  {
   "cell_type": "markdown",
   "metadata": {},
   "source": [
    "# Import libraries"
   ]
  },
  {
   "cell_type": "code",
   "execution_count": 2,
   "metadata": {},
   "outputs": [],
   "source": [
    "import requests \n",
    "from bs4 import BeautifulSoup\n",
    "import asyncio\n",
    "import aiohttp\n",
    "import json\n",
    "import random "
   ]
  },
  {
   "cell_type": "markdown",
   "metadata": {},
   "source": [
    "# Some website infos"
   ]
  },
  {
   "cell_type": "code",
   "execution_count": 3,
   "metadata": {},
   "outputs": [],
   "source": [
    "headers = {\n",
    "    'User-Agent': 'Mozilla/5.0 (Windows NT 10.0; Win64; x64) AppleWebKit/537.36 (KHTML, like Gecko) Chrome/127.0.0.0 Safari/537.36'\n",
    "}"
   ]
  },
  {
   "cell_type": "code",
   "execution_count": 4,
   "metadata": {},
   "outputs": [],
   "source": [
    "baseURL = 'https://www.fit.hcmus.edu.vn'\n",
    "\n",
    "links = [\n",
    "    '/tin-tuc/c/thong-bao-chung',\n",
    "    '/tin-tuc/c/thong-tin-hoc-bong',\n",
    "    '/tin-tuc/c/thong-bao-he-chinh-quy',\n",
    "    '/tin-tuc/c/thong-bao-he-hoan-chinh',\n",
    "    '/tin-tuc/c/thong-bao-sau-dai-hoc',\n",
    "    '/tin-tuc/c/thong-tin-tuyen-dung',\n",
    "    '/tin-tuc/c/thong-tin-lien-thong-dh-ths',\n",
    "    '/tin-tuc/c/goc-se-chia'\n",
    "]"
   ]
  },
  {
   "cell_type": "code",
   "execution_count": null,
   "metadata": {},
   "outputs": [],
   "source": [
    "re = requests.get(baseURL, headers=headers)\n",
    "re.url"
   ]
  },
  {
   "cell_type": "markdown",
   "metadata": {},
   "source": [
    "# Create Crawler class"
   ]
  },
  {
   "cell_type": "code",
   "execution_count": 6,
   "metadata": {},
   "outputs": [],
   "source": [
    "class Crawler:\n",
    "    def __init__(self, baseURL, headers, seeds: list) -> None:\n",
    "        self.baseurl = baseURL\n",
    "        self.headers = headers\n",
    "        self.links = [baseURL + seed for seed in seeds] #Construct complete links\n",
    "        self.crawl_logic=None\n",
    "\n",
    "    async def fetch(self, session, url, params=None):\n",
    "        delay = random.uniform(2,7) #Assign a random delay to prevent banning from too many requests\n",
    "        await asyncio.sleep(delay)\n",
    "        async with session.get(url, headers=self.headers, params=params) as response:\n",
    "            print(\"Crawled:\",url)\n",
    "            text = await response.text()\n",
    "            result = json.dumps({\n",
    "                'url': url,\n",
    "                'text': text\n",
    "            })\n",
    "            return result\n",
    "        \n",
    "    async def _crawl(self, depth=1, crawl_logic=None):\n",
    "        async with aiohttp.ClientSession() as session:\n",
    "            tasks = []\n",
    "            for page in range(1,depth+1):\n",
    "                for url in self.links:\n",
    "                    task = self.fetch(session, url, params={'p': page})\n",
    "                    tasks.append(task)\n",
    "                    \n",
    "            responses = await asyncio.gather(*tasks)\n",
    "            if crawl_logic is None:\n",
    "                return responses\n",
    "            else: # If the user assign an extra filtering function\n",
    "                return [crawl_logic(response) for response in responses] \n",
    "\n",
    "    # async def crawl(self, crawl_logic, depth):\n",
    "    #     self.crawl_logic = crawl_logic\n",
    "    #     loop = asyncio.get_event_loop()\n",
    "    #     results = loop.run_until_complete(self._crawl(depth))\n",
    "    #     return results\n",
    "\n",
    "    def make_urls(self, links):\n",
    "        return [self.baseurl + link for link in links]\n",
    "    \n",
    "    def make_url(self, link):\n",
    "        return self.baseurl + link\n"
   ]
  },
  {
   "cell_type": "code",
   "execution_count": 7,
   "metadata": {},
   "outputs": [],
   "source": [
    "def extract_web_links(response):\n",
    "    response = json.loads(response)\n",
    "    soup = BeautifulSoup(response['text'])\n",
    "    # Find all <a> tags that contain href attributes starting with '/tin-tuc/'\n",
    "    news_links = soup.find_all('a', href=True)\n",
    "\n",
    "    # Filter the links that start with '/tin-tuc/'\n",
    "    filtered_links = [a['href'] for a in news_links if a['href'].startswith('/tin-tuc/d')]\n",
    "    return list(set(filtered_links))\n",
    "\n",
    "def extract_news_content(response):\n",
    "    response = json.loads(response)\n",
    "    soup = BeautifulSoup(response['text'])\n",
    "    article = soup.find('article').get_text()\n",
    "    title = soup.find('h1').get_text()\n",
    "    file_links = soup.find_all('a', attrs={'download': True})\n",
    "    file_links = [link['href'] for link in file_links]\n",
    "\n",
    "    # print(article)\n",
    "    # print('-----------')\n",
    "    # print(file_links)\n",
    "    date = soup.find('li', attrs={'class': 'post-date'}).get_text()\n",
    "    return {\n",
    "        'title': title,\n",
    "        'article': article,\n",
    "        'file_links': file_links,\n",
    "        'created_at': date,\n",
    "        'url': response['url']\n",
    "    }"
   ]
  },
  {
   "cell_type": "markdown",
   "metadata": {},
   "source": [
    "# Initialize crawler"
   ]
  },
  {
   "cell_type": "code",
   "execution_count": 9,
   "metadata": {},
   "outputs": [],
   "source": [
    "# import json\n",
    "# with open('./news_links.json', 'r') as rstream:\n",
    "#     news_links = json.load(rstream)\n",
    "# news_links[:5]"
   ]
  },
  {
   "cell_type": "markdown",
   "metadata": {},
   "source": [
    "## Extract news links"
   ]
  },
  {
   "cell_type": "code",
   "execution_count": 16,
   "metadata": {},
   "outputs": [],
   "source": [
    "#crawler = Crawler(baseURL, headers, news_links)\n",
    "crawler = Crawler(baseURL, headers, links)"
   ]
  },
  {
   "cell_type": "code",
   "execution_count": null,
   "metadata": {},
   "outputs": [],
   "source": [
    "import nest_asyncio\n",
    "nest_asyncio.apply()\n",
    "\n",
    "loop = asyncio.get_event_loop()\n",
    "news_links = loop.run_until_complete(crawler._crawl(15, extract_web_links))\n"
   ]
  },
  {
   "cell_type": "code",
   "execution_count": 18,
   "metadata": {},
   "outputs": [],
   "source": [
    "news_links = [x for xs in news_links for x in xs]"
   ]
  },
  {
   "cell_type": "markdown",
   "metadata": {},
   "source": [
    "## Extract web content"
   ]
  },
  {
   "cell_type": "code",
   "execution_count": 19,
   "metadata": {},
   "outputs": [],
   "source": [
    "crawler = Crawler(baseURL, headers, news_links)"
   ]
  },
  {
   "cell_type": "code",
   "execution_count": null,
   "metadata": {},
   "outputs": [],
   "source": [
    "import nest_asyncio\n",
    "nest_asyncio.apply()\n",
    "\n",
    "loop = asyncio.get_event_loop()\n",
    "# results = loop.run_until_complete(crawler._crawl(3, extract_web_links))\n",
    "results = loop.run_until_complete(crawler._crawl(crawl_logic=extract_news_content))"
   ]
  },
  {
   "cell_type": "markdown",
   "metadata": {},
   "source": [
    "# Data profiling and remove nulls"
   ]
  },
  {
   "cell_type": "code",
   "execution_count": null,
   "metadata": {},
   "outputs": [],
   "source": [
    "import pandas as pd\n",
    "\n",
    "df = pd.DataFrame(results)\n",
    "df.head()"
   ]
  },
  {
   "cell_type": "code",
   "execution_count": null,
   "metadata": {},
   "outputs": [],
   "source": [
    "df.info()"
   ]
  },
  {
   "cell_type": "code",
   "execution_count": 88,
   "metadata": {},
   "outputs": [],
   "source": [
    "df.to_csv('./Sample_FIT_News.csv', index=False)"
   ]
  },
  {
   "cell_type": "markdown",
   "metadata": {},
   "source": [
    "***\n",
    "# Playground"
   ]
  },
  {
   "cell_type": "code",
   "execution_count": 21,
   "metadata": {},
   "outputs": [
    {
     "ename": "ModuleNotFoundError",
     "evalue": "No module named 'pandas'",
     "output_type": "error",
     "traceback": [
      "\u001b[1;31m---------------------------------------------------------------------------\u001b[0m",
      "\u001b[1;31mModuleNotFoundError\u001b[0m                       Traceback (most recent call last)",
      "Cell \u001b[1;32mIn[21], line 1\u001b[0m\n\u001b[1;32m----> 1\u001b[0m \u001b[38;5;28;01mimport\u001b[39;00m \u001b[38;5;21;01mpandas\u001b[39;00m \u001b[38;5;28;01mas\u001b[39;00m \u001b[38;5;21;01mpd\u001b[39;00m\n\u001b[0;32m      3\u001b[0m df \u001b[38;5;241m=\u001b[39m pd\u001b[38;5;241m.\u001b[39mread_csv(\u001b[38;5;124m'\u001b[39m\u001b[38;5;124m./data/FIT_news.csv\u001b[39m\u001b[38;5;124m'\u001b[39m)\n\u001b[0;32m      4\u001b[0m df\u001b[38;5;241m.\u001b[39minfo()\n",
      "\u001b[1;31mModuleNotFoundError\u001b[0m: No module named 'pandas'"
     ]
    }
   ],
   "source": [
    "import pandas as pd\n",
    "\n",
    "df = pd.read_csv('./data/FIT_news.csv')\n",
    "df.info()"
   ]
  },
  {
   "cell_type": "code",
   "execution_count": null,
   "metadata": {},
   "outputs": [],
   "source": []
  }
 ],
 "metadata": {
  "kernelspec": {
   "display_name": "Python 3",
   "language": "python",
   "name": "python3"
  },
  "language_info": {
   "codemirror_mode": {
    "name": "ipython",
    "version": 3
   },
   "file_extension": ".py",
   "mimetype": "text/x-python",
   "name": "python",
   "nbconvert_exporter": "python",
   "pygments_lexer": "ipython3",
   "version": "3.12.6"
  }
 },
 "nbformat": 4,
 "nbformat_minor": 2
}
