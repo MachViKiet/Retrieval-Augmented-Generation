{
 "cells": [
  {
   "cell_type": "code",
   "execution_count": 11,
   "metadata": {},
   "outputs": [],
   "source": [
    "path = \"..\\documentation\\TT 29 TDKT _ short.txt\"\n",
    "\n",
    "chunk_size = 400\n",
    "chunk_overlap = 50"
   ]
  },
  {
   "cell_type": "code",
   "execution_count": 12,
   "metadata": {},
   "outputs": [
    {
     "name": "stdout",
     "output_type": "stream",
     "text": [
      "78\n"
     ]
    }
   ],
   "source": [
    "# Assisted by WCA@IBM\n",
    "# Latest GenAI contribution: ibm/granite-20b-code-instruct-v2\n",
    "from langchain.text_splitter import RecursiveCharacterTextSplitter\n",
    "\n",
    "# Initialize the text splitter\n",
    "text_splitter = RecursiveCharacterTextSplitter(chunk_size=chunk_size, chunk_overlap=chunk_overlap)\n",
    "\n",
    "# Read the text file\n",
    "with open(path, \"r\", encoding='utf-8') as f:\n",
    "    text = f.read()\n",
    "\n",
    "# Split the text into chunks\n",
    "chunks = text_splitter.split_text(text)\n",
    "\n",
    "# Print the length\n",
    "print(len(chunks))\n"
   ]
  },
  {
   "cell_type": "code",
   "execution_count": 18,
   "metadata": {},
   "outputs": [],
   "source": [
    "data = []\n",
    "title = path.split('\\\\')[-1]\n",
    "for i, chunk in enumerate(chunks):\n",
    "    data.append((title, i + 1, chunk))"
   ]
  },
  {
   "cell_type": "code",
   "execution_count": 19,
   "metadata": {},
   "outputs": [
    {
     "data": {
      "text/html": [
       "<div>\n",
       "<style scoped>\n",
       "    .dataframe tbody tr th:only-of-type {\n",
       "        vertical-align: middle;\n",
       "    }\n",
       "\n",
       "    .dataframe tbody tr th {\n",
       "        vertical-align: top;\n",
       "    }\n",
       "\n",
       "    .dataframe thead th {\n",
       "        text-align: right;\n",
       "    }\n",
       "</style>\n",
       "<table border=\"1\" class=\"dataframe\">\n",
       "  <thead>\n",
       "    <tr style=\"text-align: right;\">\n",
       "      <th></th>\n",
       "      <th>Title</th>\n",
       "      <th>Chunk ID</th>\n",
       "      <th>Content</th>\n",
       "    </tr>\n",
       "  </thead>\n",
       "  <tbody>\n",
       "    <tr>\n",
       "      <th>0</th>\n",
       "      <td>TT 29 TDKT _ short.txt</td>\n",
       "      <td>1</td>\n",
       "      <td>The document contains the following text:\\nBỘ ...</td>\n",
       "    </tr>\n",
       "    <tr>\n",
       "      <th>1</th>\n",
       "      <td>TT 29 TDKT _ short.txt</td>\n",
       "      <td>2</td>\n",
       "      <td>đối với ngành Giáo dục\\nCăn cứ Luật Thi đua, k...</td>\n",
       "    </tr>\n",
       "    <tr>\n",
       "      <th>2</th>\n",
       "      <td>TT 29 TDKT _ short.txt</td>\n",
       "      <td>3</td>\n",
       "      <td>thi hành một số\\nđiều của Luật Thi đua, khen t...</td>\n",
       "    </tr>\n",
       "    <tr>\n",
       "      <th>3</th>\n",
       "      <td>TT 29 TDKT _ short.txt</td>\n",
       "      <td>4</td>\n",
       "      <td>84 của Luật Thi đua, khen thưởng.\\n2. Thông tư...</td>\n",
       "    </tr>\n",
       "    <tr>\n",
       "      <th>4</th>\n",
       "      <td>TT 29 TDKT _ short.txt</td>\n",
       "      <td>5</td>\n",
       "      <td>tạo; tổ chức và cá nhân khác có liên quan đến ...</td>\n",
       "    </tr>\n",
       "  </tbody>\n",
       "</table>\n",
       "</div>"
      ],
      "text/plain": [
       "                    Title  Chunk ID  \\\n",
       "0  TT 29 TDKT _ short.txt         1   \n",
       "1  TT 29 TDKT _ short.txt         2   \n",
       "2  TT 29 TDKT _ short.txt         3   \n",
       "3  TT 29 TDKT _ short.txt         4   \n",
       "4  TT 29 TDKT _ short.txt         5   \n",
       "\n",
       "                                             Content  \n",
       "0  The document contains the following text:\\nBỘ ...  \n",
       "1  đối với ngành Giáo dục\\nCăn cứ Luật Thi đua, k...  \n",
       "2  thi hành một số\\nđiều của Luật Thi đua, khen t...  \n",
       "3  84 của Luật Thi đua, khen thưởng.\\n2. Thông tư...  \n",
       "4  tạo; tổ chức và cá nhân khác có liên quan đến ...  "
      ]
     },
     "execution_count": 19,
     "metadata": {},
     "output_type": "execute_result"
    }
   ],
   "source": [
    "import pandas as pd\n",
    "\n",
    "df = pd.DataFrame(data, columns=[\"Title\", \"Chunk ID\", \"Content\"])\n",
    "df.head()"
   ]
  },
  {
   "cell_type": "code",
   "execution_count": 20,
   "metadata": {},
   "outputs": [
    {
     "name": "stdout",
     "output_type": "stream",
     "text": [
      "<class 'pandas.core.frame.DataFrame'>\n",
      "RangeIndex: 78 entries, 0 to 77\n",
      "Data columns (total 3 columns):\n",
      " #   Column    Non-Null Count  Dtype \n",
      "---  ------    --------------  ----- \n",
      " 0   Title     78 non-null     object\n",
      " 1   Chunk ID  78 non-null     int64 \n",
      " 2   Content   78 non-null     object\n",
      "dtypes: int64(1), object(2)\n",
      "memory usage: 2.0+ KB\n"
     ]
    }
   ],
   "source": [
    "df.info()"
   ]
  },
  {
   "cell_type": "code",
   "execution_count": 21,
   "metadata": {},
   "outputs": [],
   "source": [
    "df.to_csv('TT 29 TDKT.csv', index=False)"
   ]
  }
 ],
 "metadata": {
  "kernelspec": {
   "display_name": "Python 3",
   "language": "python",
   "name": "python3"
  },
  "language_info": {
   "codemirror_mode": {
    "name": "ipython",
    "version": 3
   },
   "file_extension": ".py",
   "mimetype": "text/x-python",
   "name": "python",
   "nbconvert_exporter": "python",
   "pygments_lexer": "ipython3",
   "version": "3.11.9"
  }
 },
 "nbformat": 4,
 "nbformat_minor": 2
}
