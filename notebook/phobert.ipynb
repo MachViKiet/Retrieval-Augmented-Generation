{
 "cells": [
  {
   "cell_type": "markdown",
   "metadata": {},
   "source": [
    "**READ**: https://stackoverflow.com/questions/20970732/jnius-1-1-import-error"
   ]
  },
  {
   "cell_type": "code",
   "execution_count": 3,
   "metadata": {},
   "outputs": [],
   "source": [
    "import os\n",
    "\n",
    "os.environ['JAVA_HOME'] = r'C:\\Program Files\\Java\\jdk-23'"
   ]
  },
  {
   "cell_type": "code",
   "execution_count": 6,
   "metadata": {},
   "outputs": [
    {
     "ename": "JavaException",
     "evalue": "JVM exception occurred: WordSegmenter: C:\\Users\\NguyenDuyDangKhoa\\OneDrive%20-%20IBM\\Documents\\vscode_playground\\Retrieval-Augmented-Generation\\notebook\\vncorenlp/models/wordsegmenter/wordsegmenter.rdr is not found! java.io.IOException",
     "output_type": "error",
     "traceback": [
      "\u001b[1;31m---------------------------------------------------------------------------\u001b[0m",
      "\u001b[1;31mJavaException\u001b[0m                             Traceback (most recent call last)",
      "Cell \u001b[1;32mIn[6], line 9\u001b[0m\n\u001b[0;32m      3\u001b[0m \u001b[38;5;66;03m# Automatically download VnCoreNLP components from the original repository\u001b[39;00m\n\u001b[0;32m      4\u001b[0m \u001b[38;5;66;03m# and save them in some local machine folder\u001b[39;00m\n\u001b[0;32m      5\u001b[0m \u001b[38;5;66;03m#py_vncorenlp.download_model(save_dir='./vncorenlp')\u001b[39;00m\n\u001b[0;32m      6\u001b[0m \n\u001b[0;32m      7\u001b[0m \u001b[38;5;66;03m# Load the word and sentence segmentation component\u001b[39;00m\n\u001b[0;32m      8\u001b[0m path \u001b[38;5;241m=\u001b[39m \u001b[38;5;124mr\u001b[39m\u001b[38;5;124m\"\u001b[39m\u001b[38;5;124mC:/Users/NguyenDuyDangKhoa/OneDrive - IBM/Documents/vscode_playground/Retrieval-Augmented-Generation/notebook/vncorenlp\u001b[39m\u001b[38;5;124m\"\u001b[39m\n\u001b[1;32m----> 9\u001b[0m rdrsegmenter \u001b[38;5;241m=\u001b[39m \u001b[43mpy_vncorenlp\u001b[49m\u001b[38;5;241;43m.\u001b[39;49m\u001b[43mVnCoreNLP\u001b[49m\u001b[43m(\u001b[49m\u001b[43mannotators\u001b[49m\u001b[38;5;241;43m=\u001b[39;49m\u001b[43m[\u001b[49m\u001b[38;5;124;43m\"\u001b[39;49m\u001b[38;5;124;43mwseg\u001b[39;49m\u001b[38;5;124;43m\"\u001b[39;49m\u001b[43m]\u001b[49m\u001b[43m,\u001b[49m\u001b[43m \u001b[49m\u001b[43msave_dir\u001b[49m\u001b[38;5;241;43m=\u001b[39;49m\u001b[43mpath\u001b[49m\u001b[43m)\u001b[49m\n",
      "File \u001b[1;32m~\\AppData\\Local\\Packages\\PythonSoftwareFoundation.Python.3.12_qbz5n2kfra8p0\\LocalCache\\local-packages\\Python312\\site-packages\\py_vncorenlp\\vncorenlp.py:60\u001b[0m, in \u001b[0;36mVnCoreNLP.__init__\u001b[1;34m(self, max_heap_size, annotators, save_dir)\u001b[0m\n\u001b[0;32m     57\u001b[0m \u001b[38;5;28;01mif\u001b[39;00m \u001b[38;5;124m\"\u001b[39m\u001b[38;5;124mwseg\u001b[39m\u001b[38;5;124m\"\u001b[39m \u001b[38;5;129;01mnot\u001b[39;00m \u001b[38;5;129;01min\u001b[39;00m annotators:\n\u001b[0;32m     58\u001b[0m     \u001b[38;5;28mself\u001b[39m\u001b[38;5;241m.\u001b[39mannotators\u001b[38;5;241m.\u001b[39mappend(\u001b[38;5;124m\"\u001b[39m\u001b[38;5;124mwseg\u001b[39m\u001b[38;5;124m\"\u001b[39m)\n\u001b[1;32m---> 60\u001b[0m \u001b[38;5;28mself\u001b[39m\u001b[38;5;241m.\u001b[39mmodel \u001b[38;5;241m=\u001b[39m \u001b[43mjavaclass_vncorenlp\u001b[49m\u001b[43m(\u001b[49m\u001b[43mannotators\u001b[49m\u001b[43m)\u001b[49m\n",
      "File \u001b[1;32mjnius\\\\jnius_export_class.pxi:269\u001b[0m, in \u001b[0;36mjnius.JavaClass.__init__\u001b[1;34m()\u001b[0m\n",
      "File \u001b[1;32mjnius\\\\jnius_export_class.pxi:383\u001b[0m, in \u001b[0;36mjnius.JavaClass.call_constructor\u001b[1;34m()\u001b[0m\n",
      "File \u001b[1;32mjnius\\\\jnius_utils.pxi:79\u001b[0m, in \u001b[0;36mjnius.check_exception\u001b[1;34m()\u001b[0m\n",
      "\u001b[1;31mJavaException\u001b[0m: JVM exception occurred: WordSegmenter: C:\\Users\\NguyenDuyDangKhoa\\OneDrive%20-%20IBM\\Documents\\vscode_playground\\Retrieval-Augmented-Generation\\notebook\\vncorenlp/models/wordsegmenter/wordsegmenter.rdr is not found! java.io.IOException"
     ]
    }
   ],
   "source": [
    "import py_vncorenlp\n",
    "\n",
    "# Automatically download VnCoreNLP components from the original repository\n",
    "# and save them in some local machine folder\n",
    "#py_vncorenlp.download_model(save_dir='./vncorenlp')\n",
    "\n",
    "# Load the word and sentence segmentation component\n",
    "path = r\"C:/Users/NguyenDuyDangKhoa/OneDrive - IBM/Documents/vscode_playground/Retrieval-Augmented-Generation/notebook/vncorenlp\"\n",
    "rdrsegmenter = py_vncorenlp.VnCoreNLP(annotators=[\"wseg\"], save_dir=path)"
   ]
  },
  {
   "cell_type": "code",
   "execution_count": null,
   "metadata": {},
   "outputs": [],
   "source": []
  }
 ],
 "metadata": {
  "kernelspec": {
   "display_name": "Python 3",
   "language": "python",
   "name": "python3"
  },
  "language_info": {
   "codemirror_mode": {
    "name": "ipython",
    "version": 3
   },
   "file_extension": ".py",
   "mimetype": "text/x-python",
   "name": "python",
   "nbconvert_exporter": "python",
   "pygments_lexer": "ipython3",
   "version": "3.12.6"
  }
 },
 "nbformat": 4,
 "nbformat_minor": 2
}
