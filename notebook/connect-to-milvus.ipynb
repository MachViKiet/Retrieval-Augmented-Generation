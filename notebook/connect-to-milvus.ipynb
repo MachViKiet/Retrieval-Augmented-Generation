{
 "cells": [
  {
   "cell_type": "markdown",
   "metadata": {},
   "source": [
    "# Connect to Milvus"
   ]
  },
  {
   "cell_type": "code",
   "execution_count": 1,
   "metadata": {},
   "outputs": [],
   "source": [
    "from pymilvus import(\n",
    "    Milvus,\n",
    "    IndexType,\n",
    "    Status,\n",
    "    connections,\n",
    "    FieldSchema,\n",
    "    DataType,\n",
    "    Collection,\n",
    "    CollectionSchema\n",
    ")\n",
    "\n",
    "host = '161.156.196.183'\n",
    "port = '8080'\n",
    "password = '4XYg2XK6sMU4UuBEjHq4EhYE8mSFO3Qq'\n",
    "user = 'root'\n",
    "server_pem_path =  './data/cert.pem'\n",
    "\n",
    "connections.connect(alias = 'default',\n",
    "                host = host,\n",
    "                port = port,\n",
    "                user = user,\n",
    "                password = password,\n",
    "                server_pem_path=server_pem_path,\n",
    "                server_name = 'localhost',\n",
    "                secure = True)"
   ]
  },
  {
   "cell_type": "code",
   "execution_count": 57,
   "metadata": {},
   "outputs": [],
   "source": [
    "fields = [\n",
    "    FieldSchema(name=\"id\", dtype=DataType.INT64, is_primary=True, auto_id=True), # Primary key\n",
    "    FieldSchema(name=\"title\", dtype=DataType.VARCHAR, max_length=300,),\n",
    "    FieldSchema(name=\"article\", dtype=DataType.VARCHAR, max_length=2500,),\n",
    "    FieldSchema(name=\"embedding\", dtype=DataType.FLOAT_VECTOR, dim=1024,),\n",
    "    FieldSchema(name=\"school_year\", dtype=DataType.INT16, max_length=300,),\n",
    "    FieldSchema(name=\"in_effect\", dtype=DataType.VARCHAR, max_length=100,),\n",
    "    FieldSchema(name=\"file_links\", dtype=DataType.VARCHAR, max_length=300),\n",
    "    FieldSchema(name=\"created_at\", dtype=DataType.VARCHAR, max_length=200,),\n",
    "    FieldSchema(name=\"updated_at\", dtype=DataType.VARCHAR, max_length=200,),\n",
    "]\n",
    "\n",
    "schema = CollectionSchema(fields, \"news schema\")"
   ]
  },
  {
   "cell_type": "code",
   "execution_count": 58,
   "metadata": {},
   "outputs": [],
   "source": [
    "collection_names = ['recruitment', 'timetable', 'scholarship', 'academic_affairs', 'events']"
   ]
  },
  {
   "cell_type": "code",
   "execution_count": 59,
   "metadata": {},
   "outputs": [],
   "source": [
    "for col in collection_names:\n",
    "    collection = Collection(col, schema)\n",
    "    index_params = {\n",
    "        'metric_type':'L2',\n",
    "        'index_type':\"IVF_FLAT\",\n",
    "        'params':{\"nlist\":2048}\n",
    "    }\n",
    "    collection.create_index(field_name='embedding', index_params=index_params)"
   ]
  },
  {
   "cell_type": "code",
   "execution_count": 60,
   "metadata": {},
   "outputs": [
    {
     "data": {
      "text/plain": [
       "Status(code=0, message=)"
      ]
     },
     "execution_count": 60,
     "metadata": {},
     "output_type": "execute_result"
    }
   ],
   "source": [
    "fields = [\n",
    "    FieldSchema(name=\"id\", dtype=DataType.INT64, is_primary=True, auto_id=True), # Primary key\n",
    "    FieldSchema(name=\"title\", dtype=DataType.VARCHAR, max_length=300,),\n",
    "    FieldSchema(name=\"article\", dtype=DataType.VARCHAR, max_length=5000,),\n",
    "    FieldSchema(name=\"embedding\", dtype=DataType.FLOAT_VECTOR, dim=1024,),\n",
    "    FieldSchema(name=\"school_year\", dtype=DataType.INT16,),\n",
    "    FieldSchema(name=\"in_effect\", dtype=DataType.VARCHAR, max_length=100,),\n",
    "    FieldSchema(name=\"created_at\", dtype=DataType.VARCHAR, max_length=200,),\n",
    "    FieldSchema(name=\"updated_at\", dtype=DataType.VARCHAR, max_length=200,),\n",
    "] #Missing page number\n",
    "\n",
    "schema = CollectionSchema(fields, \"news schema\")\n",
    "\n",
    "collection = Collection('student_handbook', schema)\n",
    "\n",
    "index_params = {\n",
    "    'metric_type':'L2',\n",
    "    'index_type':\"IVF_FLAT\",\n",
    "    'params':{\"nlist\":2048}\n",
    "}\n",
    "collection.create_index(field_name='embedding', index_params=index_params)"
   ]
  },
  {
   "cell_type": "code",
   "execution_count": 61,
   "metadata": {},
   "outputs": [
    {
     "data": {
      "text/plain": [
       "['timetable',\n",
       " 'student_handbook',\n",
       " 'recruitment',\n",
       " 'scholarship',\n",
       " 'academic_affairs',\n",
       " 'events']"
      ]
     },
     "execution_count": 61,
     "metadata": {},
     "output_type": "execute_result"
    }
   ],
   "source": [
    "connections._fetch_handler('default').list_collections()"
   ]
  },
  {
   "cell_type": "code",
   "execution_count": 55,
   "metadata": {},
   "outputs": [],
   "source": [
    "for col in connections._fetch_handler('default').list_collections():\n",
    "    connections._fetch_handler('default').drop_collection(col)"
   ]
  },
  {
   "cell_type": "markdown",
   "metadata": {},
   "source": [
    "# Process data"
   ]
  },
  {
   "cell_type": "code",
   "execution_count": 62,
   "metadata": {},
   "outputs": [],
   "source": [
    "from glob import glob\n",
    "\n",
    "paths = glob('./data/thesis_rag_data/*')"
   ]
  },
  {
   "cell_type": "code",
   "execution_count": 63,
   "metadata": {},
   "outputs": [],
   "source": [
    "import json \n",
    "data = []\n",
    "for path in paths:\n",
    "    with open(path, 'r', encoding='utf-8') as rstream:\n",
    "        data = json.load(rstream)\n",
    "\n",
    "    for d in data:\n",
    "        d.pop('_id', None)\n",
    "        d['school_year'] = int(d['school_year'])\n",
    "    collection = Collection(path.split('\\\\')[-1].split('.')[0])\n",
    "    collection.insert(data)\n"
   ]
  },
  {
   "cell_type": "code",
   "execution_count": 11,
   "metadata": {},
   "outputs": [
    {
     "data": {
      "text/plain": [
       "'student_handbook'"
      ]
     },
     "execution_count": 11,
     "metadata": {},
     "output_type": "execute_result"
    }
   ],
   "source": [
    "path = paths[4]\n",
    "path.split('\\\\')[-1].split('.')[0]"
   ]
  },
  {
   "cell_type": "code",
   "execution_count": 7,
   "metadata": {},
   "outputs": [],
   "source": [
    "import json\n",
    "with open(path, 'r', encoding='utf-8') as rstream:\n",
    "    data = json.load(rstream)\n",
    "\n",
    "for d in data:\n",
    "    d.pop('_id', None)\n",
    "    d['school_year'] = int(d['school_year'])"
   ]
  },
  {
   "cell_type": "code",
   "execution_count": null,
   "metadata": {},
   "outputs": [],
   "source": [
    "for col in collection_names:\n",
    "    Collection(col).insert(data)"
   ]
  },
  {
   "cell_type": "code",
   "execution_count": 134,
   "metadata": {},
   "outputs": [],
   "source": [
    "collection = Collection('timetable')"
   ]
  },
  {
   "cell_type": "code",
   "execution_count": 135,
   "metadata": {},
   "outputs": [
    {
     "data": {
      "text/plain": [
       "(insert count: 8, delete count: 0, upsert count: 0, timestamp: 452156547920035842, success count: 8, err count: 0"
      ]
     },
     "execution_count": 135,
     "metadata": {},
     "output_type": "execute_result"
    }
   ],
   "source": [
    "collection.insert(data)"
   ]
  },
  {
   "cell_type": "markdown",
   "metadata": {},
   "source": [
    "***"
   ]
  },
  {
   "cell_type": "code",
   "execution_count": 80,
   "metadata": {},
   "outputs": [],
   "source": [
    "# for c in connections._fetch_handler('default').list_collections():\n",
    "#     Collection(c).drop()"
   ]
  },
  {
   "cell_type": "markdown",
   "metadata": {},
   "source": [
    "***"
   ]
  },
  {
   "cell_type": "code",
   "execution_count": 65,
   "metadata": {},
   "outputs": [],
   "source": [
    "import os\n",
    "from ibm_watsonx_ai.metanames import EmbedTextParamsMetaNames as EmbedParams\n",
    "from ibm_watsonx_ai.foundation_models.utils.enums import EmbeddingTypes\n",
    "from ibm_watsonx_ai.foundation_models import Embeddings\n",
    "from dotenv import load_dotenv"
   ]
  },
  {
   "cell_type": "code",
   "execution_count": 66,
   "metadata": {},
   "outputs": [],
   "source": [
    "load_dotenv('./data/.env')\n",
    "my_credentials = {\n",
    "    \"url\": \"https://us-south.ml.cloud.ibm.com\",\n",
    "    \"apikey\": os.environ['WATSONX_APIKEY'],\n",
    "}\n",
    "\n",
    "# model_id = 'sentence-transformers/all-minilm-l12-v2'\n",
    "model_id = 'intfloat/multilingual-e5-large'\n",
    "gen_parms = None\n",
    "project_id = os.environ['WATSONX_PROJECT_ID']\n",
    "space_id = None\n",
    "verify = False\n",
    "\n",
    "# Set the truncate_input_tokens to a value that is equal to or \n",
    "# less than the maximum allowed tokens for the embedding model that you are using. \n",
    "# If you don't specify this value and the input has more tokens than the model can process, \n",
    "# an error is generated.\n",
    "\n",
    "embed_params = {\n",
    "    EmbedParams.TRUNCATE_INPUT_TOKENS: 512,\n",
    "}\n",
    "\n",
    "model = Embeddings(\n",
    "    model_id=model_id,\n",
    "    credentials=my_credentials,\n",
    "    params=embed_params,\n",
    "    project_id=project_id,\n",
    "    verify=verify\n",
    ")"
   ]
  },
  {
   "cell_type": "code",
   "execution_count": 67,
   "metadata": {},
   "outputs": [],
   "source": [
    "query=\"Khoa công nghệ thông tin là gì\""
   ]
  },
  {
   "cell_type": "code",
   "execution_count": 68,
   "metadata": {},
   "outputs": [],
   "source": [
    "query_embeddings = model.embed_query(query)\n",
    "\n",
    "col_name = \"student_handbook\"\n",
    "collection = Collection(col_name)\n",
    "collection.load()\n",
    "search_params = {\n",
    "    \"metric_type\": \"L2\",\n",
    "    \"params\": {\"nprobe\": 5}\n",
    "}\n",
    "top_k = 3\n",
    "output_fields = ['title', 'article'] #Section field to be added\n",
    "results = collection.search(\n",
    "    data=[query_embeddings],\n",
    "    anns_field=\"embedding\",\n",
    "    param=search_params,\n",
    "    limit=top_k,\n",
    "    expr=None,\n",
    "    output_fields=output_fields\n",
    ")"
   ]
  },
  {
   "cell_type": "code",
   "execution_count": 70,
   "metadata": {},
   "outputs": [
    {
     "data": {
      "text/plain": [
       "{'id': 452583217926675827,\n",
       " 'distance': 0.2861247956752777,\n",
       " 'entity': {'title': 'Khoa công nghệ thông tin',\n",
       "  'article': 'CHƯƠNG TRÌNH ĐÀO TẠO CHẤT LƯỢNG CAO \\r\\nNGÀNH CÔNG NGHỆ THÔNG TIN\\r\\nCÁC CHƯƠNG TRÌNH ĐÀO TẠO THEO ĐỀ ÁN – KHOA CÔNG NGHỆ THÔNG TIN\\r\\n Với mục tiêu nâng cao chất lượng đào tạo trình độ đại học nhằm đáp ứng \\r\\nnguồn nhân lực có tính cạnh tranh cao trên thị trường lao động trong thời kỳ hội nhập \\r\\nkinh tế khu vực và thế giới, Khoa Công nghệ thông tin triển khai tuyển sinh chương trình \\r\\nđào tạo Chất lượng cao ngành Công nghệ Thông tin đầu tiên vào năm 2013.\\r\\n Chương trình đào tạo được xây dựng phát triển trên cơ sở chương \\r\\ntrình đào tạo chính quy chuẩn, có tham khảo các khung chương trình đào \\r\\ntạo của các tổ chức nghề nghiệp lớn trên thế giới với yêu cầu về nâng cao \\r\\ntrình độ kiến thức nghề nghiệp, nội dung giảng dạy sâu rộng hơn, đề cao tư \\r\\nduy sáng tạo, tự học, tăng cường kỹ năng thực hành, kiến thức thực tế, phát \\r\\ntriển kỹ năng cá nhân và khả năng sử dụng ngoại ngữ. \\r\\n22'}}"
      ]
     },
     "execution_count": 70,
     "metadata": {},
     "output_type": "execute_result"
    }
   ],
   "source": [
    "results[0][0].to_dict()"
   ]
  }
 ],
 "metadata": {
  "kernelspec": {
   "display_name": "Python 3",
   "language": "python",
   "name": "python3"
  },
  "language_info": {
   "codemirror_mode": {
    "name": "ipython",
    "version": 3
   },
   "file_extension": ".py",
   "mimetype": "text/x-python",
   "name": "python",
   "nbconvert_exporter": "python",
   "pygments_lexer": "ipython3",
   "version": "3.11.9"
  }
 },
 "nbformat": 4,
 "nbformat_minor": 2
}
