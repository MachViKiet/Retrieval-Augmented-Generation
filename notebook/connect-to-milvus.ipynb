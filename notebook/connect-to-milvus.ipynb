{
 "cells": [
  {
   "cell_type": "code",
   "execution_count": 12,
   "metadata": {},
   "outputs": [],
   "source": [
    "from pymilvus import(\n",
    "    Milvus,\n",
    "    IndexType,\n",
    "    Status,\n",
    "    connections,\n",
    "    FieldSchema,\n",
    "    DataType,\n",
    "    Collection,\n",
    "    CollectionSchema\n",
    ")\n",
    "import json\n",
    "import pandas as pd\n",
    "import ast\n",
    "\n",
    "def read_news_csv(path):\n",
    "    df = pd.read_csv(path)\n",
    "\n",
    "    #remove null\n",
    "    df = df[~df['chunks'].isna()]\n",
    "    #chunk id to integer\n",
    "    df['chunk_ids'] = df['chunk_ids'].astype(int)\n",
    "    #in_effect to str type\n",
    "    df['in_effect'] = df['in_effect'].astype(str)\n",
    "    # Dummy updated at\n",
    "    df['updated_at'] = df['created_at']\n",
    "    #Rename columns\n",
    "    df.rename(columns={'article': 'article_FULL', 'chunks': 'article', 'chunk_ids': 'chunk_number'}, inplace=True)\n",
    "    df = df.loc[:, df.columns != 'article_FULL']\n",
    "    return df\n",
    "\n",
    "def ingest_pipeline():\n",
    "    ## Techzone's Standalone Milvus instance\n",
    "    # host = '161.156.196.183'\n",
    "    # port = '8080'\n",
    "    # password = '4XYg2XK6sMU4UuBEjHq4EhYE8mSFO3Qq'\n",
    "    # user = 'root'\n",
    "    # server_pem_path =  './data/cert.pem'\n",
    "    # server_name = 'localhost'\n",
    "    ## Techzone's watsonx.data Milvus service\n",
    "    host = 'useast.services.cloud.techzone.ibm.com'\n",
    "    host = 'jp-tok.services.cloud.techzone.ibm.com'\n",
    "    port = '29140'\n",
    "    password = 'password'\n",
    "    user = 'ibmlhadmin'\n",
    "    server_pem_path = './data/milvus_cert.pem'\n",
    "    server_name = 'watsonxdata'\n",
    "\n",
    "    connections.connect(alias = 'default',\n",
    "                    host = host,\n",
    "                    port = port,\n",
    "                    user = user,\n",
    "                    password = password,\n",
    "                    server_pem_path=server_pem_path,\n",
    "                    server_name = server_name,\n",
    "                    secure = True)\n",
    "    # News Collections ingestion\n",
    "    fields = [\n",
    "        FieldSchema(name=\"id\", dtype=DataType.INT64, is_primary=True, auto_id=True), # Primary key\n",
    "        FieldSchema(name=\"title\", dtype=DataType.VARCHAR, max_length=750,),\n",
    "        FieldSchema(name=\"article\", dtype=DataType.VARCHAR, max_length=3500,),\n",
    "        FieldSchema(name=\"embedding\", dtype=DataType.FLOAT_VECTOR, dim=1024,),\n",
    "        FieldSchema(name=\"chunk_number\", dtype=DataType.INT32),\n",
    "        FieldSchema(name=\"school_year\", dtype=DataType.INT32),\n",
    "        FieldSchema(name=\"in_effect\", dtype=DataType.VARCHAR, max_length=100,),\n",
    "        FieldSchema(name=\"file_links\", dtype=DataType.VARCHAR, max_length=750),\n",
    "        FieldSchema(name=\"created_at\", dtype=DataType.VARCHAR, max_length=50,),\n",
    "        FieldSchema(name=\"updated_at\", dtype=DataType.VARCHAR, max_length=50,),\n",
    "        FieldSchema(name=\"url\", dtype=DataType.VARCHAR, max_length=300)\n",
    "    ]\n",
    "    schema = CollectionSchema(fields, \"news schema\")\n",
    "    collection_names = ['recruitment', 'timetable', 'scholarship', 'academic_affairs', 'events']\n",
    "    for col in collection_names:\n",
    "        collection = Collection(col, schema)\n",
    "        index_params = {\n",
    "            'metric_type':'L2',\n",
    "            'index_type':\"IVF_FLAT\",\n",
    "            'params':{\"nlist\":2048}\n",
    "        }\n",
    "        collection.create_index(field_name='embedding', index_params=index_params)\n",
    "    # Student handbook collection\n",
    "    fields = [\n",
    "        FieldSchema(name=\"id\", dtype=DataType.INT64, is_primary=True, auto_id=True), # Primary key\n",
    "        FieldSchema(name=\"title\", dtype=DataType.VARCHAR, max_length=300,),\n",
    "        FieldSchema(name=\"article\", dtype=DataType.VARCHAR, max_length=5000,),\n",
    "        FieldSchema(name=\"embedding\", dtype=DataType.FLOAT_VECTOR, dim=1024,),\n",
    "        FieldSchema(name=\"page_number\", dtype=DataType.INT32),\n",
    "        FieldSchema(name=\"school_year\", dtype=DataType.INT32,),\n",
    "        FieldSchema(name=\"in_effect\", dtype=DataType.VARCHAR, max_length=100,),\n",
    "        FieldSchema(name=\"created_at\", dtype=DataType.VARCHAR, max_length=200,),\n",
    "        FieldSchema(name=\"updated_at\", dtype=DataType.VARCHAR, max_length=200,),\n",
    "    ] #Missing page number\n",
    "    schema = CollectionSchema(fields, \"news schema\")\n",
    "    collection = Collection('student_handbook', schema)\n",
    "    index_params = {\n",
    "        'metric_type':'L2',\n",
    "        'index_type':\"IVF_FLAT\",\n",
    "        'params':{\"nlist\":2048}\n",
    "    }\n",
    "    collection.create_index(field_name='embedding', index_params=index_params)\n",
    "    #Inserting\n",
    "    collection = Collection('student_handbook')\n",
    "    path = './data/student_handbook_embedded.json'\n",
    "    with open(path, 'r') as rstream:\n",
    "        data = json.load(rstream)\n",
    "        for d in data:\n",
    "            d['in_effect'] = str(d['in_effect'])\n",
    "        collection.insert(data)\n",
    "\n",
    "    df = read_news_csv('./data/FIT_news_embedded.csv')\n",
    "    for col in df['type'].unique():\n",
    "        data = df[df['type'] == col].loc[:, df.columns != 'type']\n",
    "        data = data.to_dict('records')\n",
    "        for d in data:\n",
    "            d['embedding'] = ast.literal_eval(d['embedding']) #Revert string representation to float array\n",
    "        collection = Collection(col)\n",
    "        collection.insert(data)"
   ]
  },
  {
   "cell_type": "code",
   "execution_count": 13,
   "metadata": {},
   "outputs": [],
   "source": [
    "ingest_pipeline()"
   ]
  },
  {
   "cell_type": "markdown",
   "metadata": {},
   "source": [
    "# Connect to Milvus"
   ]
  },
  {
   "cell_type": "code",
   "execution_count": 1,
   "metadata": {},
   "outputs": [
    {
     "ename": "MilvusException",
     "evalue": "<MilvusException: (code=2, message=Fail connecting to server on jp-tok.services.cloud.techzone.ibm.com:29140, illegal connection params or server unavailable)>",
     "output_type": "error",
     "traceback": [
      "\u001b[1;31m---------------------------------------------------------------------------\u001b[0m",
      "\u001b[1;31mFutureTimeoutError\u001b[0m                        Traceback (most recent call last)",
      "File \u001b[1;32m~\\AppData\\Local\\Packages\\PythonSoftwareFoundation.Python.3.12_qbz5n2kfra8p0\\LocalCache\\local-packages\\Python312\\site-packages\\pymilvus\\client\\grpc_handler.py:147\u001b[0m, in \u001b[0;36mGrpcHandler._wait_for_channel_ready\u001b[1;34m(self, timeout)\u001b[0m\n\u001b[0;32m    146\u001b[0m \u001b[38;5;28;01mtry\u001b[39;00m:\n\u001b[1;32m--> 147\u001b[0m     \u001b[43mgrpc\u001b[49m\u001b[38;5;241;43m.\u001b[39;49m\u001b[43mchannel_ready_future\u001b[49m\u001b[43m(\u001b[49m\u001b[38;5;28;43mself\u001b[39;49m\u001b[38;5;241;43m.\u001b[39;49m\u001b[43m_channel\u001b[49m\u001b[43m)\u001b[49m\u001b[38;5;241;43m.\u001b[39;49m\u001b[43mresult\u001b[49m\u001b[43m(\u001b[49m\u001b[43mtimeout\u001b[49m\u001b[38;5;241;43m=\u001b[39;49m\u001b[43mtimeout\u001b[49m\u001b[43m)\u001b[49m\n\u001b[0;32m    148\u001b[0m     \u001b[38;5;28mself\u001b[39m\u001b[38;5;241m.\u001b[39m_setup_identifier_interceptor(\u001b[38;5;28mself\u001b[39m\u001b[38;5;241m.\u001b[39m_user, timeout\u001b[38;5;241m=\u001b[39mtimeout)\n",
      "File \u001b[1;32m~\\AppData\\Local\\Packages\\PythonSoftwareFoundation.Python.3.12_qbz5n2kfra8p0\\LocalCache\\local-packages\\Python312\\site-packages\\grpc\\_utilities.py:162\u001b[0m, in \u001b[0;36m_ChannelReadyFuture.result\u001b[1;34m(self, timeout)\u001b[0m\n\u001b[0;32m    161\u001b[0m \u001b[38;5;28;01mdef\u001b[39;00m \u001b[38;5;21mresult\u001b[39m(\u001b[38;5;28mself\u001b[39m, timeout: Optional[\u001b[38;5;28mfloat\u001b[39m] \u001b[38;5;241m=\u001b[39m \u001b[38;5;28;01mNone\u001b[39;00m) \u001b[38;5;241m-\u001b[39m\u001b[38;5;241m>\u001b[39m \u001b[38;5;28;01mNone\u001b[39;00m:\n\u001b[1;32m--> 162\u001b[0m     \u001b[38;5;28;43mself\u001b[39;49m\u001b[38;5;241;43m.\u001b[39;49m\u001b[43m_block\u001b[49m\u001b[43m(\u001b[49m\u001b[43mtimeout\u001b[49m\u001b[43m)\u001b[49m\n",
      "File \u001b[1;32m~\\AppData\\Local\\Packages\\PythonSoftwareFoundation.Python.3.12_qbz5n2kfra8p0\\LocalCache\\local-packages\\Python312\\site-packages\\grpc\\_utilities.py:106\u001b[0m, in \u001b[0;36m_ChannelReadyFuture._block\u001b[1;34m(self, timeout)\u001b[0m\n\u001b[0;32m    105\u001b[0m \u001b[38;5;28;01mif\u001b[39;00m remaining \u001b[38;5;241m<\u001b[39m \u001b[38;5;241m0\u001b[39m:\n\u001b[1;32m--> 106\u001b[0m     \u001b[38;5;28;01mraise\u001b[39;00m grpc\u001b[38;5;241m.\u001b[39mFutureTimeoutError()\n\u001b[0;32m    107\u001b[0m \u001b[38;5;28;01melse\u001b[39;00m:\n",
      "\u001b[1;31mFutureTimeoutError\u001b[0m: ",
      "\nThe above exception was the direct cause of the following exception:\n",
      "\u001b[1;31mMilvusException\u001b[0m                           Traceback (most recent call last)",
      "Cell \u001b[1;32mIn[1], line 28\u001b[0m\n\u001b[0;32m     25\u001b[0m server_pem_path \u001b[38;5;241m=\u001b[39m \u001b[38;5;124m'\u001b[39m\u001b[38;5;124m./data/milvus_cert.pem\u001b[39m\u001b[38;5;124m'\u001b[39m\n\u001b[0;32m     26\u001b[0m server_name \u001b[38;5;241m=\u001b[39m \u001b[38;5;124m'\u001b[39m\u001b[38;5;124mwatsonxdata\u001b[39m\u001b[38;5;124m'\u001b[39m\n\u001b[1;32m---> 28\u001b[0m \u001b[43mconnections\u001b[49m\u001b[38;5;241;43m.\u001b[39;49m\u001b[43mconnect\u001b[49m\u001b[43m(\u001b[49m\u001b[43malias\u001b[49m\u001b[43m \u001b[49m\u001b[38;5;241;43m=\u001b[39;49m\u001b[43m \u001b[49m\u001b[38;5;124;43m'\u001b[39;49m\u001b[38;5;124;43mdefault\u001b[39;49m\u001b[38;5;124;43m'\u001b[39;49m\u001b[43m,\u001b[49m\n\u001b[0;32m     29\u001b[0m \u001b[43m                \u001b[49m\u001b[43mhost\u001b[49m\u001b[43m \u001b[49m\u001b[38;5;241;43m=\u001b[39;49m\u001b[43m \u001b[49m\u001b[43mhost\u001b[49m\u001b[43m,\u001b[49m\n\u001b[0;32m     30\u001b[0m \u001b[43m                \u001b[49m\u001b[43mport\u001b[49m\u001b[43m \u001b[49m\u001b[38;5;241;43m=\u001b[39;49m\u001b[43m \u001b[49m\u001b[43mport\u001b[49m\u001b[43m,\u001b[49m\n\u001b[0;32m     31\u001b[0m \u001b[43m                \u001b[49m\u001b[43muser\u001b[49m\u001b[43m \u001b[49m\u001b[38;5;241;43m=\u001b[39;49m\u001b[43m \u001b[49m\u001b[43muser\u001b[49m\u001b[43m,\u001b[49m\n\u001b[0;32m     32\u001b[0m \u001b[43m                \u001b[49m\u001b[43mpassword\u001b[49m\u001b[43m \u001b[49m\u001b[38;5;241;43m=\u001b[39;49m\u001b[43m \u001b[49m\u001b[43mpassword\u001b[49m\u001b[43m,\u001b[49m\n\u001b[0;32m     33\u001b[0m \u001b[43m                \u001b[49m\u001b[43mserver_pem_path\u001b[49m\u001b[38;5;241;43m=\u001b[39;49m\u001b[43mserver_pem_path\u001b[49m\u001b[43m,\u001b[49m\n\u001b[0;32m     34\u001b[0m \u001b[43m                \u001b[49m\u001b[43mserver_name\u001b[49m\u001b[43m \u001b[49m\u001b[38;5;241;43m=\u001b[39;49m\u001b[43m \u001b[49m\u001b[43mserver_name\u001b[49m\u001b[43m,\u001b[49m\n\u001b[0;32m     35\u001b[0m \u001b[43m                \u001b[49m\u001b[43msecure\u001b[49m\u001b[43m \u001b[49m\u001b[38;5;241;43m=\u001b[39;49m\u001b[43m \u001b[49m\u001b[38;5;28;43;01mTrue\u001b[39;49;00m\u001b[43m)\u001b[49m\n",
      "File \u001b[1;32m~\\AppData\\Local\\Packages\\PythonSoftwareFoundation.Python.3.12_qbz5n2kfra8p0\\LocalCache\\local-packages\\Python312\\site-packages\\pymilvus\\orm\\connections.py:449\u001b[0m, in \u001b[0;36mConnections.connect\u001b[1;34m(self, alias, user, password, db_name, token, **kwargs)\u001b[0m\n\u001b[0;32m    446\u001b[0m         \u001b[38;5;28;01mif\u001b[39;00m parsed_uri\u001b[38;5;241m.\u001b[39mscheme \u001b[38;5;241m==\u001b[39m \u001b[38;5;124m\"\u001b[39m\u001b[38;5;124mhttps\u001b[39m\u001b[38;5;124m\"\u001b[39m:\n\u001b[0;32m    447\u001b[0m             kwargs[\u001b[38;5;124m\"\u001b[39m\u001b[38;5;124msecure\u001b[39m\u001b[38;5;124m\"\u001b[39m] \u001b[38;5;241m=\u001b[39m \u001b[38;5;28;01mTrue\u001b[39;00m\n\u001b[1;32m--> 449\u001b[0m     \u001b[43mconnect_milvus\u001b[49m\u001b[43m(\u001b[49m\u001b[38;5;241;43m*\u001b[39;49m\u001b[38;5;241;43m*\u001b[39;49m\u001b[43mkwargs\u001b[49m\u001b[43m,\u001b[49m\u001b[43m \u001b[49m\u001b[43muser\u001b[49m\u001b[38;5;241;43m=\u001b[39;49m\u001b[43muser\u001b[49m\u001b[43m,\u001b[49m\u001b[43m \u001b[49m\u001b[43mpassword\u001b[49m\u001b[38;5;241;43m=\u001b[39;49m\u001b[43mpassword\u001b[49m\u001b[43m,\u001b[49m\u001b[43m \u001b[49m\u001b[43mtoken\u001b[49m\u001b[38;5;241;43m=\u001b[39;49m\u001b[43mtoken\u001b[49m\u001b[43m,\u001b[49m\u001b[43m \u001b[49m\u001b[43mdb_name\u001b[49m\u001b[38;5;241;43m=\u001b[39;49m\u001b[43mdb_name\u001b[49m\u001b[43m)\u001b[49m\n\u001b[0;32m    450\u001b[0m     \u001b[38;5;28;01mreturn\u001b[39;00m\n\u001b[0;32m    452\u001b[0m \u001b[38;5;66;03m# 2nd Priority, connection configs from env\u001b[39;00m\n",
      "File \u001b[1;32m~\\AppData\\Local\\Packages\\PythonSoftwareFoundation.Python.3.12_qbz5n2kfra8p0\\LocalCache\\local-packages\\Python312\\site-packages\\pymilvus\\orm\\connections.py:400\u001b[0m, in \u001b[0;36mConnections.connect.<locals>.connect_milvus\u001b[1;34m(**kwargs)\u001b[0m\n\u001b[0;32m    397\u001b[0m t \u001b[38;5;241m=\u001b[39m kwargs\u001b[38;5;241m.\u001b[39mget(\u001b[38;5;124m\"\u001b[39m\u001b[38;5;124mtimeout\u001b[39m\u001b[38;5;124m\"\u001b[39m)\n\u001b[0;32m    398\u001b[0m timeout \u001b[38;5;241m=\u001b[39m t \u001b[38;5;28;01mif\u001b[39;00m \u001b[38;5;28misinstance\u001b[39m(t, (\u001b[38;5;28mint\u001b[39m, \u001b[38;5;28mfloat\u001b[39m)) \u001b[38;5;28;01melse\u001b[39;00m Config\u001b[38;5;241m.\u001b[39mMILVUS_CONN_TIMEOUT\n\u001b[1;32m--> 400\u001b[0m \u001b[43mgh\u001b[49m\u001b[38;5;241;43m.\u001b[39;49m\u001b[43m_wait_for_channel_ready\u001b[49m\u001b[43m(\u001b[49m\u001b[43mtimeout\u001b[49m\u001b[38;5;241;43m=\u001b[39;49m\u001b[43mtimeout\u001b[49m\u001b[43m)\u001b[49m\n\u001b[0;32m    401\u001b[0m \u001b[38;5;28;01mif\u001b[39;00m kwargs\u001b[38;5;241m.\u001b[39mget(\u001b[38;5;124m\"\u001b[39m\u001b[38;5;124mkeep_alive\u001b[39m\u001b[38;5;124m\"\u001b[39m, \u001b[38;5;28;01mFalse\u001b[39;00m):\n\u001b[0;32m    402\u001b[0m     gh\u001b[38;5;241m.\u001b[39mregister_state_change_callback(\n\u001b[0;32m    403\u001b[0m         ReconnectHandler(\u001b[38;5;28mself\u001b[39m, alias, kwargs_copy)\u001b[38;5;241m.\u001b[39mreconnect_on_idle\n\u001b[0;32m    404\u001b[0m     )\n",
      "File \u001b[1;32m~\\AppData\\Local\\Packages\\PythonSoftwareFoundation.Python.3.12_qbz5n2kfra8p0\\LocalCache\\local-packages\\Python312\\site-packages\\pymilvus\\client\\grpc_handler.py:150\u001b[0m, in \u001b[0;36mGrpcHandler._wait_for_channel_ready\u001b[1;34m(self, timeout)\u001b[0m\n\u001b[0;32m    148\u001b[0m     \u001b[38;5;28mself\u001b[39m\u001b[38;5;241m.\u001b[39m_setup_identifier_interceptor(\u001b[38;5;28mself\u001b[39m\u001b[38;5;241m.\u001b[39m_user, timeout\u001b[38;5;241m=\u001b[39mtimeout)\n\u001b[0;32m    149\u001b[0m \u001b[38;5;28;01mexcept\u001b[39;00m grpc\u001b[38;5;241m.\u001b[39mFutureTimeoutError \u001b[38;5;28;01mas\u001b[39;00m e:\n\u001b[1;32m--> 150\u001b[0m     \u001b[38;5;28;01mraise\u001b[39;00m MilvusException(\n\u001b[0;32m    151\u001b[0m         code\u001b[38;5;241m=\u001b[39mStatus\u001b[38;5;241m.\u001b[39mCONNECT_FAILED,\n\u001b[0;32m    152\u001b[0m         message\u001b[38;5;241m=\u001b[39m\u001b[38;5;124mf\u001b[39m\u001b[38;5;124m\"\u001b[39m\u001b[38;5;124mFail connecting to server on \u001b[39m\u001b[38;5;132;01m{\u001b[39;00m\u001b[38;5;28mself\u001b[39m\u001b[38;5;241m.\u001b[39m_address\u001b[38;5;132;01m}\u001b[39;00m\u001b[38;5;124m, illegal connection params or server unavailable\u001b[39m\u001b[38;5;124m\"\u001b[39m,\n\u001b[0;32m    153\u001b[0m     ) \u001b[38;5;28;01mfrom\u001b[39;00m \u001b[38;5;21;01me\u001b[39;00m\n\u001b[0;32m    154\u001b[0m \u001b[38;5;28;01mexcept\u001b[39;00m \u001b[38;5;167;01mException\u001b[39;00m \u001b[38;5;28;01mas\u001b[39;00m e:\n\u001b[0;32m    155\u001b[0m     \u001b[38;5;28;01mraise\u001b[39;00m e \u001b[38;5;28;01mfrom\u001b[39;00m \u001b[38;5;21;01me\u001b[39;00m\n",
      "\u001b[1;31mMilvusException\u001b[0m: <MilvusException: (code=2, message=Fail connecting to server on jp-tok.services.cloud.techzone.ibm.com:29140, illegal connection params or server unavailable)>"
     ]
    }
   ],
   "source": [
    "from pymilvus import(\n",
    "    Milvus,\n",
    "    IndexType,\n",
    "    Status,\n",
    "    connections,\n",
    "    FieldSchema,\n",
    "    DataType,\n",
    "    Collection,\n",
    "    CollectionSchema\n",
    ")\n",
    "\n",
    "## Techzone's Standalone Milvus instance\n",
    "# host = '161.156.196.183'\n",
    "# port = '8080'\n",
    "# password = '4XYg2XK6sMU4UuBEjHq4EhYE8mSFO3Qq'\n",
    "# user = 'root'\n",
    "# server_pem_path =  './data/cert.pem'\n",
    "# server_name = 'localhost'\n",
    "## Techzone's watsonx.data Milvus service\n",
    "host = 'useast.services.cloud.techzone.ibm.com'\n",
    "host = 'jp-tok.services.cloud.techzone.ibm.com'\n",
    "port = '29140'\n",
    "password = 'password'\n",
    "user = 'ibmlhadmin'\n",
    "server_pem_path = './data/milvus_cert.pem'\n",
    "server_name = 'watsonxdata'\n",
    "\n",
    "connections.connect(alias = 'default',\n",
    "                host = host,\n",
    "                port = port,\n",
    "                user = user,\n",
    "                password = password,\n",
    "                server_pem_path=server_pem_path,\n",
    "                server_name = server_name,\n",
    "                secure = True)"
   ]
  },
  {
   "cell_type": "code",
   "execution_count": 2,
   "metadata": {},
   "outputs": [
    {
     "data": {
      "text/plain": [
       "[('default', <pymilvus.client.grpc_handler.GrpcHandler at 0x29f1efdd2e0>)]"
      ]
     },
     "execution_count": 2,
     "metadata": {},
     "output_type": "execute_result"
    }
   ],
   "source": [
    "connections.list_connections()"
   ]
  },
  {
   "cell_type": "markdown",
   "metadata": {},
   "source": [
    "# Creating Milvus schema definition"
   ]
  },
  {
   "cell_type": "markdown",
   "metadata": {},
   "source": [
    "## News collections"
   ]
  },
  {
   "cell_type": "code",
   "execution_count": 57,
   "metadata": {},
   "outputs": [],
   "source": [
    "fields = [\n",
    "    FieldSchema(name=\"id\", dtype=DataType.INT64, is_primary=True, auto_id=True), # Primary key\n",
    "    FieldSchema(name=\"title\", dtype=DataType.VARCHAR, max_length=750,),\n",
    "    FieldSchema(name=\"article\", dtype=DataType.VARCHAR, max_length=3500,),\n",
    "    FieldSchema(name=\"embedding\", dtype=DataType.FLOAT_VECTOR, dim=1024,),\n",
    "    FieldSchema(name=\"chunk_number\", dtype=DataType.INT32),\n",
    "    FieldSchema(name=\"school_year\", dtype=DataType.INT32),\n",
    "    FieldSchema(name=\"in_effect\", dtype=DataType.VARCHAR, max_length=100,),\n",
    "    FieldSchema(name=\"file_links\", dtype=DataType.VARCHAR, max_length=750),\n",
    "    FieldSchema(name=\"created_at\", dtype=DataType.VARCHAR, max_length=50,),\n",
    "    FieldSchema(name=\"updated_at\", dtype=DataType.VARCHAR, max_length=50,),\n",
    "    FieldSchema(name=\"url\", dtype=DataType.VARCHAR, max_length=300)\n",
    "]\n",
    "\n",
    "schema = CollectionSchema(fields, \"news schema\")"
   ]
  },
  {
   "cell_type": "code",
   "execution_count": 58,
   "metadata": {},
   "outputs": [],
   "source": [
    "collection_names = ['recruitment', 'timetable', 'scholarship', 'academic_affairs', 'events']"
   ]
  },
  {
   "cell_type": "code",
   "execution_count": 56,
   "metadata": {},
   "outputs": [],
   "source": [
    "for col in collection_names:\n",
    "    connections._fetch_handler('default').drop_collection(col)"
   ]
  },
  {
   "cell_type": "markdown",
   "metadata": {},
   "source": [
    "Add search index"
   ]
  },
  {
   "cell_type": "code",
   "execution_count": 59,
   "metadata": {},
   "outputs": [],
   "source": [
    "for col in collection_names:\n",
    "    collection = Collection(col, schema)\n",
    "    index_params = {\n",
    "        'metric_type':'L2',\n",
    "        'index_type':\"IVF_FLAT\",\n",
    "        'params':{\"nlist\":2048}\n",
    "    }\n",
    "    collection.create_index(field_name='embedding', index_params=index_params)"
   ]
  },
  {
   "cell_type": "markdown",
   "metadata": {},
   "source": [
    "## For student handbook collections (default collections)"
   ]
  },
  {
   "cell_type": "code",
   "execution_count": 22,
   "metadata": {},
   "outputs": [
    {
     "data": {
      "text/plain": [
       "Status(code=0, message=)"
      ]
     },
     "execution_count": 22,
     "metadata": {},
     "output_type": "execute_result"
    }
   ],
   "source": [
    "fields = [\n",
    "    FieldSchema(name=\"id\", dtype=DataType.INT64, is_primary=True, auto_id=True), # Primary key\n",
    "    FieldSchema(name=\"title\", dtype=DataType.VARCHAR, max_length=300,),\n",
    "    FieldSchema(name=\"article\", dtype=DataType.VARCHAR, max_length=5000,),\n",
    "    FieldSchema(name=\"embedding\", dtype=DataType.FLOAT_VECTOR, dim=1024,),\n",
    "    FieldSchema(name=\"page_number\", dtype=DataType.INT32),\n",
    "    FieldSchema(name=\"school_year\", dtype=DataType.INT32,),\n",
    "    FieldSchema(name=\"in_effect\", dtype=DataType.VARCHAR, max_length=100,),\n",
    "    FieldSchema(name=\"created_at\", dtype=DataType.VARCHAR, max_length=200,),\n",
    "    FieldSchema(name=\"updated_at\", dtype=DataType.VARCHAR, max_length=200,),\n",
    "] #Missing page number\n",
    "\n",
    "schema = CollectionSchema(fields, \"news schema\")\n",
    "\n",
    "collection = Collection('student_handbook', schema)\n",
    "\n",
    "index_params = {\n",
    "    'metric_type':'L2',\n",
    "    'index_type':\"IVF_FLAT\",\n",
    "    'params':{\"nlist\":2048}\n",
    "}\n",
    "collection.create_index(field_name='embedding', index_params=index_params)"
   ]
  },
  {
   "cell_type": "markdown",
   "metadata": {},
   "source": [
    "## Check collection"
   ]
  },
  {
   "cell_type": "code",
   "execution_count": 27,
   "metadata": {},
   "outputs": [
    {
     "data": {
      "text/plain": [
       "['academic_affairs',\n",
       " 'recruitment',\n",
       " 'timetable',\n",
       " 'scholarship',\n",
       " 'events',\n",
       " 'student_handbook']"
      ]
     },
     "execution_count": 27,
     "metadata": {},
     "output_type": "execute_result"
    }
   ],
   "source": [
    "connections._fetch_handler('default').list_collections()"
   ]
  },
  {
   "cell_type": "markdown",
   "metadata": {},
   "source": [
    "UTILS: drop all collections"
   ]
  },
  {
   "cell_type": "code",
   "execution_count": 18,
   "metadata": {},
   "outputs": [],
   "source": [
    "for col in connections._fetch_handler('default').list_collections():\n",
    "    connections._fetch_handler('default').drop_collection(col)"
   ]
  },
  {
   "cell_type": "markdown",
   "metadata": {},
   "source": [
    "# Process data\n",
    "- Embedding content\n",
    "- Preprocess headings\n",
    "- Add columns\n",
    "- Remove nulls\n",
    "- Reformat"
   ]
  },
  {
   "cell_type": "markdown",
   "metadata": {},
   "source": [
    "## Initialize the embedding model"
   ]
  },
  {
   "cell_type": "markdown",
   "metadata": {},
   "source": [
    "Import"
   ]
  },
  {
   "cell_type": "code",
   "execution_count": 27,
   "metadata": {},
   "outputs": [],
   "source": [
    "import os\n",
    "from ibm_watsonx_ai.metanames import EmbedTextParamsMetaNames as EmbedParams\n",
    "from ibm_watsonx_ai.foundation_models.utils.enums import EmbeddingTypes\n",
    "from ibm_watsonx_ai.foundation_models import Embeddings\n",
    "from dotenv import load_dotenv"
   ]
  },
  {
   "cell_type": "markdown",
   "metadata": {},
   "source": [
    "Credentials & initialize"
   ]
  },
  {
   "cell_type": "code",
   "execution_count": 28,
   "metadata": {},
   "outputs": [],
   "source": [
    "load_dotenv('./data/.env')\n",
    "my_credentials = {\n",
    "    \"url\": \"https://us-south.ml.cloud.ibm.com\",\n",
    "    \"apikey\": os.environ['WATSONX_APIKEY'],\n",
    "}\n",
    "\n",
    "# model_id = 'sentence-transformers/all-minilm-l12-v2'\n",
    "model_id = 'intfloat/multilingual-e5-large'\n",
    "gen_parms = None\n",
    "project_id = os.environ['WATSONX_PROJECT_ID']\n",
    "space_id = None\n",
    "verify = False\n",
    "\n",
    "# Set the truncate_input_tokens to a value that is equal to or \n",
    "# less than the maximum allowed tokens for the embedding model that you are using. \n",
    "# If you don't specify this value and the input has more tokens than the model can process, \n",
    "# an error is generated.\n",
    "\n",
    "embed_params = {\n",
    "    EmbedParams.TRUNCATE_INPUT_TOKENS: 512,\n",
    "}\n",
    "\n",
    "model = Embeddings(\n",
    "    model_id=model_id,\n",
    "    credentials=my_credentials,\n",
    "    params=embed_params,\n",
    "    project_id=project_id,\n",
    "    verify=verify\n",
    ")"
   ]
  },
  {
   "cell_type": "markdown",
   "metadata": {},
   "source": [
    "Preprocess function\n",
    "- As mentioned from [the model card](https://huggingface.co/intfloat/multilingual-e5-large), it is advised to format the *to-be-embed* content as following `passage:...` and/or `query:...`"
   ]
  },
  {
   "cell_type": "code",
   "execution_count": 29,
   "metadata": {},
   "outputs": [],
   "source": [
    "def preprocess_embed(text, isQuery=False):\n",
    "    if isQuery:\n",
    "        return \"query: \" + text\n",
    "    else: #embed content\n",
    "        return \"passage: \" + text"
   ]
  },
  {
   "cell_type": "markdown",
   "metadata": {},
   "source": [
    "## DATA: Student handbook"
   ]
  },
  {
   "cell_type": "markdown",
   "metadata": {},
   "source": [
    "### Preprocess"
   ]
  },
  {
   "cell_type": "code",
   "execution_count": 98,
   "metadata": {},
   "outputs": [],
   "source": [
    "import pandas as pd\n",
    "from glob import glob\n",
    "\n",
    "paths = glob('./data/student_handbook/*')"
   ]
  },
  {
   "cell_type": "markdown",
   "metadata": {},
   "source": [
    "Many unicode characters when extracted from the student handbook are incorrectly formatted *(probably on purpose)*\n",
    "\n",
    "So we have a function to reformat these unicode characters."
   ]
  },
  {
   "cell_type": "code",
   "execution_count": 99,
   "metadata": {},
   "outputs": [],
   "source": [
    "# Function to replace /uniXXXX with the corresponding Unicode character\n",
    "import re\n",
    "\n",
    "def replace_unicode_references(text):\n",
    "    # Use regex to match the '/uniXXXX' sequences\n",
    "    result = re.sub(r'/uni([0-9A-Fa-f]{4})', lambda m: chr(int(m.group(1), 16)), text)\n",
    "    result = result.replace('f_', 'f')\n",
    "    return result"
   ]
  },
  {
   "cell_type": "code",
   "execution_count": 100,
   "metadata": {},
   "outputs": [
    {
     "data": {
      "application/vnd.jupyter.widget-view+json": {
       "model_id": "4d66c82c006a4b57a089d2ff84173a67",
       "version_major": 2,
       "version_minor": 0
      },
      "text/plain": [
       "Documents:   0%|          | 0/5 [00:00<?, ?it/s]"
      ]
     },
     "metadata": {},
     "output_type": "display_data"
    },
    {
     "data": {
      "application/vnd.jupyter.widget-view+json": {
       "model_id": "11c7d404be2b4c2280da59455733bd57",
       "version_major": 2,
       "version_minor": 0
      },
      "text/plain": [
       "Pages: 0it [00:00, ?it/s]"
      ]
     },
     "metadata": {},
     "output_type": "display_data"
    },
    {
     "data": {
      "application/vnd.jupyter.widget-view+json": {
       "model_id": "2945166a57db4f5f95afb2f2a7d22f6c",
       "version_major": 2,
       "version_minor": 0
      },
      "text/plain": [
       "Pages: 0it [00:00, ?it/s]"
      ]
     },
     "metadata": {},
     "output_type": "display_data"
    },
    {
     "data": {
      "application/vnd.jupyter.widget-view+json": {
       "model_id": "d42e334b38164f59a34e7b8dccf56b5c",
       "version_major": 2,
       "version_minor": 0
      },
      "text/plain": [
       "Pages: 0it [00:00, ?it/s]"
      ]
     },
     "metadata": {},
     "output_type": "display_data"
    },
    {
     "data": {
      "application/vnd.jupyter.widget-view+json": {
       "model_id": "eee1103bffde467ab8356798b3a331a0",
       "version_major": 2,
       "version_minor": 0
      },
      "text/plain": [
       "Pages: 0it [00:00, ?it/s]"
      ]
     },
     "metadata": {},
     "output_type": "display_data"
    },
    {
     "data": {
      "application/vnd.jupyter.widget-view+json": {
       "model_id": "2366d4c1519b4e04af55df4d3b2e6110",
       "version_major": 2,
       "version_minor": 0
      },
      "text/plain": [
       "Pages: 0it [00:00, ?it/s]"
      ]
     },
     "metadata": {},
     "output_type": "display_data"
    }
   ],
   "source": [
    "from pypdf import PdfReader\n",
    "from tqdm.notebook import tqdm\n",
    "\n",
    "data = []\n",
    "for path in tqdm(paths, desc=\"Documents\", position=0):\n",
    "    reader = PdfReader(path)\n",
    "    n_pages = len(reader.pages)\n",
    "\n",
    "    title = path.split('\\\\')[-1].split('.')[0]\n",
    "    for i, page in tqdm(enumerate(reader.pages), desc=\"Pages\", position=1, leave=False):\n",
    "        text = page.extract_text() #Article\n",
    "        text = replace_unicode_references(text)\n",
    "        embed_text = preprocess_embed(title + '\\n' + text) \n",
    "        embedding = model.embed_query(embed_text) #Embedding\n",
    "        \n",
    "        page_number = i + 1 #Page number\n",
    "        school_year = 2024 #School year\n",
    "        in_effect = 2024 #In effect till\n",
    "\n",
    "        record = {\n",
    "            'title': title,\n",
    "            'article': text,\n",
    "            'embedding': embedding,\n",
    "            'page_number': page_number,\n",
    "            'school_year': school_year,\n",
    "            'in_effect': in_effect,\n",
    "            'created_at': '',\n",
    "            'updated_at': ''\n",
    "        }\n",
    "        data.append(record)\n"
   ]
  },
  {
   "cell_type": "code",
   "execution_count": 101,
   "metadata": {},
   "outputs": [
    {
     "data": {
      "text/plain": [
       "129"
      ]
     },
     "execution_count": 101,
     "metadata": {},
     "output_type": "execute_result"
    }
   ],
   "source": [
    "len(data)"
   ]
  },
  {
   "cell_type": "code",
   "execution_count": 102,
   "metadata": {},
   "outputs": [
    {
     "name": "stdout",
     "output_type": "stream",
     "text": [
      "{'title': 'Khoa công nghệ thông tin', 'article': 'KHOA \\nCÔNG NGHỆ THÔNG TIN\\nThông tin chung\\ninfo@/fit.hcmus.edu.vn\\nHỗ trợ sinh viên: tlsv@/fit.hcmus.edu.vn Giáo vụ: o Chương trình Chuẩn: giaovu@/fit.hcmus.edu.vn o Chương trình Chất lượng cao: giaovu.clc@/fit.hcmus.edu.vno Chương trình Tiên tiến: giaovu@apcs./fitus.edu.vnCố vấn học tập: cvht@/fit.hcmus.edu.vn Chương trình đề án: ctdb@hcmus.edu.vn(028) 38 354 266 (Ext: 500)(028) 62 884 499 (Ext: 4000)Văn phòng khoa: phòng I.53, 227 Nguyễn Văn Cừ, Q.5, TP .HCM\\nwww./fit.hcmus.edu.vnBan Chủ nhiệm:Trưởng Khoa: TS. Đinh Bá TiếnPhó Trưởng Khoa: TS. Lâm Quang Vũ, PGS.TS. Nguyễn Văn Vũ, ThS. Văn Chí Nam \\nMỤC TIÊU ĐÀO TẠO\\nSỨ MỆNH\\n- Cung cấp các trải nghiệm giảng dạy và học tập hàng đầu cho các chương trình đào tạo bậc đại học và sau đại học trong lĩnh vực máy tính và công nghệ thông tin.- Đào tạo sinh viên, học viên trở thành những nhà phát triển giải pháp công nghệ thông tin hoặc trở thành lãnh đạo chuyên nghiệp, thành công, tự quyết và có đạo đức, đủ năng lực áp dụng kiến thức và kỹ năng để làm cho xã hội tốt đẹp hơn.TẦM NHÌN\\nTrở thành một cơ sở đào tạo hàng đầu thế giới trong lĩnh vực máy tính và công nghệ thông tin, cung cấp các chương trình đào tạo cùng các trải nghiệm dạy và học tuyệt vời tập trung vào việc sáng tạo và phát triển các giải pháp có chất lượng cao trên nền tảng sử dụng máy tính và công nghệ thông tin để đóng góp cho sự phát triển của xã hội.\\nCó kiến thức kỹ thuật vững chắc; hiểu được trách nhiệm và đạo đức nghề nghiệp để áp dụng các công nghệ, kỹ thuật mới nhất của ngành công nghệ thông tin (CNTT) vào việc giải quyết các vấn đề thực tế; có thể áp dụng các phương pháp khoa học trong việc thực hiện nghiên cứu trong lĩnh vực CNTT.\\n18', 'embedding': [0.02394952, -0.0018262413, 0.000628789, -0.037377022, 0.029541062, -0.033820912, -0.06418701, 0.052005544, 0.06427428, -0.008441399, 0.042106383, 0.022070205, -0.020197926, -0.0036335983, -0.010407147, -0.0058512124, -0.039039433, 0.009220518, 0.024396705, -0.018805634, 0.04813318, -0.007914436, -0.03983316, -0.020668188, 0.01708276, -0.023768006, -0.025026023, -0.03030708, -0.005443513, -0.047286313, 0.0022750986, 0.019041333, -0.009124125, -0.054621488, -0.017513072, 0.023986273, 0.027793681, 0.03896756, -0.042525128, 0.007485099, -0.028394492, 0.035566505, -0.014860365, -0.035215084, -0.012715588, 0.014500997, 0.017457984, -0.014220694, -0.04136778, 0.03243393, 0.057217836, 0.020987786, 0.0038360409, -0.035215415, -0.020802753, 0.010974153, -0.014828615, -0.030681612, -0.024591647, 0.003957127, -0.02387676, 0.0067364215, 0.02210135, -0.04980093, -0.025640674, 0.0021626938, 0.01619017, 0.002837245, -0.03755161, 0.015293096, 0.0028449195, -0.024161255, -0.021488566, -0.012016815, -0.024223527, -0.02536013, 0.015502656, 0.008120262, 0.019765086, -0.026632017, 0.039519794, -0.03062314, 0.037393093, -0.021805089, 0.034914814, -0.016818317, 0.044151414, 0.030074457, 0.01859622, 0.04442546, -0.04177276, 0.0335781, -0.005268838, -0.006703328, -0.013741015, 0.030963598, 0.017641451, 0.009646423, -0.0025827766, -0.011579755, -0.006492754, 0.009518381, 0.031658318, -0.03185474, -0.040028103, 0.024883553, 0.020574292, 0.023369087, -0.014668632, -0.0022286298, -0.0012733844, 0.059069682, 0.0014705744, -0.031691626, -0.027424635, 0.0060895276, -0.0015188091, -0.013239493, -0.019909859, 0.006688953, 0.025085952, 0.019777298, -0.021639219, -0.04952979, 0.053134944, -0.020802453, -0.0011608385, 0.034382258, 0.0013923277, 0.031405255, 0.045533, 0.044861794, 0.009863544, 0.004898174, -0.038740132, -0.04705729, -0.001093833, -0.0462443, -0.020895429, -0.008648714, 0.012096024, 0.035281006, 0.025932666, -0.032233857, -0.0052665006, -0.05632917, -0.030174315, 0.021983188, -0.027797537, -0.0161729, 0.0059809596, -0.00026243512, -0.014064086, -0.018323028, 0.033007596, -0.033259977, -0.0015246503, 0.038081277, 0.017106725, -0.01342842, -0.042917997, -0.030236388, -0.027656896, -0.026207205, 0.0049214517, -0.0069011888, 0.03898026, 0.039799873, 0.0053227907, -0.019182624, 0.010951507, -0.05424852, 0.020286463, -0.029591952, -0.0060319253, 0.004861224, 0.016531922, 0.064739995, 0.0049205627, -0.029092357, 0.019976579, 0.014755578, 0.05433734, 0.006468409, -0.024780724, 0.008768215, 0.015796138, 0.041113477, 0.03437944, 0.046122156, 0.034268882, -0.0027651312, -0.030363888, 0.043647327, -0.03166264, 0.017853346, 0.0075201737, 0.04761453, -0.017873023, -0.03539697, -0.003787564, 0.023539385, -0.08402387, 0.029513588, 0.022747643, -0.0034558096, -0.008567541, -0.024260521, 0.02297025, -0.057786297, -0.06922107, -0.023904705, 0.024632234, 0.03543669, -0.011672549, -0.03815371, -0.03516037, 0.00039311274, -0.010229033, -0.029245276, 0.0065233, 0.06862646, 0.02767418, 0.023506293, 0.041582406, 0.045374554, 0.015004729, 0.016844457, 0.063403614, 0.011541074, 0.01884924, 0.0046255365, -0.056280937, -0.023881752, 0.00788818, -0.036011085, -0.03402589, -0.02404461, 0.026237495, 0.045496654, -0.044547983, 0.0036077253, 0.010940917, -0.040697247, -0.018970713, 0.009744721, 0.013953333, -0.007262682, 0.030622702, -0.016797101, 0.05512115, 0.021701334, -0.020603666, -0.018328879, 0.042018138, 0.03009047, 0.04570066, -0.014193598, 0.0009075984, -0.0005456145, 0.0078516295, -0.012898033, -0.034062494, 0.037536647, 0.049106356, 0.0063592074, -0.02532049, -0.018433174, -0.021005964, -0.08547896, -0.048877496, -0.046971552, -0.050988115, -0.039775334, -0.034280054, 0.008076791, -0.020203976, -0.002161837, 0.023061195, 0.015211538, -0.018940706, -0.01120665, 0.0502083, -0.0022639784, 0.017866177, 0.02289193, 0.017230576, 0.005603367, 0.00017679113, -0.0031154233, 0.0086258035, 0.017097998, 0.09475115, 0.022604246, -0.010265071, 0.07407499, -0.07193981, -0.081893936, -0.029945081, -0.0032595512, -0.013561038, -0.05946188, 0.005484375, -0.009526821, -0.028184768, -0.03653928, 0.0046693897, 0.006254014, -0.063696854, 0.017763922, 0.016218007, 0.028786326, 0.004178064, -0.0070544076, -0.026255595, -0.024879484, -0.018621685, 0.0063408255, -0.061192956, 0.028866844, -0.03214219, -0.044692326, -0.03720702, 0.04876078, 0.027967157, 0.0008328571, 0.006492938, -0.0045045223, 0.018723369, -0.0033017995, 0.0035448144, -0.022593463, -0.018814262, 0.08969359, -0.031446353, -0.0036170084, -0.050618216, 0.020851545, 0.035205584, -0.012723398, 0.0040087737, 0.0041318545, 0.008688422, 0.0017890077, 0.009710813, -0.041012567, 0.015118651, -0.019142654, 0.015933694, 0.028421095, -0.016138883, -0.0056748176, 0.010005477, 0.0027328036, 4.695225e-05, 0.038879912, 0.0066254935, -0.037851546, 0.018915381, 0.0019253452, 0.020768104, 0.0031868813, 0.026415288, 0.025466876, -0.018871384, -0.014633347, 0.020956783, -0.027477032, -0.060755663, 0.003047373, 0.057346605, -0.051858474, 0.005302336, 0.0031385531, -0.0028314944, -0.022449417, -0.06527559, -0.018581688, -0.00093263877, -0.035570063, -0.019874502, -0.036038842, 0.02438212, -0.044632822, -0.023070753, -0.011881888, 0.19027397, -0.0060241134, 0.059026692, -0.045774214, -0.026916394, 0.023706628, -0.021295026, 0.02993021, 0.031128611, 0.025608802, -0.008601163, 0.015214211, 0.004507111, -0.04614597, 0.03786779, 0.023752345, 0.010458995, 0.044628445, 0.05628156, -0.0093416395, 0.03871658, -0.036090586, -0.014284965, 0.035626832, -0.04655306, -0.033113316, 0.005265938, 0.052174836, -0.024879681, 0.014964742, -0.03129996, 0.026807213, -0.019473072, -0.011640077, 0.022937045, 0.06767037, 0.0073855333, 0.0067750853, 0.04497239, -0.017213423, -0.036459196, 0.005436945, 0.0034927053, 0.07918377, -0.011115041, 0.05023933, 0.04086951, -0.013317323, 0.016159715, 0.006269651, 0.010008987, 0.03068762, -0.014210873, -0.06367753, -0.0008153174, -0.043438304, -0.018376946, -0.06278645, -0.0065188245, 0.0003239225, 0.04759433, 0.0014298913, 0.002555441, 0.0041925237, 0.029250814, 0.020487707, -0.028007114, -0.045337617, -0.03499281, -0.003808245, -0.017744565, -0.007269854, -0.0442893, 0.007006495, 0.03706191, -0.010819569, -0.015063986, 0.048800185, 0.036433496, -0.03554041, 0.0032781912, -0.011261119, -0.05846563, 0.007674153, 0.042836122, -0.013980003, 0.01290491, 0.04188838, -0.034134623, 0.028282743, 0.016144669, 0.017741662, -0.023739915, 0.046354283, 0.0470818, -0.034288026, 0.023960833, -0.00936099, -0.016027754, -0.05291282, -0.00031904646, 0.010533081, -0.04101367, -0.033902593, -0.0062748697, -0.012507056, 0.028355544, 0.037933912, 0.031396285, 0.00074033876, -0.0066048317, 0.014926153, 0.009780904, -0.062159695, 0.054223888, -0.008281518, 0.026421271, -0.0583939, 0.022440396, 0.0040650787, -0.02003769, 0.056646854, -0.037112262, 0.057848744, -0.0385207, 0.064318605, -0.042277135, -0.02938081, 0.05777138, -0.0006550786, 0.01997864, -0.05233347, -0.04519855, 0.023931505, 0.014887285, -0.0013326412, 0.02194657, -0.029805202, -0.009936049, 0.024794973, -0.013249827, 0.019244308, -0.044457663, 0.0424292, -0.029152866, 0.0036410014, -0.04409498, -0.017603466, -0.026507445, -0.030486807, 0.021022702, -0.035097554, 0.022690497, 0.023066865, -0.033522636, -0.05323311, 0.03588433, 0.029210377, 0.053594775, -0.047342714, -0.015591074, 0.00908111, 0.017776215, 0.08629684, 0.037490655, 0.03800162, -0.041532256, 0.04463694, 0.02868577, 0.0133384215, -0.01454124, -0.029421808, -0.013352894, 0.021493465, -0.003711771, -0.03858426, -0.019615745, 0.031923622, -0.045653377, -0.0049985046, 0.004022861, 0.04212712, 0.05724125, 0.018065805, -0.021737043, -0.0032596176, -0.027683377, -0.028107509, -0.008083232, 0.0032872127, -0.021741321, 0.116405725, -0.0052382275, 0.005043092, -0.0154085355, 0.023035005, 0.029259989, 0.04403063, -0.0076059885, -0.030134337, 0.004225865, -0.016798085, -0.012712112, -0.011863892, -0.0629819, -0.017936662, -0.0033750285, 0.028467085, 0.01302233, 0.014565265, -0.03871453, -0.0026919062, 0.014328725, 0.012622932, 0.027751165, 0.011883661, 0.019249728, 0.027551426, 0.040409517, -0.042437878, 0.017820047, 0.016019005, 0.028694063, -0.037122734, -0.054587726, -0.042083777, 0.021297587, -0.00087925204, -0.0016865971, -0.027009392, 0.0042144232, -0.06263213, -0.020177096, -0.04015481, -0.013005916, -0.0007709269, 0.014923329, 0.0043145376, 0.027760008, -0.022293603, 0.025653724, 0.021742178, 0.03357154, -0.04630622, 0.0043325596, 0.049236767, -0.019199055, -0.03372525, 0.00082048244, 0.010201457, 0.0041217767, -0.037931092, 0.03935818, 0.072445415, -0.009234383, -0.01201519, 0.002683637, -0.047592435, -0.039129596, -0.049046595, 0.025285205, 0.0063777566, -0.011792211, -0.010151963, -0.019509101, 0.033368614, 0.030928932, -0.009428339, -0.046286814, -0.07993501, 0.027254727, -0.01297408, -0.046205804, -0.017108886, 0.064185925, 0.0031279959, -0.02735202, -0.03339221, -0.004453584, -0.054097503, -0.012240581, 0.061545532, -0.019501733, -0.0035613757, 0.024110356, 0.004454074, -0.014809735, 0.029424421, -0.023912406, -0.016151559, -0.03815134, 0.0221596, -0.023064645, -0.0018197839, -0.044783868, -0.03299132, -0.046322912, -0.01182411, -0.0161469, -0.0042222096, 0.029908326, -0.010571976, -0.036862608, -0.022310203, -0.01967094, -0.007192909, -0.013722728, 0.0013828371, 0.043688625, 0.05204479, -0.039536383, 0.00038711817, 0.019081892, 0.038678635, -0.0092749875, -0.008523663, 0.012453735, -0.020434966, -0.0353946, 0.02340294, -0.038065277, -0.014468275, -0.007610104, -0.02133813, 0.0059833582, 0.032627467, 0.047756474, 0.027466817, -0.016350498, 0.034019917, -0.0089540165, -0.0144523615, -0.041004933, -0.008424281, -0.054728474, -0.025703102, 0.00034759342, -0.013588103, -0.008601805, -0.040971965, -0.037423357, 0.040647753, 0.02576507, 0.0034456262, 0.022166159, -0.028643541, -0.025140395, 0.0063608936, -0.024222665, 0.0141605865, -0.046061713, 0.040053345, -0.0059192814, -0.015212324, -0.034062315, 0.06423803, -0.040645648, 0.058074936, 0.020083098, -0.041604724, -0.038085565, 0.04929001, 0.033590518, 0.008517998, -0.009320512, -0.010339653, -0.0153962, 0.043469764, -0.005227099, 0.0030820325, -0.029662965, 0.054909695, -0.04350735, -0.017501302, -0.036556132, 0.017675642, -0.011439114, -0.012322326, 0.025051014, 0.0052844235, 0.007147821, -0.07227492, -0.051152248, -0.0014410419, -0.0009245798, -0.03207585, -0.02989544, 0.019347921, 0.0081598675, 0.03945874, -0.006415453, 0.053408243, -0.027239537, -0.005844276, -0.08213901, 0.013071935, 0.022697005, -0.0044317315, -0.02948449, 0.0067329905, -0.06177624, 0.005683137, 0.022733266, -0.03127933, 0.007088576, 0.008798309, 0.0067205643, 0.013221622, 0.030204913, 0.025286285, 0.039702013, -0.014965038, 0.021599114, 0.026498292, 0.0059903283, -0.017154658, -0.020111088, -0.030345703, 0.05090682, 0.046943948, 0.021527367, -0.02274755, -0.010458362, -0.051213413, -0.03631483, -0.0026732958, 0.02392142, 0.00028933524, -0.028341219, 0.041647907, -0.009065442, -0.035932004, -0.024832742, 0.013733536, 0.004654458, 0.02572292, -0.0039747916, 0.0071937307, -0.023526242, 0.04198533, 0.024115354, -0.030313233, -0.012633502, -0.046245467, -0.02726491, -0.016098939, 0.0044595636, 0.0600191, 0.016797274, 0.060357474, 0.022001563, -0.05158735, -0.023335315, 0.051680114, 0.0028832606, -0.0011334991, -0.034210812, 0.014685325, -0.035243426, -0.0056886342, -0.05851841, -0.022205101, -0.043180123, 0.010602067, 0.027042182, -0.027635235, 0.051346663, 0.006615932, -0.0014933567, -0.03776169, -0.022587663, -0.026619976, 0.030342717, 0.015742265, -0.0501997, -0.033802368, 0.0092752, 0.02043757, -0.003117357, 0.012164639, 0.0023074837, -0.039689012, -0.022949819, 0.025293889, -0.041342646, -0.0075581386, 0.030258583, -0.045003872, -0.014720631, -0.036575936, -0.03993608, -0.017207304, -0.00723664, 0.0063258316, 0.009727283, -0.039894473, 0.0143108135, 2.5671863e-05, 0.012015422, 0.022434477, 0.056210093, -0.032042563, 0.041770637, -0.030480204, -0.056215197, -0.015381275, -0.0014330555, -0.015207562, -0.007128511, 0.016615238, -0.015623235, -0.026872491, -0.0018164287, -0.0010626194, 0.012985345, -0.04026161, 0.045437492, -0.031533144, 0.04175199, -0.027132863, -0.014000992, -0.013994477, 0.0022588037, -0.053525, 0.038979057, -0.06391146, 0.022714028, -0.009675004, -0.012968407, -0.009994124, 0.04161277, 0.11126215, -0.009816993, 0.01610965, -0.031161183, -0.026806576, -0.030230721, -0.019122785, -0.042429563, 0.014705868, -0.042854294, -0.055993434, -0.027228907, -0.028119242, 0.013849654, -0.011790228, -0.016169254, 0.05185377, 0.009158431, 0.023157673, -0.014349394, -0.002755876, 0.018540902, 0.05146723, -0.015197721, -0.0028118843, -0.042512048, 0.023201045, -0.024361648, -0.0501556, 0.016542206, 0.011648156, -0.030848231, -0.02426681, 0.04935458, 0.07652119, -0.0667037, 0.023938315, 0.0152440565, 0.03170669, 0.018200705, -0.0038318685, 0.031147618, 0.037581258, 0.012517777, 0.020429704, -0.0009201978, 0.037095, 0.010392054, 0.034073584, 0.02387174, 0.025860196, -0.013315927, 0.008873844, -0.010809758, 0.009027816, -0.037370723, 0.054828715, 0.04906892, -0.04106604, -0.029920667, 0.021136135, 0.01282693, -0.009658758, -0.0012023895, -0.03221643, 0.008040064, 0.0071354364, -0.011847051, -0.021499123, -0.03714289, 0.023328314, -0.0045387396, 0.033186115, 0.0085050315, 0.010664564, 0.030913137, 0.013202869, -0.002114731, 0.018416544, 0.046358693, -0.01633514, 0.01569234, 0.035255216, 0.0032269487, 0.05076031, -0.009980506, -0.004918612, -0.016472971, -0.0057507246, -0.013870654, 0.043006428, 0.006388754, 0.00071395957, -0.017863847, 0.012768515, 0.018299488, 0.034709368, -0.01191192, -0.02824479, 0.047322445, 0.0077414317, -0.026006253, 0.0104090925, 0.018713987, -0.012571299, -0.019152798, 0.008781778], 'page_number': 1, 'school_year': 2024, 'in_effect': 2024, 'created_at': '', 'updated_at': ''}\n"
     ]
    }
   ],
   "source": [
    "print(data[0])"
   ]
  },
  {
   "cell_type": "code",
   "execution_count": 107,
   "metadata": {},
   "outputs": [],
   "source": [
    "import json\n",
    "\n",
    "with open('student_handbook_embedded.json', 'w+') as wstream:\n",
    "    json.dump(data, wstream, indent=1)"
   ]
  },
  {
   "cell_type": "code",
   "execution_count": 103,
   "metadata": {},
   "outputs": [],
   "source": [
    "df = pd.DataFrame(data)"
   ]
  },
  {
   "cell_type": "code",
   "execution_count": 105,
   "metadata": {},
   "outputs": [],
   "source": [
    "df.to_csv('student_handbook_embedded.csv', index=False)"
   ]
  },
  {
   "cell_type": "markdown",
   "metadata": {},
   "source": [
    "### Inserting"
   ]
  },
  {
   "cell_type": "code",
   "execution_count": 26,
   "metadata": {},
   "outputs": [
    {
     "data": {
      "text/plain": [
       "(insert count: 129, delete count: 0, upsert count: 0, timestamp: 452789598746312706, success count: 129, err count: 0"
      ]
     },
     "execution_count": 26,
     "metadata": {},
     "output_type": "execute_result"
    }
   ],
   "source": [
    "import json\n",
    "collection = Collection('student_handbook')\n",
    "\n",
    "path = './data/student_handbook_embedded.json'\n",
    "with open(path, 'r') as rstream:\n",
    "    data = json.load(rstream)\n",
    "\n",
    "for d in data:\n",
    "    d['in_effect'] = str(d['in_effect'])\n",
    "collection.insert(data)"
   ]
  },
  {
   "cell_type": "markdown",
   "metadata": {},
   "source": [
    "## DATA: News data"
   ]
  },
  {
   "cell_type": "markdown",
   "metadata": {},
   "source": [
    "### Preprocess"
   ]
  },
  {
   "cell_type": "markdown",
   "metadata": {},
   "source": [
    "We'll chunk these documents by tokens, as counted by our embedding model `multilingual-e5-large`."
   ]
  },
  {
   "cell_type": "code",
   "execution_count": 1,
   "metadata": {},
   "outputs": [],
   "source": [
    "path = \"./data/FIT_news.csv\"\n",
    "\n",
    "chunk_size = 500 #512 is the max token length, we'll spare some space to reformat the text as instructed by the embedding model.\n",
    "chunk_overlap = 25"
   ]
  },
  {
   "cell_type": "code",
   "execution_count": 2,
   "metadata": {},
   "outputs": [],
   "source": [
    "import pandas as pd\n",
    "\n",
    "df = pd.read_csv(path)"
   ]
  },
  {
   "cell_type": "code",
   "execution_count": 3,
   "metadata": {},
   "outputs": [
    {
     "name": "stdout",
     "output_type": "stream",
     "text": [
      "<class 'pandas.core.frame.DataFrame'>\n",
      "RangeIndex: 640 entries, 0 to 639\n",
      "Data columns (total 8 columns):\n",
      " #   Column       Non-Null Count  Dtype \n",
      "---  ------       --------------  ----- \n",
      " 0   title        640 non-null    object\n",
      " 1   article      640 non-null    object\n",
      " 2   file_links   640 non-null    object\n",
      " 3   url          640 non-null    object\n",
      " 4   type         640 non-null    object\n",
      " 5   created_at   640 non-null    object\n",
      " 6   school_year  640 non-null    int64 \n",
      " 7   in_effect    640 non-null    int64 \n",
      "dtypes: int64(2), object(6)\n",
      "memory usage: 40.1+ KB\n"
     ]
    }
   ],
   "source": [
    "df.info()"
   ]
  },
  {
   "cell_type": "code",
   "execution_count": 4,
   "metadata": {},
   "outputs": [],
   "source": [
    "from transformers import AutoTokenizer\n",
    "\n",
    "tokenizer = AutoTokenizer.from_pretrained('intfloat/multilingual-e5-large')"
   ]
  },
  {
   "cell_type": "code",
   "execution_count": 5,
   "metadata": {},
   "outputs": [
    {
     "name": "stderr",
     "output_type": "stream",
     "text": [
      "Token indices sequence length is longer than the specified maximum sequence length for this model (722 > 512). Running this sequence through the model will result in indexing errors\n"
     ]
    }
   ],
   "source": [
    "# Assisted by WCA@IBM\n",
    "# Latest GenAI contribution: ibm/granite-20b-code-instruct-v2\n",
    "from langchain.text_splitter import RecursiveCharacterTextSplitter\n",
    "\n",
    "# Initialize the text splitter\n",
    "text_splitter = RecursiveCharacterTextSplitter.from_huggingface_tokenizer(tokenizer=tokenizer ,chunk_size=chunk_size, chunk_overlap=chunk_overlap)\n",
    "\n",
    "# Read the text file\n",
    "df['chunks'] = df.apply(lambda row: text_splitter.split_text(row['article']), axis=1)\n",
    "df['chunk_ids'] = df.apply(lambda row: [i+1 for i in range(len(row['chunks']))], axis=1)"
   ]
  },
  {
   "cell_type": "code",
   "execution_count": 6,
   "metadata": {},
   "outputs": [
    {
     "name": "stdout",
     "output_type": "stream",
     "text": [
      "<class 'pandas.core.frame.DataFrame'>\n",
      "RangeIndex: 640 entries, 0 to 639\n",
      "Data columns (total 10 columns):\n",
      " #   Column       Non-Null Count  Dtype \n",
      "---  ------       --------------  ----- \n",
      " 0   title        640 non-null    object\n",
      " 1   article      640 non-null    object\n",
      " 2   file_links   640 non-null    object\n",
      " 3   url          640 non-null    object\n",
      " 4   type         640 non-null    object\n",
      " 5   created_at   640 non-null    object\n",
      " 6   school_year  640 non-null    int64 \n",
      " 7   in_effect    640 non-null    int64 \n",
      " 8   chunks       640 non-null    object\n",
      " 9   chunk_ids    640 non-null    object\n",
      "dtypes: int64(2), object(8)\n",
      "memory usage: 50.1+ KB\n"
     ]
    }
   ],
   "source": [
    "df.info()"
   ]
  },
  {
   "cell_type": "markdown",
   "metadata": {},
   "source": [
    "Chunk numbers"
   ]
  },
  {
   "cell_type": "code",
   "execution_count": 7,
   "metadata": {},
   "outputs": [
    {
     "data": {
      "text/plain": [
       "chunks\n",
       "1    443\n",
       "2    130\n",
       "3     30\n",
       "5     10\n",
       "4      9\n",
       "6      7\n",
       "7      7\n",
       "8      3\n",
       "0      1\n",
       "Name: count, dtype: int64"
      ]
     },
     "execution_count": 7,
     "metadata": {},
     "output_type": "execute_result"
    }
   ],
   "source": [
    "df['chunks'].apply(len).value_counts()"
   ]
  },
  {
   "cell_type": "code",
   "execution_count": 8,
   "metadata": {},
   "outputs": [
    {
     "data": {
      "text/plain": [
       "'https://www.fit.hcmus.edu.vn/tin-tuc/d/uniquify-viet-nam-ai-basics-to-chatgpt-training-program'"
      ]
     },
     "execution_count": 8,
     "metadata": {},
     "output_type": "execute_result"
    }
   ],
   "source": [
    "df.iloc[109]['url']"
   ]
  },
  {
   "cell_type": "markdown",
   "metadata": {},
   "source": [
    "Recheck chunk lengths"
   ]
  },
  {
   "cell_type": "code",
   "execution_count": 9,
   "metadata": {},
   "outputs": [],
   "source": [
    "def check_clen(row):\n",
    "    for c in row['chunks']:\n",
    "        if len(c) > 2000:\n",
    "            return len(c)\n",
    "    return False"
   ]
  },
  {
   "cell_type": "code",
   "execution_count": 13,
   "metadata": {},
   "outputs": [],
   "source": [
    "df = df.explode(['chunks','chunk_ids'])"
   ]
  },
  {
   "cell_type": "code",
   "execution_count": 14,
   "metadata": {},
   "outputs": [],
   "source": [
    "df.to_csv('FIT_news_chunked.csv', index=False)"
   ]
  },
  {
   "cell_type": "markdown",
   "metadata": {},
   "source": [
    "Embedding"
   ]
  },
  {
   "cell_type": "code",
   "execution_count": 31,
   "metadata": {},
   "outputs": [],
   "source": [
    "df['embedding'] = model.embed_documents(('passage: ' + df['chunks']).tolist())"
   ]
  },
  {
   "cell_type": "markdown",
   "metadata": {},
   "source": [
    "Save to csv"
   ]
  },
  {
   "cell_type": "code",
   "execution_count": 33,
   "metadata": {},
   "outputs": [],
   "source": [
    "df.to_csv('FIT_news_embedded.csv', index=False)"
   ]
  },
  {
   "cell_type": "markdown",
   "metadata": {},
   "source": [
    "### Inserting"
   ]
  },
  {
   "cell_type": "code",
   "execution_count": 60,
   "metadata": {},
   "outputs": [],
   "source": [
    "import pandas as pd\n",
    "\n",
    "def read_news_csv(path):\n",
    "    df = pd.read_csv(path)\n",
    "\n",
    "    #remove null\n",
    "    df = df[~df['chunks'].isna()]\n",
    "    #chunk id to integer\n",
    "    df['chunk_ids'] = df['chunk_ids'].astype(int)\n",
    "    #in_effect to str type\n",
    "    df['in_effect'] = df['in_effect'].astype(str)\n",
    "    # Dummy updated at\n",
    "    df['updated_at'] = df['created_at']\n",
    "    #Rename columns\n",
    "    df.rename(columns={'article': 'article_FULL', 'chunks': 'article', 'chunk_ids': 'chunk_number'}, inplace=True)\n",
    "    df = df.loc[:, df.columns != 'article_FULL']\n",
    "    return df"
   ]
  },
  {
   "cell_type": "code",
   "execution_count": 61,
   "metadata": {},
   "outputs": [],
   "source": [
    "df = read_news_csv('./data/FIT_news_embedded.csv')"
   ]
  },
  {
   "cell_type": "code",
   "execution_count": 63,
   "metadata": {},
   "outputs": [
    {
     "name": "stdout",
     "output_type": "stream",
     "text": [
      "(insert count: 266, delete count: 0, upsert count: 0, timestamp: 452810259376635906, success count: 266, err count: 0\n",
      "(insert count: 313, delete count: 0, upsert count: 0, timestamp: 452810260164902914, success count: 313, err count: 0\n",
      "(insert count: 86, delete count: 0, upsert count: 0, timestamp: 452810260661141507, success count: 86, err count: 0\n",
      "(insert count: 107, delete count: 0, upsert count: 0, timestamp: 452810261185429506, success count: 107, err count: 0\n",
      "(insert count: 222, delete count: 0, upsert count: 0, timestamp: 452810261906325508, success count: 222, err count: 0\n"
     ]
    }
   ],
   "source": [
    "import ast\n",
    "\n",
    "for col in df['type'].unique():\n",
    "    data = df[df['type'] == col].loc[:, df.columns != 'type']\n",
    "    data = data.to_dict('records')\n",
    "    for d in data:\n",
    "        d['embedding'] = ast.literal_eval(d['embedding']) #Revert string representation to float array\n",
    "    collection = Collection(col)\n",
    "    print(collection.insert(data))"
   ]
  },
  {
   "cell_type": "code",
   "execution_count": 13,
   "metadata": {},
   "outputs": [],
   "source": [
    "# import json \n",
    "# data = []\n",
    "# for path in paths:\n",
    "#     with open(path, 'r', encoding='utf-8') as rstream:\n",
    "#         data = json.load(rstream)\n",
    "\n",
    "#     for d in data:\n",
    "#         d.pop('_id', None)\n",
    "#         d['school_year'] = int(d['school_year'])\n",
    "#     collection = Collection(path.split('\\\\')[-1].split('.')[0])\n",
    "#     collection.insert(data)\n"
   ]
  },
  {
   "cell_type": "markdown",
   "metadata": {},
   "source": [
    "***"
   ]
  },
  {
   "cell_type": "code",
   "execution_count": 80,
   "metadata": {},
   "outputs": [],
   "source": [
    "# for c in connections._fetch_handler('default').list_collections():\n",
    "#     Collection(c).drop()"
   ]
  },
  {
   "cell_type": "markdown",
   "metadata": {},
   "source": [
    "***"
   ]
  },
  {
   "cell_type": "markdown",
   "metadata": {},
   "source": [
    "## Try searching"
   ]
  },
  {
   "cell_type": "code",
   "execution_count": 65,
   "metadata": {},
   "outputs": [],
   "source": [
    "import os\n",
    "from ibm_watsonx_ai.metanames import EmbedTextParamsMetaNames as EmbedParams\n",
    "from ibm_watsonx_ai.foundation_models.utils.enums import EmbeddingTypes\n",
    "from ibm_watsonx_ai.foundation_models import Embeddings\n",
    "from dotenv import load_dotenv"
   ]
  },
  {
   "cell_type": "code",
   "execution_count": 66,
   "metadata": {},
   "outputs": [],
   "source": [
    "load_dotenv('./data/.env')\n",
    "my_credentials = {\n",
    "    \"url\": \"https://us-south.ml.cloud.ibm.com\",\n",
    "    \"apikey\": os.environ['WATSONX_APIKEY'],\n",
    "}\n",
    "\n",
    "# model_id = 'sentence-transformers/all-minilm-l12-v2'\n",
    "model_id = 'intfloat/multilingual-e5-large'\n",
    "gen_parms = None\n",
    "project_id = os.environ['WATSONX_PROJECT_ID']\n",
    "space_id = None\n",
    "verify = False\n",
    "\n",
    "# Set the truncate_input_tokens to a value that is equal to or \n",
    "# less than the maximum allowed tokens for the embedding model that you are using. \n",
    "# If you don't specify this value and the input has more tokens than the model can process, \n",
    "# an error is generated.\n",
    "\n",
    "embed_params = {\n",
    "    EmbedParams.TRUNCATE_INPUT_TOKENS: 512,\n",
    "}\n",
    "\n",
    "model = Embeddings(\n",
    "    model_id=model_id,\n",
    "    credentials=my_credentials,\n",
    "    params=embed_params,\n",
    "    project_id=project_id,\n",
    "    verify=verify\n",
    ")"
   ]
  },
  {
   "cell_type": "code",
   "execution_count": 67,
   "metadata": {},
   "outputs": [],
   "source": [
    "query=\"Khoa công nghệ thông tin là gì\""
   ]
  },
  {
   "cell_type": "code",
   "execution_count": 68,
   "metadata": {},
   "outputs": [],
   "source": [
    "query_embeddings = model.embed_query(query)\n",
    "\n",
    "col_name = \"student_handbook\"\n",
    "collection = Collection(col_name)\n",
    "collection.load()\n",
    "search_params = {\n",
    "    \"metric_type\": \"L2\",\n",
    "    \"params\": {\"nprobe\": 5}\n",
    "}\n",
    "top_k = 3\n",
    "output_fields = ['title', 'article'] #Section field to be added\n",
    "results = collection.search(\n",
    "    data=[query_embeddings],\n",
    "    anns_field=\"embedding\",\n",
    "    param=search_params,\n",
    "    limit=top_k,\n",
    "    expr=None,\n",
    "    output_fields=output_fields\n",
    ")"
   ]
  },
  {
   "cell_type": "code",
   "execution_count": null,
   "metadata": {},
   "outputs": [],
   "source": [
    "results[0][0].to_dict()"
   ]
  }
 ],
 "metadata": {
  "kernelspec": {
   "display_name": "Python 3",
   "language": "python",
   "name": "python3"
  },
  "language_info": {
   "codemirror_mode": {
    "name": "ipython",
    "version": 3
   },
   "file_extension": ".py",
   "mimetype": "text/x-python",
   "name": "python",
   "nbconvert_exporter": "python",
   "pygments_lexer": "ipython3",
   "version": "3.12.7"
  }
 },
 "nbformat": 4,
 "nbformat_minor": 2
}
