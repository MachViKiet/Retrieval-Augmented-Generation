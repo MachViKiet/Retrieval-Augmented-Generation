{
 "cells": [
  {
   "cell_type": "markdown",
   "metadata": {},
   "source": [
    "# Connect to Milvus"
   ]
  },
  {
   "cell_type": "code",
   "execution_count": 5,
   "metadata": {},
   "outputs": [],
   "source": [
    "from pymilvus import(\n",
    "    Milvus,\n",
    "    IndexType,\n",
    "    Status,\n",
    "    connections,\n",
    "    FieldSchema,\n",
    "    DataType,\n",
    "    Collection,\n",
    "    CollectionSchema\n",
    ")\n",
    "\n",
    "host = '158.175.181.136'\n",
    "port = '8080'\n",
    "password = '4XYg2XK6sMU4UuBEjHq4EhYE8mSFO3Qq'\n",
    "user = 'root'\n",
    "server_pem_path =  './data/cert.pem'\n",
    "\n",
    "connections.connect(alias = 'default',\n",
    "                host = host,\n",
    "                port = port,\n",
    "                user = user,\n",
    "                password = password,\n",
    "                server_pem_path=server_pem_path,\n",
    "                server_name = 'localhost',\n",
    "                secure = True)"
   ]
  },
  {
   "cell_type": "code",
   "execution_count": 84,
   "metadata": {},
   "outputs": [],
   "source": [
    "fields = [\n",
    "    FieldSchema(name=\"id\", dtype=DataType.INT64, is_primary=True, auto_id=True), # Primary key\n",
    "    FieldSchema(name=\"title\", dtype=DataType.VARCHAR, max_length=300,),\n",
    "    FieldSchema(name=\"article\", dtype=DataType.VARCHAR, max_length=2500,),\n",
    "    FieldSchema(name=\"embedding\", dtype=DataType.FLOAT_VECTOR, dim=1024,),\n",
    "    FieldSchema(name=\"school_year\", dtype=DataType.INT16, max_length=300,),\n",
    "    FieldSchema(name=\"in_effect\", dtype=DataType.VARCHAR, max_length=100,),\n",
    "    FieldSchema(name=\"file_links\", dtype=DataType.VARCHAR, max_length=300),\n",
    "    FieldSchema(name=\"created_at\", dtype=DataType.VARCHAR, max_length=200,),\n",
    "    FieldSchema(name=\"updated_at\", dtype=DataType.VARCHAR, max_length=200,),\n",
    "]\n",
    "\n",
    "schema = CollectionSchema(fields, \"news schema\")"
   ]
  },
  {
   "cell_type": "code",
   "execution_count": 85,
   "metadata": {},
   "outputs": [],
   "source": [
    "collection_names = ['recruitment', 'timetable', 'scholarship', 'academic_affairs', 'events']"
   ]
  },
  {
   "cell_type": "code",
   "execution_count": 86,
   "metadata": {},
   "outputs": [],
   "source": [
    "for col in collection_names:\n",
    "    collection = Collection(col, schema)\n",
    "    index_params = {\n",
    "        'metric_type':'L2',\n",
    "        'index_type':\"IVF_FLAT\",\n",
    "        'params':{\"nlist\":2048}\n",
    "    }\n",
    "    collection.create_index(field_name='embedding', index_params=index_params)"
   ]
  },
  {
   "cell_type": "code",
   "execution_count": 125,
   "metadata": {},
   "outputs": [
    {
     "data": {
      "text/plain": [
       "Status(code=0, message=)"
      ]
     },
     "execution_count": 125,
     "metadata": {},
     "output_type": "execute_result"
    }
   ],
   "source": [
    "fields = [\n",
    "    FieldSchema(name=\"id\", dtype=DataType.INT64, is_primary=True, auto_id=True), # Primary key\n",
    "    FieldSchema(name=\"title\", dtype=DataType.VARCHAR, max_length=300,),\n",
    "    FieldSchema(name=\"article\", dtype=DataType.VARCHAR, max_length=5000,),\n",
    "    FieldSchema(name=\"embedding\", dtype=DataType.FLOAT_VECTOR, dim=1024,),\n",
    "    FieldSchema(name='page_number', dtype=DataType.INT64),\n",
    "    FieldSchema(name=\"school_year\", dtype=DataType.INT16,),\n",
    "    FieldSchema(name=\"in_effect\", dtype=DataType.VARCHAR, max_length=100,),\n",
    "    FieldSchema(name=\"file_links\", dtype=DataType.VARCHAR, max_length=300),\n",
    "    FieldSchema(name=\"created_at\", dtype=DataType.VARCHAR, max_length=200,),\n",
    "    FieldSchema(name=\"updated_at\", dtype=DataType.VARCHAR, max_length=200,),\n",
    "]\n",
    "\n",
    "schema = CollectionSchema(fields, \"news schema\")\n",
    "\n",
    "collection = Collection('student_handbook', schema)\n",
    "\n",
    "index_params = {\n",
    "    'metric_type':'L2',\n",
    "    'index_type':\"IVF_FLAT\",\n",
    "    'params':{\"nlist\":2048}\n",
    "}\n",
    "collection.create_index(field_name='embedding', index_params=index_params)"
   ]
  },
  {
   "cell_type": "code",
   "execution_count": 126,
   "metadata": {},
   "outputs": [
    {
     "data": {
      "text/plain": [
       "['recruitment',\n",
       " 'scholarship',\n",
       " 'timetable',\n",
       " 'student_handbook',\n",
       " 'academic_affairs',\n",
       " 'events']"
      ]
     },
     "execution_count": 126,
     "metadata": {},
     "output_type": "execute_result"
    }
   ],
   "source": [
    "connections._fetch_handler('default').list_collections()"
   ]
  },
  {
   "cell_type": "markdown",
   "metadata": {},
   "source": [
    "# Process data"
   ]
  },
  {
   "cell_type": "code",
   "execution_count": 127,
   "metadata": {},
   "outputs": [],
   "source": [
    "from glob import glob\n",
    "\n",
    "paths = glob('./data/thesis_rag_data/*')"
   ]
  },
  {
   "cell_type": "markdown",
   "metadata": {},
   "source": [
    "***"
   ]
  },
  {
   "cell_type": "code",
   "execution_count": 136,
   "metadata": {},
   "outputs": [
    {
     "ename": "IndexError",
     "evalue": "list index out of range",
     "output_type": "error",
     "traceback": [
      "\u001b[1;31m---------------------------------------------------------------------------\u001b[0m",
      "\u001b[1;31mIndexError\u001b[0m                                Traceback (most recent call last)",
      "Cell \u001b[1;32mIn[136], line 1\u001b[0m\n\u001b[1;32m----> 1\u001b[0m path \u001b[38;5;241m=\u001b[39m \u001b[43mpaths\u001b[49m\u001b[43m[\u001b[49m\u001b[38;5;241;43m6\u001b[39;49m\u001b[43m]\u001b[49m\n\u001b[0;32m      2\u001b[0m path\n",
      "\u001b[1;31mIndexError\u001b[0m: list index out of range"
     ]
    }
   ],
   "source": [
    "path = paths[6]\n",
    "path"
   ]
  },
  {
   "cell_type": "code",
   "execution_count": 133,
   "metadata": {},
   "outputs": [],
   "source": [
    "import json\n",
    "with open(path, 'r', encoding='utf-8') as rstream:\n",
    "    data = json.load(rstream)\n",
    "\n",
    "for d in data:\n",
    "    d.pop('_id', None)\n",
    "    d['school_year'] = int(d['school_year'])"
   ]
  },
  {
   "cell_type": "code",
   "execution_count": 134,
   "metadata": {},
   "outputs": [],
   "source": [
    "collection = Collection('timetable')"
   ]
  },
  {
   "cell_type": "code",
   "execution_count": 135,
   "metadata": {},
   "outputs": [
    {
     "data": {
      "text/plain": [
       "(insert count: 8, delete count: 0, upsert count: 0, timestamp: 452156547920035842, success count: 8, err count: 0"
      ]
     },
     "execution_count": 135,
     "metadata": {},
     "output_type": "execute_result"
    }
   ],
   "source": [
    "collection.insert(data)"
   ]
  },
  {
   "cell_type": "markdown",
   "metadata": {},
   "source": [
    "***"
   ]
  },
  {
   "cell_type": "code",
   "execution_count": 80,
   "metadata": {},
   "outputs": [],
   "source": [
    "# for c in connections._fetch_handler('default').list_collections():\n",
    "#     Collection(c).drop()"
   ]
  },
  {
   "cell_type": "markdown",
   "metadata": {},
   "source": [
    "***"
   ]
  },
  {
   "cell_type": "code",
   "execution_count": 138,
   "metadata": {},
   "outputs": [],
   "source": [
    "import os\n",
    "from ibm_watsonx_ai.metanames import EmbedTextParamsMetaNames as EmbedParams\n",
    "from ibm_watsonx_ai.foundation_models.utils.enums import EmbeddingTypes\n",
    "from ibm_watsonx_ai.foundation_models import Embeddings\n",
    "from dotenv import load_dotenv"
   ]
  },
  {
   "cell_type": "code",
   "execution_count": 139,
   "metadata": {},
   "outputs": [],
   "source": [
    "load_dotenv('./data/.env')\n",
    "my_credentials = {\n",
    "    \"url\": \"https://us-south.ml.cloud.ibm.com\",\n",
    "    \"apikey\": os.environ['WATSONX_APIKEY'],\n",
    "}\n",
    "\n",
    "# model_id = 'sentence-transformers/all-minilm-l12-v2'\n",
    "model_id = 'intfloat/multilingual-e5-large'\n",
    "gen_parms = None\n",
    "project_id = os.environ['WATSONX_PROJECT_ID']\n",
    "space_id = None\n",
    "verify = False\n",
    "\n",
    "# Set the truncate_input_tokens to a value that is equal to or less than the maximum allowed tokens for the embedding model that you are using. If you don't specify this value and the input has more tokens than the model can process, an error is generated.\n",
    "\n",
    "embed_params = {\n",
    "    EmbedParams.TRUNCATE_INPUT_TOKENS: 512,\n",
    "}\n",
    "\n",
    "model = Embeddings(\n",
    "    model_id=model_id,\n",
    "    credentials=my_credentials,\n",
    "    params=embed_params,\n",
    "    project_id=project_id,\n",
    "    verify=verify\n",
    ")"
   ]
  },
  {
   "cell_type": "code",
   "execution_count": 140,
   "metadata": {},
   "outputs": [],
   "source": [
    "query=\"Khoa công nghệ thông tin là gì\""
   ]
  },
  {
   "cell_type": "code",
   "execution_count": 144,
   "metadata": {},
   "outputs": [],
   "source": [
    "query_embeddings = model.embed_query(query)\n",
    "\n",
    "col_name = \"student_handbook\"\n",
    "collection = Collection(col_name)\n",
    "collection.load()\n",
    "search_params = {\n",
    "    \"metric_type\": \"L2\",\n",
    "    \"params\": {\"nprobe\": 5}\n",
    "}\n",
    "top_k = 3\n",
    "output_fields = ['title', 'article'] #Section field to be added\n",
    "results = collection.search(\n",
    "    data=[query_embeddings],\n",
    "    anns_field=\"embedding\",\n",
    "    param=search_params,\n",
    "    limit=top_k,\n",
    "    expr=None,\n",
    "    output_fields=output_fields\n",
    ")"
   ]
  },
  {
   "cell_type": "code",
   "execution_count": 167,
   "metadata": {},
   "outputs": [
    {
     "name": "stdout",
     "output_type": "stream",
     "text": [
      "0.2861247956752777\n",
      "0.29169338941574097\n",
      "0.29555103182792664\n"
     ]
    }
   ],
   "source": [
    "for r in results[0]:\n",
    "    print(r.distance)"
   ]
  }
 ],
 "metadata": {
  "kernelspec": {
   "display_name": "Python 3",
   "language": "python",
   "name": "python3"
  },
  "language_info": {
   "codemirror_mode": {
    "name": "ipython",
    "version": 3
   },
   "file_extension": ".py",
   "mimetype": "text/x-python",
   "name": "python",
   "nbconvert_exporter": "python",
   "pygments_lexer": "ipython3",
   "version": "3.11.9"
  }
 },
 "nbformat": 4,
 "nbformat_minor": 2
}
