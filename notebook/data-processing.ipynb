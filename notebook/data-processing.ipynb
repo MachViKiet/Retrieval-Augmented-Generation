{
 "cells": [
  {
   "cell_type": "code",
   "execution_count": 1,
   "metadata": {},
   "outputs": [],
   "source": [
    "import pandas as pd"
   ]
  },
  {
   "cell_type": "code",
   "execution_count": 2,
   "metadata": {},
   "outputs": [
    {
     "name": "stderr",
     "output_type": "stream",
     "text": [
      "<>:1: SyntaxWarning: invalid escape sequence '\\d'\n",
      "<>:1: SyntaxWarning: invalid escape sequence '\\d'\n",
      "C:\\Users\\NguyenDuyDangKhoa\\AppData\\Local\\Temp\\ipykernel_3672\\3950369667.py:1: SyntaxWarning: invalid escape sequence '\\d'\n",
      "  df = pd.read_csv('.\\data\\FIT_news_embedded.csv')\n"
     ]
    },
    {
     "name": "stdout",
     "output_type": "stream",
     "text": [
      "<class 'pandas.core.frame.DataFrame'>\n",
      "RangeIndex: 994 entries, 0 to 993\n",
      "Data columns (total 11 columns):\n",
      " #   Column       Non-Null Count  Dtype \n",
      "---  ------       --------------  ----- \n",
      " 0   title        994 non-null    object\n",
      " 1   article      994 non-null    object\n",
      " 2   file_links   994 non-null    object\n",
      " 3   url          994 non-null    object\n",
      " 4   type         994 non-null    object\n",
      " 5   created_at   994 non-null    object\n",
      " 6   school_year  994 non-null    int64 \n",
      " 7   in_effect    994 non-null    int64 \n",
      " 8   chunks       994 non-null    object\n",
      " 9   chunk_ids    994 non-null    int64 \n",
      " 10  embedding    994 non-null    object\n",
      "dtypes: int64(3), object(8)\n",
      "memory usage: 85.6+ KB\n"
     ]
    }
   ],
   "source": [
    "df = pd.read_csv('.\\data\\FIT_news_embedded.csv')\n",
    "df.info()"
   ]
  },
  {
   "cell_type": "code",
   "execution_count": 9,
   "metadata": {},
   "outputs": [
    {
     "data": {
      "text/plain": [
       "array([2024, 2023, 2020, 2022, 2021])"
      ]
     },
     "execution_count": 9,
     "metadata": {},
     "output_type": "execute_result"
    }
   ],
   "source": [
    "pd.to_datetime(df['created_at'], format='%d/%m/%Y').dt.year.unique()"
   ]
  },
  {
   "cell_type": "code",
   "execution_count": 10,
   "metadata": {},
   "outputs": [],
   "source": [
    "df['school_year'] = pd.to_datetime(df['created_at'], format='%d/%m/%Y').dt.year\n",
    "df['is_active'] = True"
   ]
  },
  {
   "cell_type": "code",
   "execution_count": 13,
   "metadata": {},
   "outputs": [
    {
     "data": {
      "text/html": [
       "<div>\n",
       "<style scoped>\n",
       "    .dataframe tbody tr th:only-of-type {\n",
       "        vertical-align: middle;\n",
       "    }\n",
       "\n",
       "    .dataframe tbody tr th {\n",
       "        vertical-align: top;\n",
       "    }\n",
       "\n",
       "    .dataframe thead th {\n",
       "        text-align: right;\n",
       "    }\n",
       "</style>\n",
       "<table border=\"1\" class=\"dataframe\">\n",
       "  <thead>\n",
       "    <tr style=\"text-align: right;\">\n",
       "      <th></th>\n",
       "      <th>title</th>\n",
       "      <th>article</th>\n",
       "      <th>file_links</th>\n",
       "      <th>url</th>\n",
       "      <th>type</th>\n",
       "      <th>created_at</th>\n",
       "      <th>school_year</th>\n",
       "      <th>in_effect</th>\n",
       "      <th>chunks</th>\n",
       "      <th>chunk_ids</th>\n",
       "      <th>embedding</th>\n",
       "      <th>is_active</th>\n",
       "    </tr>\n",
       "  </thead>\n",
       "  <tbody>\n",
       "    <tr>\n",
       "      <th>0</th>\n",
       "      <td>Chương trình Hành trang tân sinh viên Khoa Côn...</td>\n",
       "      <td>\\r\\nI. LỊCH SINH HOẠT DÀNH CHO SINH VIÊN CHƯƠN...</td>\n",
       "      <td>[]</td>\n",
       "      <td>https://www.fit.hcmus.edu.vn/tin-tuc/d/chuong-...</td>\n",
       "      <td>events</td>\n",
       "      <td>06/09/2024</td>\n",
       "      <td>2024</td>\n",
       "      <td>2024</td>\n",
       "      <td>I. LỊCH SINH HOẠT DÀNH CHO SINH VIÊN CHƯƠNG TR...</td>\n",
       "      <td>1</td>\n",
       "      <td>[0.039748985, -0.011164816, -0.00078401115, -0...</td>\n",
       "      <td>True</td>\n",
       "    </tr>\n",
       "    <tr>\n",
       "      <th>1</th>\n",
       "      <td>Chương trình Hành trang tân sinh viên Khoa Côn...</td>\n",
       "      <td>\\r\\nI. LỊCH SINH HOẠT DÀNH CHO SINH VIÊN CHƯƠN...</td>\n",
       "      <td>[]</td>\n",
       "      <td>https://www.fit.hcmus.edu.vn/tin-tuc/d/chuong-...</td>\n",
       "      <td>events</td>\n",
       "      <td>06/09/2024</td>\n",
       "      <td>2024</td>\n",
       "      <td>2024</td>\n",
       "      <td>16g30\\r\\nthứ bảy ngày 14/09/2024Địa điểm:\\r\\nG...</td>\n",
       "      <td>2</td>\n",
       "      <td>[0.022049922, -0.0014875026, -0.0031239209, -0...</td>\n",
       "      <td>True</td>\n",
       "    </tr>\n",
       "  </tbody>\n",
       "</table>\n",
       "</div>"
      ],
      "text/plain": [
       "                                               title  \\\n",
       "0  Chương trình Hành trang tân sinh viên Khoa Côn...   \n",
       "1  Chương trình Hành trang tân sinh viên Khoa Côn...   \n",
       "\n",
       "                                             article file_links  \\\n",
       "0  \\r\\nI. LỊCH SINH HOẠT DÀNH CHO SINH VIÊN CHƯƠN...         []   \n",
       "1  \\r\\nI. LỊCH SINH HOẠT DÀNH CHO SINH VIÊN CHƯƠN...         []   \n",
       "\n",
       "                                                 url    type  created_at  \\\n",
       "0  https://www.fit.hcmus.edu.vn/tin-tuc/d/chuong-...  events  06/09/2024   \n",
       "1  https://www.fit.hcmus.edu.vn/tin-tuc/d/chuong-...  events  06/09/2024   \n",
       "\n",
       "   school_year  in_effect                                             chunks  \\\n",
       "0         2024       2024  I. LỊCH SINH HOẠT DÀNH CHO SINH VIÊN CHƯƠNG TR...   \n",
       "1         2024       2024  16g30\\r\\nthứ bảy ngày 14/09/2024Địa điểm:\\r\\nG...   \n",
       "\n",
       "   chunk_ids                                          embedding  is_active  \n",
       "0          1  [0.039748985, -0.011164816, -0.00078401115, -0...       True  \n",
       "1          2  [0.022049922, -0.0014875026, -0.0031239209, -0...       True  "
      ]
     },
     "execution_count": 13,
     "metadata": {},
     "output_type": "execute_result"
    }
   ],
   "source": [
    "df.head(2)"
   ]
  },
  {
   "cell_type": "code",
   "execution_count": 14,
   "metadata": {},
   "outputs": [
    {
     "data": {
      "text/plain": [
       "array(['events', 'academic_affairs', 'scholarship', 'timetable',\n",
       "       'recruitment'], dtype=object)"
      ]
     },
     "execution_count": 14,
     "metadata": {},
     "output_type": "execute_result"
    }
   ],
   "source": [
    "df['type'].unique()"
   ]
  },
  {
   "cell_type": "markdown",
   "metadata": {},
   "source": [
    "# Generate metadata"
   ]
  },
  {
   "cell_type": "markdown",
   "metadata": {},
   "source": [
    "Events - location(1,2)  \n",
    "academic affairs  \n",
    "scholarship, recruitment - keywords(array of string), majors(array of string)  \n",
    "timetable - subject(string)"
   ]
  },
  {
   "cell_type": "code",
   "execution_count": 15,
   "metadata": {},
   "outputs": [],
   "source": [
    "WATSONX_APIKEY='ddhZhPOfHZvBDktnnZ10hSX6bUJRXfpNmtct-q3_Td0z'\n",
    "\n",
    "WATSONX_PROJECT_ID='f1634c35-51e6-4d99-b617-010ac64db4d5'\n",
    "model_id = \"meta-llama/llama-3-1-70b-instruct\"\n",
    "\n",
    "from dotenv import load_dotenv\n",
    "from ibm_watsonx_ai.foundation_models import ModelInference\n",
    "from ibm_watsonx_ai.metanames import GenTextParamsMetaNames as GenParams\n",
    "\n",
    "credentials = {\n",
    "            \"apikey\": WATSONX_APIKEY,\n",
    "            \"url\": \"https://us-south.ml.cloud.ibm.com\",\n",
    "        }\n",
    "\n",
    "model = ModelInference(\n",
    "    model_id=model_id,\n",
    "    credentials=credentials,\n",
    "    params={\n",
    "        GenParams.DECODING_METHOD: \"greedy\",\n",
    "        GenParams.MAX_NEW_TOKENS: 500,\n",
    "        # GenParams.STOP_SEQUENCES: [],\n",
    "    },\n",
    "    project_id=WATSONX_PROJECT_ID,\n",
    ")"
   ]
  },
  {
   "cell_type": "markdown",
   "metadata": {},
   "source": [
    "## Generate location - events collection"
   ]
  },
  {
   "cell_type": "code",
   "execution_count": 76,
   "metadata": {},
   "outputs": [],
   "source": [
    "prompt = \"\"\"The following is a news article about an event at a school. Extract the location from the article if mentioned.\n",
    "The school has two locations, with a few details about each location provided below:\n",
    "Location 1: Cơ sở 1 - Cơ sở quận 5 - 227 Nguyễn Văn Cừ, Phường 4, Quận 5.\n",
    "Location 2: Cơ sở 2 - Cơ sở Thủ Đức/Linh Trung - Làng Đại học, Phường Linh Trung, Thành phố Thủ Đức.\n",
    "Return the number corresponding to the location. If no location of the two provided or both locations is mentioned, return 0. Note that the location may not be explicitly mentioned in full in the article.\n",
    "Article: '''{article}'''.\n",
    "Only answer with the number.\n",
    "\"\"\""
   ]
  },
  {
   "cell_type": "code",
   "execution_count": 90,
   "metadata": {},
   "outputs": [
    {
     "data": {
      "text/plain": [
       "array(['https://www.fit.hcmus.edu.vn/tin-tuc/d/dang-ky-tham-du-buoi-trao-doi-cac-phuong-thuc-thuc-hien-de-tai-danh-cho-hoc-vien-cao-hoc-khoa-32-2022-ngay-01-11-2023'],\n",
       "      dtype=object)"
      ]
     },
     "execution_count": 90,
     "metadata": {},
     "output_type": "execute_result"
    }
   ],
   "source": [
    "sample = df[df['type'] == 'events'].sample()\n",
    "sample['url'].values"
   ]
  },
  {
   "cell_type": "code",
   "execution_count": 91,
   "metadata": {},
   "outputs": [
    {
     "data": {
      "text/plain": [
       "'0'"
      ]
     },
     "execution_count": 91,
     "metadata": {},
     "output_type": "execute_result"
    }
   ],
   "source": [
    "full_prompt = prompt.format(article=sample['article'].values[0])\n",
    "model.generate_text(full_prompt).replace('<|eom_id|>','')"
   ]
  },
  {
   "cell_type": "code",
   "execution_count": 93,
   "metadata": {},
   "outputs": [],
   "source": [
    "full_prompts = [prompt.format(article=article) for article in df[df['type'] == 'events']['article'].values]"
   ]
  },
  {
   "cell_type": "code",
   "execution_count": 94,
   "metadata": {},
   "outputs": [],
   "source": [
    "locations = model.generate_text(full_prompts)"
   ]
  },
  {
   "cell_type": "code",
   "execution_count": 95,
   "metadata": {},
   "outputs": [
    {
     "data": {
      "text/plain": [
       "266"
      ]
     },
     "execution_count": 95,
     "metadata": {},
     "output_type": "execute_result"
    }
   ],
   "source": [
    "len(locations)"
   ]
  },
  {
   "cell_type": "code",
   "execution_count": 98,
   "metadata": {},
   "outputs": [
    {
     "data": {
      "text/plain": [
       "[1,\n",
       " 1,\n",
       " 1,\n",
       " 1,\n",
       " 1,\n",
       " 1,\n",
       " 1,\n",
       " 1,\n",
       " 1,\n",
       " 1,\n",
       " 0,\n",
       " 1,\n",
       " 1,\n",
       " 0,\n",
       " 1,\n",
       " 1,\n",
       " 0,\n",
       " 0,\n",
       " 0,\n",
       " 0,\n",
       " 0,\n",
       " 0,\n",
       " 0,\n",
       " 0,\n",
       " 0,\n",
       " 1,\n",
       " 1,\n",
       " 0,\n",
       " 1,\n",
       " 1,\n",
       " 0,\n",
       " 0,\n",
       " 1,\n",
       " 1,\n",
       " 1,\n",
       " 1,\n",
       " 0,\n",
       " 0,\n",
       " 0,\n",
       " 0,\n",
       " 0,\n",
       " 0,\n",
       " 0,\n",
       " 0,\n",
       " 0,\n",
       " 0,\n",
       " 0,\n",
       " 0,\n",
       " 0,\n",
       " 0,\n",
       " 0,\n",
       " 0,\n",
       " 0,\n",
       " 0,\n",
       " 0,\n",
       " 0,\n",
       " 1,\n",
       " 1,\n",
       " 1,\n",
       " 0,\n",
       " 0,\n",
       " 1,\n",
       " 1,\n",
       " 1,\n",
       " 1,\n",
       " 1,\n",
       " 0,\n",
       " 0,\n",
       " 0,\n",
       " 0,\n",
       " 0,\n",
       " 0,\n",
       " 0,\n",
       " 0,\n",
       " 1,\n",
       " 1,\n",
       " 1,\n",
       " 0,\n",
       " 0,\n",
       " 1,\n",
       " 1,\n",
       " 0,\n",
       " 0,\n",
       " 0,\n",
       " 0,\n",
       " 0,\n",
       " 0,\n",
       " 0,\n",
       " 0,\n",
       " 0,\n",
       " 0,\n",
       " 1,\n",
       " 1,\n",
       " 1,\n",
       " 0,\n",
       " 0,\n",
       " 0,\n",
       " 1,\n",
       " 1,\n",
       " 0,\n",
       " 0,\n",
       " 0,\n",
       " 2,\n",
       " 1,\n",
       " 1,\n",
       " 0,\n",
       " 0,\n",
       " 0,\n",
       " 2,\n",
       " 2,\n",
       " 0,\n",
       " 0,\n",
       " 2,\n",
       " 0,\n",
       " 1,\n",
       " 1,\n",
       " 0,\n",
       " 0,\n",
       " 1,\n",
       " 1,\n",
       " 0,\n",
       " 0,\n",
       " 0,\n",
       " 0,\n",
       " 0,\n",
       " 0,\n",
       " 0,\n",
       " 0,\n",
       " 0,\n",
       " 1,\n",
       " 0,\n",
       " 1,\n",
       " 1,\n",
       " 0,\n",
       " 1,\n",
       " 0,\n",
       " 1,\n",
       " 0,\n",
       " 0,\n",
       " 1,\n",
       " 1,\n",
       " 0,\n",
       " 0,\n",
       " 0,\n",
       " 0,\n",
       " 0,\n",
       " 0,\n",
       " 0,\n",
       " 1,\n",
       " 1,\n",
       " 2,\n",
       " 0,\n",
       " 0,\n",
       " 0,\n",
       " 0,\n",
       " 1,\n",
       " 0,\n",
       " 0,\n",
       " 0,\n",
       " 0,\n",
       " 0,\n",
       " 0,\n",
       " 0,\n",
       " 0,\n",
       " 0,\n",
       " 0,\n",
       " 1,\n",
       " 1,\n",
       " 1,\n",
       " 2,\n",
       " 0,\n",
       " 0,\n",
       " 1,\n",
       " 0,\n",
       " 2,\n",
       " 2,\n",
       " 1,\n",
       " 1,\n",
       " 0,\n",
       " 0,\n",
       " 0,\n",
       " 0,\n",
       " 0,\n",
       " 0,\n",
       " 0,\n",
       " 0,\n",
       " 0,\n",
       " 0,\n",
       " 0,\n",
       " 0,\n",
       " 1,\n",
       " 1,\n",
       " 2,\n",
       " 0,\n",
       " 1,\n",
       " 1,\n",
       " 0,\n",
       " 1,\n",
       " 1,\n",
       " 1,\n",
       " 1,\n",
       " 1,\n",
       " 0,\n",
       " 0,\n",
       " 0,\n",
       " 1,\n",
       " 0,\n",
       " 0,\n",
       " 0,\n",
       " 2,\n",
       " 2,\n",
       " 2,\n",
       " 0,\n",
       " 0,\n",
       " 0,\n",
       " 0,\n",
       " 1,\n",
       " 1,\n",
       " 1,\n",
       " 1,\n",
       " 1,\n",
       " 1,\n",
       " 1,\n",
       " 1,\n",
       " 1,\n",
       " 0,\n",
       " 1,\n",
       " 1,\n",
       " 1,\n",
       " 1,\n",
       " 0,\n",
       " 0,\n",
       " 2,\n",
       " 2,\n",
       " 1,\n",
       " 1,\n",
       " 0,\n",
       " 1,\n",
       " 0,\n",
       " 0,\n",
       " 1,\n",
       " 1,\n",
       " 1,\n",
       " 0,\n",
       " 1,\n",
       " 0,\n",
       " 0,\n",
       " 2,\n",
       " 0,\n",
       " 1,\n",
       " 0,\n",
       " 0,\n",
       " 0,\n",
       " 0,\n",
       " 0,\n",
       " 0,\n",
       " 0,\n",
       " 0,\n",
       " 0,\n",
       " 1,\n",
       " 0,\n",
       " 0,\n",
       " 0,\n",
       " 0,\n",
       " 0,\n",
       " 0]"
      ]
     },
     "execution_count": 98,
     "metadata": {},
     "output_type": "execute_result"
    }
   ],
   "source": [
    "locations = [int(float(l)) for l in locations]\n",
    "locations"
   ]
  },
  {
   "cell_type": "code",
   "execution_count": 99,
   "metadata": {},
   "outputs": [],
   "source": [
    "df.loc[df['type'] == 'events', 'location'] = locations"
   ]
  },
  {
   "cell_type": "code",
   "execution_count": 101,
   "metadata": {},
   "outputs": [
    {
     "name": "stdout",
     "output_type": "stream",
     "text": [
      "<class 'pandas.core.frame.DataFrame'>\n",
      "RangeIndex: 994 entries, 0 to 993\n",
      "Data columns (total 13 columns):\n",
      " #   Column       Non-Null Count  Dtype  \n",
      "---  ------       --------------  -----  \n",
      " 0   title        994 non-null    object \n",
      " 1   article      994 non-null    object \n",
      " 2   file_links   994 non-null    object \n",
      " 3   url          994 non-null    object \n",
      " 4   type         994 non-null    object \n",
      " 5   created_at   994 non-null    object \n",
      " 6   school_year  994 non-null    int32  \n",
      " 7   in_effect    994 non-null    int64  \n",
      " 8   chunks       994 non-null    object \n",
      " 9   chunk_ids    994 non-null    int64  \n",
      " 10  embedding    994 non-null    object \n",
      " 11  is_active    994 non-null    bool   \n",
      " 12  location     266 non-null    float64\n",
      "dtypes: bool(1), float64(1), int32(1), int64(2), object(8)\n",
      "memory usage: 90.4+ KB\n"
     ]
    }
   ],
   "source": [
    "df.info()"
   ]
  },
  {
   "cell_type": "markdown",
   "metadata": {},
   "source": [
    "## keywords, majors"
   ]
  },
  {
   "cell_type": "code",
   "execution_count": 135,
   "metadata": {},
   "outputs": [],
   "source": [
    "prompt = \"\"\"Extract the keywords mentioned in the following article.\n",
    "Keywords are IT technological skills related to the article. Do not extract any other kinds of general keywords. Do not repeat keywords.\n",
    "Article: '''{article}'''.\n",
    "Output the keywords in a list, with a maximum of 5 keywords. Only answer with the list representation. If no keywords are mentioned, return an empty list.\n",
    "\"\"\""
   ]
  },
  {
   "cell_type": "code",
   "execution_count": 136,
   "metadata": {},
   "outputs": [
    {
     "data": {
      "text/plain": [
       "'https://www.fit.hcmus.edu.vn/tin-tuc/d/lihuhu-unity_mobile-game-developer-vietnamese-ver-may2024'"
      ]
     },
     "execution_count": 136,
     "metadata": {},
     "output_type": "execute_result"
    }
   ],
   "source": [
    "sample = df[df['type'].isin(['recruitment', 'scholarship'])].sample()\n",
    "sample['url'].values[0]"
   ]
  },
  {
   "cell_type": "code",
   "execution_count": 137,
   "metadata": {},
   "outputs": [
    {
     "data": {
      "text/plain": [
       "\"['Unity', 'Unity 3D Game Engine', 'Firebase', 'GIT', 'OOP']\""
      ]
     },
     "execution_count": 137,
     "metadata": {},
     "output_type": "execute_result"
    }
   ],
   "source": [
    "full_prompt = prompt.format(article=sample['article'].values[0])\n",
    "model.generate_text(full_prompt).replace('<|eom_id|>','')"
   ]
  },
  {
   "cell_type": "code",
   "execution_count": 138,
   "metadata": {},
   "outputs": [],
   "source": [
    "full_prompts = [prompt.format(article=article) for article in df[df['type'].isin(['recruitment', 'scholarship'])]['article'].values]"
   ]
  },
  {
   "cell_type": "code",
   "execution_count": 147,
   "metadata": {},
   "outputs": [
    {
     "data": {
      "text/plain": [
       "308"
      ]
     },
     "execution_count": 147,
     "metadata": {},
     "output_type": "execute_result"
    }
   ],
   "source": [
    "keywords = model.generate_text(full_prompts)\n",
    "len(keywords)"
   ]
  },
  {
   "cell_type": "code",
   "execution_count": 148,
   "metadata": {},
   "outputs": [
    {
     "data": {
      "text/plain": [
       "[\"['']\",\n",
       " \"['email']\",\n",
       " \"['công nghệ thông tin']\",\n",
       " \"['email']\",\n",
       " \"['email']\",\n",
       " \"['email']\",\n",
       " \"['cntt']\",\n",
       " '[]',\n",
       " \"['']\",\n",
       " \"['trí tuệ nhân tạo', 'khoa học', 'cntt', 'dữ liệu lớn', 'nghiên cứu']\",\n",
       " \"['trí tuệ nhân tạo', 'khoa học', 'cntt', 'dữ liệu lớn']\",\n",
       " \"['algorithmic trading', 'trading strategies', 'algorithmic trading systems']\",\n",
       " \"['html', 'css', 'oop', 'ruby', 'sql']\",\n",
       " \"['html', 'css', 'oop', 'ruby', 'sql']\",\n",
       " \"['frontend', 'backend', 'mobile', 'qa/qc', 'design']\",\n",
       " \"['frontend', 'backend', 'mobile', 'qa/qc', 'design']\",\n",
       " \"['it']\",\n",
       " \"['javascript', 'typescript', 'ruby', 'go', 'kotlin']\",\n",
       " \"['javascript', 'typescript', 'ruby', 'go', 'kotlin']\",\n",
       " \"['javascript', 'typescript', 'ruby', 'go', 'kotlin']\",\n",
       " \"['javascript', 'typescript', 'ruby', 'go', 'kotlin']\",\n",
       " \"['tcp/ip', 'routing', 'switching', 'mpls', 'osi']\",\n",
       " \"['dart', 'java', 'kotlin', 'c#', 'json']\",\n",
       " \"['cloud computing', 'rust', 'python']\",\n",
       " \"['kỹ thuật phần mềm', 'khoa học máy tính', 'khoa học thông tin', 'kỹ thuật truyền thông', 'kỹ thuật điện']\",\n",
       " \"['kỹ thuật phần mềm', 'khoa học máy tính', 'khoa học thông tin', 'kỹ thuật truyền thông', 'kỹ thuật điện']\",\n",
       " \"['kỹ thuật phần mềm', 'khoa học máy tính', 'khoa học thông tin', 'kỹ thuật truyền thông', 'kỹ thuật điện']\",\n",
       " \"['kỹ thuật phần mềm', 'khoa học máy tính', 'khoa học thông tin', 'kỹ thuật truyền thông', 'kỹ thuật điện']\",\n",
       " \"['kỹ thuật phần mềm', 'khoa học máy tính', 'khoa học thông tin', 'kỹ thuật truyền thông', 'kỹ thuật điện']\",\n",
       " \"['kỹ thuật phần mềm', 'khoa học máy tính', 'khoa học thông tin', 'kỹ thuật truyền thông', 'kỹ thuật điện']\",\n",
       " \"['kỹ thuật phần mềm', 'khoa học máy tính', 'khoa học thông tin', 'kỹ thuật truyền thông', 'kỹ thuật điện']\",\n",
       " \"['']\",\n",
       " '[]',\n",
       " '[]',\n",
       " '[]',\n",
       " '[]',\n",
       " \"['cntt']\",\n",
       " \"['jotform']\",\n",
       " '[]',\n",
       " '[]',\n",
       " '[]',\n",
       " '[]',\n",
       " \"['hardware design', 'software design', 'semiconductor']\",\n",
       " \"['cloud computing', 'ai basics', '5g basics', 'digital power', 'ict']\",\n",
       " \"['cloud computing', 'ai basics', '5g basics', 'digital power', 'ict']\",\n",
       " \"['cloud computing', 'ai basics', '5g basics', 'digital power', 'ict']\",\n",
       " \"['python', 'c++', 'matlab']\",\n",
       " \"['python', 'c++', 'matlab']\",\n",
       " \"['python', 'c++', 'matlab']\",\n",
       " \"['python', 'c++', 'matlab']\",\n",
       " \"['microsoft system center operations manager', 'windows server', 'itsm']\",\n",
       " \"['microsoft system center operations manager', 'windows server', 'itsm']\",\n",
       " \"['ruby on rails', 'full-stack js', 'python', 'php', 'ai/ml']\",\n",
       " \"['html', 'css', 'javascript', 'angular', 'reactjs']\",\n",
       " \"['c', 'c++', 'java', 'python', 'sql']\",\n",
       " \"['c', 'c++', 'java', 'python', 'sql']\",\n",
       " \"['c', 'c++', 'java', 'python', 'sql']\",\n",
       " \"['c', 'c++', 'java', 'python', 'sql']\",\n",
       " \"['c', 'c++', 'java', 'python', 'sql']\",\n",
       " \"['c / c++', 'swift', 'java', 'dart', 'python']\",\n",
       " \"['c / c++', 'swift', 'java', 'dart', 'python']\",\n",
       " \"['c', 'c++', 'java', 'python', 'sql']\",\n",
       " \"['it']\",\n",
       " '[]',\n",
       " \"['it', 'cntt']\",\n",
       " '[]',\n",
       " '[]',\n",
       " '[]',\n",
       " \"['it', 'cntt']\",\n",
       " \"['cntt']\",\n",
       " '[]',\n",
       " \"['linux', 'ms office', 'google sheets']\",\n",
       " \"['reactjs', 'figma', 'photoshop', 'sketch', 'adobe xd']\",\n",
       " \"['reactjs', 'figma', 'photoshop', 'sketch', 'adobe xd']\",\n",
       " \"['java', 'asp.net', 'sql server', 'html', 'css']\",\n",
       " \"['java', 'asp.net', 'sql server', 'html', 'css']\",\n",
       " \"['java', 'asp.net', 'sql server', 'html', 'css']\",\n",
       " \"['unity', 'game developer', 'game backend developer', 'game designer', 'system administrator']\",\n",
       " \"['java', 'python', '.net', 'c++', 'ai']\",\n",
       " \"['html', 'css', 'javascript', 'nodejs', 'react js']\",\n",
       " \"['c#', '.net', 'unity', 'opengl', 'asp.net']\",\n",
       " \"['c#', '.net', 'unity', 'opengl', 'asp.net']\",\n",
       " \"['c#', '.net', 'unity', 'opengl', 'asp.net']\",\n",
       " \"['công nghệ thông tin', 'tự động hóa', 'điện tử viễn thông', 'năng lượng', 'công nghệ']\",\n",
       " \"['công nghệ thông tin', 'tự động hóa', 'điện tử viễn thông', 'năng lượng', 'công nghệ']\",\n",
       " \"['công nghệ thông tin', 'tự động hóa', 'điện tử viễn thông', 'năng lượng', 'công nghệ']\",\n",
       " \"['công nghệ thông tin', 'tự động hóa', 'điện tử viễn thông', 'năng lượng', 'công nghệ']\",\n",
       " \"['công nghệ thông tin', 'tự động hóa', 'điện tử viễn thông', 'năng lượng', 'công nghệ']\",\n",
       " \"['khoa học máy tính', 'trí tuệ nhân tạo', 'công nghệ thông tin', 'khoa học dữ liệu', 'cntt']\",\n",
       " \"['']\",\n",
       " \"['']\",\n",
       " \"['']\",\n",
       " \"['']\",\n",
       " \"['']\",\n",
       " '[]',\n",
       " \"['']\",\n",
       " \"['information science', 'gpu', 'server', 'khoa học máy tính', 'trí tuệ nhân tạo']\",\n",
       " \"['information science', 'gpu', 'server', 'khoa học máy tính', 'trí tuệ nhân tạo']\",\n",
       " \"['flutter', 'ror']\",\n",
       " \"['python', 'go', 'nodejs', 'c++', 'algorithms']\",\n",
       " \"['python', 'go', 'nodejs', 'c++', 'algorithms']\",\n",
       " \"['python', 'go', 'nodejs', 'c++', 'algorithms']\",\n",
       " \"['python', 'go', 'nodejs', 'c++', 'algorithms']\",\n",
       " \"['python', 'go', 'nodejs', 'c++', 'algorithms']\",\n",
       " \"['unity', 'unity 3d game engine', 'firebase', 'git', 'oop']\",\n",
       " \"['unity', 'unity 3d game engine', 'firebase', 'git', 'oop']\",\n",
       " \"['unity', 'unity 3d game engine', 'oop', 'git', 'firebase']\",\n",
       " \"['unity', 'unity 3d game engine', 'firebase', 'git', 'oop']\",\n",
       " \"['unity', 'unity 3d game engine', 'firebase', 'git', 'oop']\",\n",
       " \"['unity', 'unity 3d game engine', 'oop', 'git', 'firebase']\",\n",
       " \"['unity', 'unity 3d game engine', 'oop', 'git', 'firebase']\",\n",
       " \"['react native', 'python', 'flask']\",\n",
       " \"['golang', 'linux', 'docker', 'sql', 'elasticsearch']\",\n",
       " '[]',\n",
       " \"['trí tuệ nhân tạo', 'khoa học dữ liệu', 'học máy', 'xác suất thống kê', 'tổ hợp']\",\n",
       " \"['trí tuệ nhân tạo', 'khoa học dữ liệu', 'học máy', 'xác suất thống kê', 'tổ hợp']\",\n",
       " \"['python', 'java', 'c#', 'javascript', 'html']\",\n",
       " \"['devops', 'ui/ux', 'saas']\",\n",
       " \"['devops', 'ui/ux', 'saas']\",\n",
       " \"['devops', 'ui/ux', 'saas']\",\n",
       " \"['devops', 'ui/ux', 'saas']\",\n",
       " \"['flutter', 'full-stack', 'js']\",\n",
       " \"['.net', 'java', 'javascript', 'ms sql', 'oracle']\",\n",
       " \"['.net', 'java', 'javascript', 'ms sql', 'oracle']\",\n",
       " \"['quality assurance', 'qa', 'product owner', 'developer', 'artist']\",\n",
       " \"['quality assurance', 'qa', 'product owner', 'developer', 'artist']\",\n",
       " \"['quality assurance', 'qa', 'product owner', 'developer', 'artist']\",\n",
       " \"['quality assurance', 'qa', 'product owner', 'developer', 'artist']\",\n",
       " \"['quality assurance', 'qa', 'product owner', 'developer', 'artist']\",\n",
       " \"['quality assurance', 'qa', 'product owner', 'developer', 'artist']\",\n",
       " \"['application security', 'automation', 'api', 'mobile automation', 'bảo mật thông tin']\",\n",
       " \"['matlab', 'c/c++', 'uml', 'simulink', 'stateflow']\",\n",
       " \"['matlab', 'c/c++', 'uml', 'simulink', 'stateflow']\",\n",
       " \"['c#', 'c++', 'sql', 'cntt', 'dba']\",\n",
       " \"['c#', 'c++', 'sql', 'cntt', 'dba']\",\n",
       " \"['c#', 'c++', 'sql', 'cntt', 'dba']\",\n",
       " \"['php', 'cms']\",\n",
       " \"['java', 'html', 'css', 'javascript', 'sql server']\",\n",
       " \"['java', 'html', 'css', 'javascript', 'sql server']\",\n",
       " \"['java', 'html', 'css', 'javascript', 'sql server']\",\n",
       " \"['blockchain', 'cosmos sdk', 'evm', 'docker', 'linux']\",\n",
       " \"['blockchain', 'cosmos sdk', 'evm', 'docker', 'linux']\",\n",
       " \"['blockchain', 'cosmos sdk', 'evm', 'docker', 'linux']\",\n",
       " \"['blockchain', 'cosmos sdk', 'evm', 'docker', 'linux']\",\n",
       " \"['blockchain', 'cosmos sdk', 'evm', 'docker', 'linux']\",\n",
       " \"['blockchain', 'cosmos sdk', 'evm', 'docker', 'linux']\",\n",
       " \"['devops']\",\n",
       " \"['.net', 'java', 'manual tester', 'data engineer']\",\n",
       " \"['robot', 'gps', 'toán', 'máy tính', 'drone']\",\n",
       " \"['robot', 'gps', 'toán', 'máy tính', 'drone']\",\n",
       " \"['robot', 'gps', 'toán', 'máy tính', 'drone']\",\n",
       " \"['robot', 'gps', 'toán', 'máy tính', 'drone']\",\n",
       " '[]',\n",
       " '[]',\n",
       " \"['ai', 'phân tích dữ liệu lớn', 'học sâu', 'tối ưu hóa quyết định', 'internet of things']\",\n",
       " \"['ai', 'phân tích dữ liệu lớn', 'học sâu', 'tối ưu hóa quyết định', 'internet of things']\",\n",
       " \"['ai', 'phân tích dữ liệu lớn', 'học sâu', 'tối ưu hóa quyết định', 'internet of things']\",\n",
       " \"['ai', 'phân tích dữ liệu lớn', 'học sâu', 'tối ưu hóa quyết định', 'internet of things']\",\n",
       " \"['ai', 'phân tích dữ liệu lớn', 'học sâu', 'tối ưu hóa quyết định', 'internet of things']\",\n",
       " \"['ai', 'phân tích dữ liệu lớn', 'học sâu', 'tối ưu hóa quyết định', 'internet of things']\",\n",
       " \"['ai', 'phân tích dữ liệu lớn', 'học sâu', 'tối ưu hóa quyết định', 'internet of things']\",\n",
       " \"['ai', 'phân tích dữ liệu lớn', 'học sâu', 'tối ưu hóa quyết định', 'internet of things']\",\n",
       " \"['java', 'low-code platform', 'agile']\",\n",
       " \"['php', 'ruby on rails', 'full-stack js', 'devops', 'qc']\",\n",
       " \"['phát triển phần mềm', 'phát triển phần cứng']\",\n",
       " \"['java', '.net', 'php', 'reactjs', 'vuejs']\",\n",
       " \"['java', '.net', 'php', 'reactjs', 'vuejs']\",\n",
       " \"['software engineer']\",\n",
       " '[]',\n",
       " \"['python']\",\n",
       " \"['reactjs', 'java', 'devops']\",\n",
       " \"['unity', 'unreal engine']\",\n",
       " \"['typescript', 'php', 'ruby']\",\n",
       " \"['java', '.net', 'nodejs', 'ux/ui']\",\n",
       " \"['java', '.net', 'nodejs', 'ux/ui']\",\n",
       " \"['java', 'php', 'python', 'javascript', 'typescript']\",\n",
       " \"['java', 'php', 'python', 'javascript', 'typescript']\",\n",
       " \"['tin học văn phòng']\",\n",
       " \"['php', 'ruby on rails', 'full-stack js']\",\n",
       " \"['cntt', 'phần mềm', 'ngôn ngữ lập trình', 'phát triển phần mềm', 'quản lý source code']\",\n",
       " \"['cntt', 'phần mềm', 'ngôn ngữ lập trình', 'phát triển phần mềm', 'quản lý source code']\",\n",
       " \"['cntt', 'phần mềm', 'ngôn ngữ lập trình', 'phát triển phần mềm', 'quản lý source code']\",\n",
       " \"['cntt', 'phần mềm', 'ngôn ngữ lập trình', 'phát triển phần mềm', 'quản lý source code']\",\n",
       " \"['cntt', 'phần mềm', 'ngôn ngữ lập trình', 'phát triển phần mềm', 'quản lý source code']\",\n",
       " \"['cntt', 'phần mềm', 'ngôn ngữ lập trình', 'phát triển phần mềm', 'quản lý source code']\",\n",
       " \"['cntt', 'phần mềm', 'ngôn ngữ lập trình', 'phát triển phần mềm', 'quản lý source code']\",\n",
       " \"['ms sql', 'asp.net', 'html', 'javascript', 'reactjs']\",\n",
       " \"['ms sql', 'asp.net', 'html', 'javascript', 'reactjs']\",\n",
       " \"['ms sql', 'asp.net', 'html', 'javascript', 'reactjs']\",\n",
       " \"['ms sql', 'asp.net', 'html', 'javascript', 'reactjs']\",\n",
       " \"['ms sql', 'asp.net', 'html', 'javascript', 'reactjs']\",\n",
       " \"['ms sql', 'asp.net', 'html', 'javascript', 'reactjs']\",\n",
       " \"['javascript', 'angular', 'java', '.net', 'sql']\",\n",
       " \"['javascript', 'angular', 'java', '.net', 'sql']\",\n",
       " \"['it']\",\n",
       " \"['java', 'html', 'css', 'javascript', 'sql server']\",\n",
       " \"['java', 'html', 'css', 'javascript', 'sql']\",\n",
       " \"['java', 'html', 'css', 'javascript', 'sql server']\",\n",
       " \"['rpa', 'uipath', 'akabot', 'vb.net', 'c#']\",\n",
       " \"['rpa', 'uipath', 'akabot', 'vb.net', 'c#']\",\n",
       " \"['python', 'cuda', 'tensorflow', 'pytorch', 'scikit-learn']\",\n",
       " \"['python', 'cuda', 'tensorflow', 'pytorch', 'scikit-learn']\",\n",
       " \"['java']\",\n",
       " \"['flutter', 'qc']\",\n",
       " \"['công nghệ thông tin', 'khoa học máy tính']\",\n",
       " \"['algorithms', 'data structures', 'cuda', 'deep learning', 'reinforcement learning']\",\n",
       " \"['data structures', 'algorithms', 'agile development', 'devops', 'kubernetes']\",\n",
       " \"['.net', 'c #', 'mvc', 'asp.net core', 'asp.net api']\",\n",
       " \"['c#/.net', 'java', 'nodejs', 'manual tester', 'automation tester']\",\n",
       " \"['c#/.net', 'java', 'nodejs', 'manual tester', 'automation tester']\",\n",
       " \"['saas', 'data engineer', 'data analyst', 'data scientist', 'software engineer']\",\n",
       " \"['saas', 'data engineer', 'data analyst', 'data scientist', 'software engineer']\",\n",
       " \"['saas', 'data engineer', 'data analyst', 'data scientist', 'software engineer']\",\n",
       " \"['saas', 'data engineer', 'data analyst', 'data scientist', 'software engineer']\",\n",
       " \"['reactjs', 'photoshop', 'sketch', 'adobe xd', 'oop']\",\n",
       " \"['reactjs', 'photoshop', 'sketch', 'adobe xd', 'oop']\",\n",
       " \"['low-code', 'frontend', 'backend', 'java', 'net']\",\n",
       " \"['low-code', 'frontend', 'backend', 'java', 'net']\",\n",
       " \"['java', 'agile methodologies', 'object-oriented programming', 'data modelling', 'unit testing']\",\n",
       " \"['php', 'ruby on rails', 'full-stack js']\",\n",
       " \"['php', 'ruby on rails', 'full-stack js', 'ai/ml', 'wordpress']\",\n",
       " \"['toefl', 'ielts', 'duolingo', 'toefl essentials']\",\n",
       " \"['toefl', 'ielts', 'duolingo', 'toefl essentials']\",\n",
       " \"['it', 'gbp', 'uk', 'gcbc', 'ocean']\",\n",
       " \"['it', 'gbp', 'uk', 'gcbc', 'ocean']\",\n",
       " \"['it', 'gbp', 'uk', 'gcbc', 'ocean']\",\n",
       " \"['']\",\n",
       " \"['php', 'ai', 'ml', 'golang']\",\n",
       " \"['mạng xã hội', 'phần mềm ứng dụng', 'quản trị mạng']\",\n",
       " \"['mạng xã hội', 'phần mềm ứng dụng', 'quản trị mạng']\",\n",
       " \"['.net', 'out systems platform', 'low-code development platform', 'cmm/cmmi']\",\n",
       " \"['machine learning', 'computer vision', 'natural language processing', 'deep learning', 'artificial intelligence']\",\n",
       " \"['machine learning', 'computer vision', 'natural language processing', 'deep learning', 'artificial intelligence']\",\n",
       " \"['machine learning', 'computer vision', 'natural language processing', 'deep learning', 'artificial intelligence']\",\n",
       " \"['machine learning', 'computer vision', 'natural language processing', 'deep learning', 'artificial intelligence']\",\n",
       " \"['machine learning', 'computer vision', 'natural language processing', 'deep learning', 'artificial intelligence']\",\n",
       " \"['machine learning', 'computer vision', 'natural language processing', 'deep learning', 'artificial intelligence']\",\n",
       " \"['machine learning', 'computer vision', 'natural language processing', 'deep learning', 'artificial intelligence']\",\n",
       " \"['python', 'machine learning', 'embedded linux', 'c/c++', 'cloud']\",\n",
       " \"['python', 'machine learning', 'embedded linux', 'c/c++', 'cloud']\",\n",
       " \"['sql', 'c#', '.net']\",\n",
       " \"['sql', 'c#', '.net']\",\n",
       " \"['sql', 'c#', '.net']\",\n",
       " \"['sql', 'c#', '.net']\",\n",
       " \"['sql', 'c#', '.net']\",\n",
       " \"['sql', 'c#', '.net']\",\n",
       " \"['sql', 'c#', '.net']\",\n",
       " \"['dot net', 'cntt', 'csdl']\",\n",
       " \"['dot net', 'cntt', 'csdl']\",\n",
       " \"['ruby', 'php', 'full-stack js', 'flutter']\",\n",
       " \"['cntt']\",\n",
       " \"['angular', 'react', 'python', 'java', 'php']\",\n",
       " \"['angular', 'react', 'python', 'java', 'php']\",\n",
       " \"['học máy', 'thị giác máy tính', 'xử lý ngôn ngữ tự nhiên', 'khoa học máy tính', 'robot']\",\n",
       " \"['']\",\n",
       " \"['']\",\n",
       " \"['cntt']\",\n",
       " \"['khoa học máy tính', 'công nghệ thông tin']\",\n",
       " \"['c#', 'wpf', 'oracle sql']\",\n",
       " \"['c#', 'wpf', 'oracle sql']\",\n",
       " \"['golang', 'it', 'software engineering', 'computerscience', 'programming']\",\n",
       " \"['software development', 'itsm', 'microsoft system center operations manager', 'windows server', 'scom']\",\n",
       " \"['software development', 'microsoft system center operations manager', 'windows server', 'itsm', 'scom']\",\n",
       " \"['it', 'toeic', 'ielts', 'icpc', 'acm']\",\n",
       " \"['algorithms', 'data structures', 'cuda', 'c++', 'deep learning']\",\n",
       " \"['javascript', 'servicenow']\",\n",
       " \"['javascript', 'servicenow']\",\n",
       " \"['javascript', 'servicenow']\",\n",
       " \"['javascript', 'servicenow']\",\n",
       " \"['vmware', 'openstack', 'kafka', 'kubernetes', 'docker']\",\n",
       " \"['vmware', 'openstack', 'kafka', 'kubernetes', 'docker']\",\n",
       " \"['vmware', 'openstack', 'kafka', 'kubernetes', 'docker']\",\n",
       " \"['software engineer']\",\n",
       " \"['databricks', 'aws', 'sap', 'da', 'ba']\",\n",
       " \"['databricks', 'aws', 'sap', 'da', 'ba']\",\n",
       " \"['ruby', 'php', 'flutter', 'python', 'full-stack js']\",\n",
       " \"['sql', 'c#', 'html', 'javascript', 'css']\",\n",
       " \"['sql', 'c#', 'html', 'javascript', 'css']\",\n",
       " \"['java', 'c#', 'react', 'angular', 'c/c++']\",\n",
       " \"['it', 'cntt']\",\n",
       " \"['information science', 'gpu', 'server', 'khoa học máy tính', 'trí tuệ nhân tạo']\",\n",
       " \"['information science', 'gpu', 'server', 'khoa học máy tính', 'trí tuệ nhân tạo']\",\n",
       " \"['java', 'sql', 'oop', 'spring boot', 'mvc']\",\n",
       " \"['java', 'selenium', 'api', 'html', 'javascript']\",\n",
       " \"['java', 'selenium', 'api', 'html', 'javascript']\",\n",
       " \"['java', 'selenium', 'api', 'html', 'javascript']\",\n",
       " \"['java', 'selenium', 'api', 'html', 'css']\",\n",
       " \"['java', 'selenium', 'api', 'html', 'javascript']\",\n",
       " \"['java', 'selenium', 'api', 'html', 'javascript']\",\n",
       " \"['java', 'selenium', 'api', 'html', 'javascript']\",\n",
       " \"['cntt', 'ngôn ngữ lập trình', 'cấu trúc dữ liệu', 'giải thuật']\",\n",
       " \"['']\",\n",
       " \"['java', 'sql', 'spring boot', 'mvc', 'oop']\",\n",
       " \"['java', 'python', 'reactjs', 'angular', 'nodejs']\",\n",
       " \"['java', 'python', 'reactjs', 'angular', 'nodejs']\",\n",
       " \"['trí tuệ nhân tạo', 'cntt']\",\n",
       " \"['giao dịch thuật toán']\",\n",
       " \"['python', 'machine learning', 'asic', 'soc', 'ai']\",\n",
       " \"['flutter', 'rest api', 'graphql', 'firebase', 'sms login']\",\n",
       " \"['phần mềm độc hại', 'bảo mật', 'an ninh mạng', 'hạ tầng trọng yếu', 'lỗ hổng bảo mật']\",\n",
       " \"['phần mềm độc hại', 'bảo mật', 'an ninh mạng', 'phòng thí nghiệm', 'cơ sở hạ tầng']\",\n",
       " \"['máy tính', 'công nghệ thông tin', 'mạng máy tính', 'khoa học máy tính', 'thị giác máy tính']\",\n",
       " \"['máy tính', 'công nghệ thông tin', 'mạng máy tính', 'khoa học máy tính', 'thị giác máy tính']\",\n",
       " \"['máy tính', 'công nghệ thông tin', 'mạng máy tính', 'khoa học máy tính', 'thị giác máy tính']\",\n",
       " \"['máy tính', 'công nghệ thông tin', 'hệ thống thông tin', 'khoa học máy tính', 'mạng máy tính']\",\n",
       " \"['máy tính', 'công nghệ thông tin', 'mạng máy tính', 'khoa học máy tính', 'thị giác máy tính']\",\n",
       " \"['game designer']\",\n",
       " \"['.net', 'nodejs', 'reactjs']\"]"
      ]
     },
     "execution_count": 148,
     "metadata": {},
     "output_type": "execute_result"
    }
   ],
   "source": [
    "keywords = [keyword.replace('<|eom_id|>','').lower() for keyword in keywords]\n",
    "keywords"
   ]
  },
  {
   "cell_type": "code",
   "execution_count": 149,
   "metadata": {},
   "outputs": [],
   "source": [
    "import ast \n",
    "keywords = [ast.literal_eval(keyword) for keyword in keywords]"
   ]
  },
  {
   "cell_type": "code",
   "execution_count": 153,
   "metadata": {},
   "outputs": [],
   "source": [
    "keywords = [str(keyword) for keyword in keywords]"
   ]
  },
  {
   "cell_type": "code",
   "execution_count": 154,
   "metadata": {},
   "outputs": [],
   "source": [
    "df.loc[df['type'].isin(['recruitment', 'scholarship']), 'keywords'] = keywords"
   ]
  },
  {
   "cell_type": "code",
   "execution_count": 155,
   "metadata": {},
   "outputs": [
    {
     "name": "stdout",
     "output_type": "stream",
     "text": [
      "<class 'pandas.core.frame.DataFrame'>\n",
      "RangeIndex: 994 entries, 0 to 993\n",
      "Data columns (total 14 columns):\n",
      " #   Column       Non-Null Count  Dtype  \n",
      "---  ------       --------------  -----  \n",
      " 0   title        994 non-null    object \n",
      " 1   article      994 non-null    object \n",
      " 2   file_links   994 non-null    object \n",
      " 3   url          994 non-null    object \n",
      " 4   type         994 non-null    object \n",
      " 5   created_at   994 non-null    object \n",
      " 6   school_year  994 non-null    int32  \n",
      " 7   in_effect    994 non-null    int64  \n",
      " 8   chunks       994 non-null    object \n",
      " 9   chunk_ids    994 non-null    int64  \n",
      " 10  embedding    994 non-null    object \n",
      " 11  is_active    994 non-null    bool   \n",
      " 12  location     266 non-null    float64\n",
      " 13  keywords     994 non-null    object \n",
      "dtypes: bool(1), float64(1), int32(1), int64(2), object(9)\n",
      "memory usage: 98.2+ KB\n"
     ]
    }
   ],
   "source": [
    "df.info()"
   ]
  },
  {
   "cell_type": "code",
   "execution_count": 156,
   "metadata": {},
   "outputs": [],
   "source": [
    "df.to_csv('FIT_news_v2.csv', index=False)"
   ]
  },
  {
   "cell_type": "markdown",
   "metadata": {},
   "source": [
    "## majors"
   ]
  },
  {
   "cell_type": "code",
   "execution_count": 163,
   "metadata": {},
   "outputs": [],
   "source": [
    "majors_to_find = [\n",
    "    'công nghệ phần mềm',\n",
    "    'khoa học dữ liệu',\n",
    "    'khoa học máy tính',\n",
    "    'hệ thống thông tin',\n",
    "    'kỹ thuật phần mềm',\n",
    "    'công nghệ thông tin',\n",
    "    'mạng máy tính',\n",
    "    'thị giác máy tính',\n",
    "    'công nghệ tri thức'\n",
    "]"
   ]
  },
  {
   "cell_type": "code",
   "execution_count": 166,
   "metadata": {},
   "outputs": [],
   "source": [
    "articles = df[df['type'].isin(['recruitment', 'scholarship'])]['article'].values\n",
    "majors = [[word for word in majors_to_find if word in article.lower()] for article in articles]"
   ]
  },
  {
   "cell_type": "code",
   "execution_count": 168,
   "metadata": {},
   "outputs": [
    {
     "data": {
      "text/plain": [
       "308"
      ]
     },
     "execution_count": 168,
     "metadata": {},
     "output_type": "execute_result"
    }
   ],
   "source": [
    "len(majors)"
   ]
  },
  {
   "cell_type": "code",
   "execution_count": 170,
   "metadata": {},
   "outputs": [],
   "source": [
    "majors = [str(major) for major in majors]"
   ]
  },
  {
   "cell_type": "code",
   "execution_count": 171,
   "metadata": {},
   "outputs": [],
   "source": [
    "df.loc[df['type'].isin(['recruitment', 'scholarship']), 'majors'] = majors"
   ]
  },
  {
   "cell_type": "markdown",
   "metadata": {},
   "source": [
    "Change \"nan\" strings to `np.nan`"
   ]
  },
  {
   "cell_type": "code",
   "execution_count": 183,
   "metadata": {},
   "outputs": [],
   "source": [
    "import numpy as np\n",
    "\n",
    "df['majors'] = df['majors'].replace('nan', np.nan)\n",
    "df['keywords'] = df['keywords'].replace('nan', np.nan)"
   ]
  },
  {
   "cell_type": "code",
   "execution_count": 184,
   "metadata": {},
   "outputs": [
    {
     "name": "stdout",
     "output_type": "stream",
     "text": [
      "<class 'pandas.core.frame.DataFrame'>\n",
      "RangeIndex: 994 entries, 0 to 993\n",
      "Data columns (total 15 columns):\n",
      " #   Column       Non-Null Count  Dtype  \n",
      "---  ------       --------------  -----  \n",
      " 0   title        994 non-null    object \n",
      " 1   article      994 non-null    object \n",
      " 2   file_links   994 non-null    object \n",
      " 3   url          994 non-null    object \n",
      " 4   type         994 non-null    object \n",
      " 5   created_at   994 non-null    object \n",
      " 6   school_year  994 non-null    int32  \n",
      " 7   in_effect    994 non-null    int64  \n",
      " 8   chunks       994 non-null    object \n",
      " 9   chunk_ids    994 non-null    int64  \n",
      " 10  embedding    994 non-null    object \n",
      " 11  is_active    994 non-null    bool   \n",
      " 12  location     266 non-null    float64\n",
      " 13  keywords     308 non-null    object \n",
      " 14  majors       308 non-null    object \n",
      "dtypes: bool(1), float64(1), int32(1), int64(2), object(10)\n",
      "memory usage: 105.9+ KB\n"
     ]
    }
   ],
   "source": [
    "df.info()"
   ]
  },
  {
   "cell_type": "markdown",
   "metadata": {},
   "source": [
    "## subject"
   ]
  },
  {
   "cell_type": "markdown",
   "metadata": {},
   "source": [
    "subject information is sourced from: https://www.fit.hcmus.edu.vn/dai-hoc/thong-tin-mon-hoc"
   ]
  },
  {
   "cell_type": "code",
   "execution_count": null,
   "metadata": {},
   "outputs": [
    {
     "name": "stdout",
     "output_type": "stream",
     "text": [
      "<class 'pandas.core.frame.DataFrame'>\n",
      "RangeIndex: 179 entries, 0 to 178\n",
      "Data columns (total 26 columns):\n",
      " #   Column                Non-Null Count  Dtype  \n",
      "---  ------                --------------  -----  \n",
      " 0   id                    179 non-null    object \n",
      " 1   maMH                  179 non-null    object \n",
      " 2   code                  179 non-null    object \n",
      " 3   nameEN                179 non-null    object \n",
      " 4   nameVN                179 non-null    object \n",
      " 5   fullName              179 non-null    object \n",
      " 6   credits               179 non-null    int64  \n",
      " 7   theory                179 non-null    int64  \n",
      " 8   lab                   179 non-null    int64  \n",
      " 9   ects                  179 non-null    int64  \n",
      " 10  workload_Lec          179 non-null    int64  \n",
      " 11  workload_Lab          179 non-null    int64  \n",
      " 12  workload_SelfStudy    179 non-null    int64  \n",
      " 13  semester              179 non-null    int64  \n",
      " 14  lecturer              0 non-null      float64\n",
      " 15  language              179 non-null    object \n",
      " 16  relationToCurriculum  179 non-null    object \n",
      " 17  teachingMethods       0 non-null      float64\n",
      " 18  assessment            0 non-null      float64\n",
      " 19  description           0 non-null      float64\n",
      " 20  sortOrder             179 non-null    int64  \n",
      " 21  maKHMT                179 non-null    int64  \n",
      " 22  maKTPM                179 non-null    int64  \n",
      " 23  maHTTT                179 non-null    int64  \n",
      " 24  maCNTT                179 non-null    int64  \n",
      " 25  maTTNT                179 non-null    int64  \n",
      "dtypes: float64(4), int64(14), object(8)\n",
      "memory usage: 36.5+ KB\n"
     ]
    }
   ],
   "source": [
    "df_subjects = pd.read_json('./data/thong-tin-mon-hoc.json')\n",
    "df_subjects.info()"
   ]
  },
  {
   "cell_type": "code",
   "execution_count": 208,
   "metadata": {},
   "outputs": [],
   "source": [
    "subjects_name_ref = df_subjects['nameVN'].str.lower().values.tolist() + df_subjects['nameEN'].str.lower().values.tolist()\n",
    "subjects_code_ref = df_subjects['maMH'].str.lower().values.tolist()"
   ]
  },
  {
   "cell_type": "code",
   "execution_count": 211,
   "metadata": {},
   "outputs": [],
   "source": [
    "articles = df[df['type'] == 'timetable']['article'].values\n",
    "subjects_name = [[word for word in subjects_name_ref if word in article.lower()] for article in articles]\n",
    "subjects_code = [[word for word in subjects_code_ref if word in article.lower()] for article in articles]"
   ]
  },
  {
   "cell_type": "code",
   "execution_count": 213,
   "metadata": {},
   "outputs": [
    {
     "data": {
      "text/plain": [
       "(107, 107)"
      ]
     },
     "execution_count": 213,
     "metadata": {},
     "output_type": "execute_result"
    }
   ],
   "source": [
    "len(subjects_name), len(subjects_code)"
   ]
  },
  {
   "cell_type": "code",
   "execution_count": 216,
   "metadata": {},
   "outputs": [],
   "source": [
    "subjects_name = [str(subject) for subject in subjects_name]\n",
    "subjects_code = [str(subject) for subject in subjects_code]"
   ]
  },
  {
   "cell_type": "code",
   "execution_count": 217,
   "metadata": {},
   "outputs": [],
   "source": [
    "df.loc[df['type'] == 'timetable', 'subjects_name'] = subjects_name\n",
    "df.loc[df['type'] == 'timetable', 'subjects_code'] = subjects_code"
   ]
  },
  {
   "cell_type": "code",
   "execution_count": 219,
   "metadata": {},
   "outputs": [],
   "source": [
    "import numpy as np\n",
    "\n",
    "df['subjects_name'] = df['subjects_name'].replace('nan', np.nan)\n",
    "df['subjects_code'] = df['subjects_code'].replace('nan', np.nan)"
   ]
  },
  {
   "cell_type": "code",
   "execution_count": 223,
   "metadata": {},
   "outputs": [],
   "source": [
    "df.to_csv('FIT_news_v2.csv', index=False)"
   ]
  },
  {
   "cell_type": "markdown",
   "metadata": {},
   "source": [
    "# Add chunk number"
   ]
  },
  {
   "cell_type": "code",
   "execution_count": 224,
   "metadata": {},
   "outputs": [
    {
     "name": "stdout",
     "output_type": "stream",
     "text": [
      "<class 'pandas.core.frame.DataFrame'>\n",
      "RangeIndex: 994 entries, 0 to 993\n",
      "Data columns (total 17 columns):\n",
      " #   Column         Non-Null Count  Dtype  \n",
      "---  ------         --------------  -----  \n",
      " 0   title          994 non-null    object \n",
      " 1   article        994 non-null    object \n",
      " 2   file_links     994 non-null    object \n",
      " 3   url            994 non-null    object \n",
      " 4   type           994 non-null    object \n",
      " 5   created_at     994 non-null    object \n",
      " 6   school_year    994 non-null    int32  \n",
      " 7   in_effect      994 non-null    int64  \n",
      " 8   chunks         994 non-null    object \n",
      " 9   chunk_ids      994 non-null    int64  \n",
      " 10  embedding      994 non-null    object \n",
      " 11  is_active      994 non-null    bool   \n",
      " 12  location       266 non-null    float64\n",
      " 13  keywords       308 non-null    object \n",
      " 14  majors         308 non-null    object \n",
      " 15  subjects_name  107 non-null    object \n",
      " 16  subjects_code  107 non-null    object \n",
      "dtypes: bool(1), float64(1), int32(1), int64(2), object(12)\n",
      "memory usage: 121.5+ KB\n"
     ]
    }
   ],
   "source": [
    "df.info()"
   ]
  },
  {
   "cell_type": "code",
   "execution_count": 227,
   "metadata": {},
   "outputs": [],
   "source": [
    "df.columns = ['title', 'article', 'file_links', 'url', 'type', 'created_at',\n",
    "       'school_year', 'in_effect', 'chunks', 'chunk_id', 'embedding',\n",
    "       'is_active', 'location', 'keywords', 'majors', 'subjects_name',\n",
    "       'subjects_code']"
   ]
  },
  {
   "cell_type": "code",
   "execution_count": 228,
   "metadata": {},
   "outputs": [],
   "source": [
    "df.to_csv('data/FIT_news_v2.csv', index=False)"
   ]
  }
 ],
 "metadata": {
  "kernelspec": {
   "display_name": "Python 3",
   "language": "python",
   "name": "python3"
  },
  "language_info": {
   "codemirror_mode": {
    "name": "ipython",
    "version": 3
   },
   "file_extension": ".py",
   "mimetype": "text/x-python",
   "name": "python",
   "nbconvert_exporter": "python",
   "pygments_lexer": "ipython3",
   "version": "3.12.7"
  }
 },
 "nbformat": 4,
 "nbformat_minor": 2
}
