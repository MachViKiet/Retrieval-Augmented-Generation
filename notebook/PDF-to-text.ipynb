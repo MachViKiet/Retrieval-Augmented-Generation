{
 "cells": [
  {
   "cell_type": "markdown",
   "metadata": {},
   "source": [
    "# Convert .pdf file to image"
   ]
  },
  {
   "cell_type": "code",
   "execution_count": 10,
   "metadata": {},
   "outputs": [],
   "source": [
    "import fitz\n",
    "\n",
    "pdffile = \"CloudGo.pdf\"\n",
    "doc = fitz.open(pdffile)\n",
    "zoom = 4\n",
    "mat = fitz.Matrix(zoom, zoom)\n",
    "count = 0\n",
    "# Count variable is to get the number of pages in the pdf\n",
    "for p in doc:\n",
    "    count += 1\n",
    "for i in range(count):\n",
    "    val = f\"image/image_{i+1}.png\"\n",
    "    page = doc.load_page(i)\n",
    "    pix = page.get_pixmap(matrix=mat)\n",
    "    pix.save(val)\n",
    "doc.close()"
   ]
  },
  {
   "cell_type": "markdown",
   "metadata": {},
   "source": [
    "# Convert image to text by OCR"
   ]
  },
  {
   "cell_type": "code",
   "execution_count": 19,
   "metadata": {},
   "outputs": [
    {
     "name": "stderr",
     "output_type": "stream",
     "text": [
      "Neither CUDA nor MPS are available - defaulting to CPU. Note: This module is much faster with a GPU.\n"
     ]
    }
   ],
   "source": [
    "import easyocr\n",
    "\n",
    "reader = easyocr.Reader(['en'])\n",
    "result = reader.readtext(\"image/OCR.png\", detail=0)"
   ]
  },
  {
   "cell_type": "code",
   "execution_count": 20,
   "metadata": {},
   "outputs": [
    {
     "data": {
      "text/plain": [
       "['Abstract',\n",
       " 'Large',\n",
       " 'Language',\n",
       " 'Models',\n",
       " '(LLMs)',\n",
       " 'demonstrate',\n",
       " 'significant   capabilities',\n",
       " 'but',\n",
       " 'face',\n",
       " 'challenges   such',\n",
       " 'hallucinalion;',\n",
       " 'ouldaled   knowledge:',\n",
       " 'anU',\n",
       " 'non',\n",
       " '[ransparenl',\n",
       " 'untraceahle',\n",
       " 'reasoning',\n",
       " 'processes',\n",
       " 'Retrieval-Augmented',\n",
       " 'Gencration',\n",
       " '(RAG)',\n",
       " 'has',\n",
       " 'emerged as',\n",
       " 'promising solution by incorporating',\n",
       " 'knowledge from external databases_',\n",
       " 'This enhances',\n",
       " 'the accuracy and credibility of the models, particu-',\n",
       " 'larly for knowledge-intensive tasks_',\n",
       " 'and allows for',\n",
       " 'Cannuous',\n",
       " 'knowledge updales and inlegralion ol',\n",
       " 'domamn-',\n",
       " '~specific information:',\n",
       " 'RAG synergistically',\n",
       " \"merges LLMs'\",\n",
       " 'intrinsic knowledge with the vast,',\n",
       " 'dynamic repositories of external databases;',\n",
       " 'comprehensive',\n",
       " 'review',\n",
       " 'paper',\n",
       " 'ollers',\n",
       " 'delailed',\n",
       " 'examination of the progression of RAG paradigms',\n",
       " 'encompassing the Naive RAG, the Advaneed RAG',\n",
       " 'and the Modular RAG_',\n",
       " 'It meticulously scrutinizes',\n",
       " 'the',\n",
       " '(ripartite',\n",
       " 'foundation',\n",
       " 'RAG',\n",
       " 'frameworks.',\n",
       " 'which includes the retrieval',\n",
       " 'the generation and',\n",
       " 'the augmenlalion lechniques. The paper highlights',\n",
       " 'Lhe',\n",
       " 'Stale-o-the-arL',\n",
       " 'Lechnologies',\n",
       " 'emhedded',\n",
       " 'each',\n",
       " 'these',\n",
       " 'critical',\n",
       " 'components.',\n",
       " 'providing',\n",
       " 'profound understanding',\n",
       " 'of the advancements',\n",
       " 'RAG systems_',\n",
       " 'Furthermore,',\n",
       " 'this paper introduces',\n",
       " 'Lhe  meincs',\n",
       " '\"nd',\n",
       " 'henchmark:',\n",
       " 'assessing RAG',\n",
       " 'models',\n",
       " 'along with the most Up-to-date evaluation',\n",
       " 'ramework.',\n",
       " 'In   conelusion, the paper delineales',\n",
       " 'prospective',\n",
       " 'avenues tor research',\n",
       " 'including',\n",
       " 'identilication',\n",
       " 'the',\n",
       " 'expansion',\n",
       " 'multi-modalities, and the progression of the RAG',\n",
       " 'inlrastruclure and ilS ecosyslem',\n",
       " 'This',\n",
       " 'challenges:']"
      ]
     },
     "execution_count": 20,
     "metadata": {},
     "output_type": "execute_result"
    }
   ],
   "source": [
    "result"
   ]
  }
 ],
 "metadata": {
  "kernelspec": {
   "display_name": "venv",
   "language": "python",
   "name": "python3"
  },
  "language_info": {
   "codemirror_mode": {
    "name": "ipython",
    "version": 3
   },
   "file_extension": ".py",
   "mimetype": "text/x-python",
   "name": "python",
   "nbconvert_exporter": "python",
   "pygments_lexer": "ipython3",
   "version": "3.12.4"
  }
 },
 "nbformat": 4,
 "nbformat_minor": 2
}
