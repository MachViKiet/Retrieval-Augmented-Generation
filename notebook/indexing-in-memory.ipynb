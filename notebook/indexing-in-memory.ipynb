{
 "cells": [
  {
   "cell_type": "code",
   "execution_count": 1,
   "metadata": {},
   "outputs": [],
   "source": [
    "import sys\n",
    "\n",
    "sys.path.insert(0, '../')"
   ]
  },
  {
   "cell_type": "code",
   "execution_count": 2,
   "metadata": {},
   "outputs": [],
   "source": [
    "from framework.storages.database.ChromaDB import ChromaDB"
   ]
  },
  {
   "cell_type": "code",
   "execution_count": 3,
   "metadata": {},
   "outputs": [],
   "source": [
    "db = ChromaDB()"
   ]
  },
  {
   "cell_type": "code",
   "execution_count": 4,
   "metadata": {},
   "outputs": [],
   "source": [
    "collection = db.create_collection(\"test\")"
   ]
  },
  {
   "cell_type": "code",
   "execution_count": 5,
   "metadata": {},
   "outputs": [
    {
     "name": "stdout",
     "output_type": "stream",
     "text": [
      "<class 'pandas.core.frame.DataFrame'>\n",
      "RangeIndex: 78 entries, 0 to 77\n",
      "Data columns (total 3 columns):\n",
      " #   Column    Non-Null Count  Dtype \n",
      "---  ------    --------------  ----- \n",
      " 0   Title     78 non-null     object\n",
      " 1   Chunk ID  78 non-null     int64 \n",
      " 2   Content   78 non-null     object\n",
      "dtypes: int64(1), object(2)\n",
      "memory usage: 2.0+ KB\n"
     ]
    }
   ],
   "source": [
    "import pandas as pd\n",
    "\n",
    "df = pd.read_csv('..\\documentation\\TT 29 TDKT.csv')\n",
    "df.info()"
   ]
  },
  {
   "cell_type": "code",
   "execution_count": 6,
   "metadata": {},
   "outputs": [],
   "source": [
    "metas = [\n",
    "    {\n",
    "        \"Title\": val[0],\n",
    "        \"Chunk ID\": val[1]\n",
    "    }\n",
    "    for val in df.values\n",
    "]"
   ]
  },
  {
   "cell_type": "code",
   "execution_count": 7,
   "metadata": {},
   "outputs": [],
   "source": [
    "db.add_documents(collection, documents=list(df['Content'].values), metadatas=metas)"
   ]
  },
  {
   "cell_type": "code",
   "execution_count": 10,
   "metadata": {},
   "outputs": [
    {
     "data": {
      "text/plain": [
       "{'ids': [['67', '4', '33', '71']],\n",
       " 'distances': [[0.5311107635498047,\n",
       "   0.5631982088088989,\n",
       "   0.5974867343902588,\n",
       "   0.6034284234046936]],\n",
       " 'metadatas': [[{'Chunk ID': 67, 'Title': 'TT 29 TDKT _ short.txt'},\n",
       "   {'Chunk ID': 4, 'Title': 'TT 29 TDKT _ short.txt'},\n",
       "   {'Chunk ID': 33, 'Title': 'TT 29 TDKT _ short.txt'},\n",
       "   {'Chunk ID': 71, 'Title': 'TT 29 TDKT _ short.txt'}]],\n",
       " 'embeddings': None,\n",
       " 'documents': [['thưởng của đơn vị trình.\\nĐiều 15. Hiệu lực thi hành và trách nhiệm thi hành\\n1. Thông tư này có hiệu lực thi hành kể từ ngày 15 tháng 02 năm 2024\\nvà thay thế Thông tư số 21/2020/TT-BGDĐT ngày 31 tháng 7 năm 2020 của\\nBộ trưởng Bộ Giáo dục và Đào tạo hướng dẫn công tác thi đua, khen thưởng\\nngành Giáo dục.\\nUrew\\n11\\n2. Trường hợp các văn bản quy phạm pháp luật được dẫn chiếu tại Thông',\n",
       "   '84 của Luật Thi đua, khen thưởng.\\n2. Thông tư này áp dụng đối với tập thể, cán bộ, công chức, viên chức,\\nngười lao động trong ngành Giáo dục; người học; tập thể, hộ gia đình, cá nhân\\nngười Việt Nam, người Việt Nam định cư ở nước ngoài; tập thể và người nước\\nngoài có thành tích đóng góp cho sự nghiệp xây dựng và phát triển giáo dục, đào',\n",
       "   'theo chế độ bảo hiểm xã hội, chưa được Bộ trưởng Bộ Giáo dục và Đào tạo tặng\\nBằng khen.\\nдреб\\n6\\n2. Bằng khen của Bộ trưởng Bộ Giáo dục và Đào tạo để tặng cho tập thể\\nmẫu chấp hành tốt chủ trương của Đảng, chính sách, pháp luật của Nhà\\nnước, nội bộ đoàn kết, đạt một trong các tiêu chuẩn sau:\\ngương\\na) Đạt tiêu chuẩn như quy định tại điểm a khoản 1 Điều này;',\n",
       "   'Hội Khuyến học Việt Nam;\\n- Công báo; Cổng thông tin điện tử Chính phủ;\\n- Như Điều 15 (để thực hiện);\\n- Cổng thông tin điện tử của Bộ Giáo dục và Đào tạo;\\n- Lưu: VT, Vụ PC, Vụ TCCB (05b).\\nOYID\\nDỤC\\nKT. BỘ TRƯỞNG\\nTHỨ TRƯỞNG\\nVA\\nNgô Thị Minh\\nÔ GIÁO DỤC VÀ ĐÀO TẠO\\nPhụ lục\\nu đề nghị xét tặng Kỷ niệm chương “Vì sự nghiệp giáo dục”\\nthan theo Thông tư số 29/2023/TT-BGDĐT ngày 29 tháng 12 năm 2023']],\n",
       " 'uris': None,\n",
       " 'data': None,\n",
       " 'included': ['metadatas', 'documents', 'distances']}"
      ]
     },
     "execution_count": 10,
     "metadata": {},
     "output_type": "execute_result"
    }
   ],
   "source": [
    "db.search(collection, [\"Đối tượng áp dụng thông tư\"], n_results=4)"
   ]
  }
 ],
 "metadata": {
  "kernelspec": {
   "display_name": "Python 3",
   "language": "python",
   "name": "python3"
  },
  "language_info": {
   "codemirror_mode": {
    "name": "ipython",
    "version": 3
   },
   "file_extension": ".py",
   "mimetype": "text/x-python",
   "name": "python",
   "nbconvert_exporter": "python",
   "pygments_lexer": "ipython3",
   "version": "3.11.9"
  }
 },
 "nbformat": 4,
 "nbformat_minor": 2
}
